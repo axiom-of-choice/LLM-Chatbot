{
 "cells": [
  {
   "cell_type": "code",
   "execution_count": 1,
   "metadata": {},
   "outputs": [
    {
     "name": "stderr",
     "output_type": "stream",
     "text": [
      "/Users/isaac/FundamentlPartners/abinvenv-sol/venv/lib/python3.10/site-packages/tqdm/auto.py:21: TqdmWarning: IProgress not found. Please update jupyter and ipywidgets. See https://ipywidgets.readthedocs.io/en/stable/user_install.html\n",
      "  from .autonotebook import tqdm as notebook_tqdm\n"
     ]
    }
   ],
   "source": [
    "from transformers import BloomTokenizerFast, BloomForQuestionAnswering, BloomForCausalLM, TrainingArguments, Trainer\n",
    "import os\n",
    "from dotenv import load_dotenv\n",
    "from langchain.embeddings import HuggingFaceEmbeddings\n",
    "import pinecone\n",
    "from langchain.vectorstores import Pinecone\n",
    "from langchain.chains import RetrievalQA\n",
    "from langchain import HuggingFaceHub\n",
    "from langchain.prompts import PromptTemplate\n"
   ]
  },
  {
   "cell_type": "code",
   "execution_count": 2,
   "metadata": {},
   "outputs": [
    {
     "data": {
      "text/plain": [
       "True"
      ]
     },
     "execution_count": 2,
     "metadata": {},
     "output_type": "execute_result"
    }
   ],
   "source": [
    "load_dotenv()"
   ]
  },
  {
   "cell_type": "code",
   "execution_count": 10,
   "metadata": {},
   "outputs": [],
   "source": [
    "\n",
    "# Save it into pinecone\n",
    "API_KEY = os.environ.get(\"PINECONE_API_KEY\")\n",
    "YOUR_ENV = os.environ.get(\"PINECONE_ENVIRONMENT\", \"us-west4-gcp-free\")\n",
    "index_name = \"test-langchain\"\n",
    "OPENAI_API_KEY = os.environ.get(\"OPEN_AI_KEY\")"
   ]
  },
  {
   "cell_type": "code",
   "execution_count": 4,
   "metadata": {},
   "outputs": [
    {
     "data": {
      "text/plain": [
       "IndexDescription(name='test-langchain', metric='cosine', replicas=1, dimension=384.0, shards=1, pods=1, pod_type='p1', status={'ready': True, 'state': 'Ready'}, metadata_config=None, source_collection='')"
      ]
     },
     "execution_count": 4,
     "metadata": {},
     "output_type": "execute_result"
    }
   ],
   "source": [
    "pinecone.init(\n",
    "    api_key=API_KEY,\n",
    "    environment=YOUR_ENV\n",
    ")\n",
    "\n",
    "if len(pinecone.list_indexes()) == 0:\n",
    "    pinecone.create_index(name=index_name, metric=\"cosine\", shards=1, dimension=len(res[0]))\n",
    "\n",
    "pinecone.describe_index(pinecone.list_indexes()[0])"
   ]
  },
  {
   "cell_type": "code",
   "execution_count": 7,
   "metadata": {},
   "outputs": [],
   "source": [
    "text_field = \"text\"\n",
    "\n",
    "index = pinecone.Index(index_name)"
   ]
  },
  {
   "cell_type": "code",
   "execution_count": 5,
   "metadata": {},
   "outputs": [],
   "source": [
    "embeddings = HuggingFaceEmbeddings(model_name = \"sentence-transformers/all-MiniLM-L6-v2\")"
   ]
  },
  {
   "cell_type": "code",
   "execution_count": 8,
   "metadata": {},
   "outputs": [],
   "source": [
    "vectorstore = Pinecone(index, embeddings.embed_query, text_field)"
   ]
  },
  {
   "cell_type": "code",
   "execution_count": 12,
   "metadata": {},
   "outputs": [],
   "source": [
    "from langchain.chat_models import ChatOpenAI\n",
    "from langchain.chains import RetrievalQA\n",
    "\n",
    "# completion llm\n",
    "llm = ChatOpenAI(\n",
    "    openai_api_key=OPENAI_API_KEY,\n",
    "    model_name='gpt-3.5-turbo',\n",
    "    temperature=0.0\n",
    ")\n",
    "\n",
    "qa = RetrievalQA.from_chain_type(\n",
    "    llm=llm,\n",
    "    chain_type=\"stuff\",\n",
    "    retriever=vectorstore.as_retriever()\n",
    ")"
   ]
  },
  {
   "cell_type": "code",
   "execution_count": 52,
   "metadata": {},
   "outputs": [
    {
     "data": {
      "text/plain": [
       "[Document(page_content='The GX4000 was a console made by Amstrad in 1990. At first, it was successful. But it did not continue its early success. The GX4000 games could be used with other Amstrad computers. Only 40 games were made for it. Soon it disappeared into the mist of history. These days it is very rare to see one that is still in working condition.\\n\\nVideo game consoles\\n\\nde:Amstrad GX4000', metadata={'chunk': 0.0, 'source': 'https://simple.wikipedia.org/wiki/GX4000', 'title': 'GX4000', 'wiki-id': '17530'}),\n",
       " Document(page_content='Video games are electronic games played on a video screen (normally a television, a built-in screen when played on a handheld machine, or a computer).\\n\\nThere are many types, or genres, of these games: role-playing games; shooters, first-person shooters, side-scrollers, and platformers are just a few. \\n\\nVideo games usually come on CDs, DVDs or digital download. Many games used to come on cartridges. A specialized device used to play a video game at home is called a console. There have been many types of consoles and home computers used to play video games. Some of the first were the Atari 2600, the Sega Master System and Nintendo Entertainment System in the 1980s. Newer video game consoles are the Xbox Series X, PlayStation 5 and Nintendo Switch. The best selling video game console of all time is the PlayStation 2, made by Sony.\\n\\nPeople can also use computers to play games, which are sometimes called PC games. The older consoles do not have new games developed for them often, although console games are emulated for PCs (see emulator). This means that new computers can play many old console games along with games made just for new computers. Older games are often more popular emulated than when they were first on sale, because of the ease of download.\\n\\nPeople can play portable video games anywhere. Mobile devices (running operating systems such as iOS or Android) also can download games, making them portable game machines. Mobile phones have many games, some of them using a mobile emulator for games from consoles. Not all PC or console Games are on mobile or iPad/ iPod/Tablet.\\n\\nCompetitions of video game players are called electronic sports.', metadata={'chunk': 0.0, 'source': 'https://simple.wikipedia.org/wiki/Video%20game', 'title': 'Video game', 'wiki-id': '4017'}),\n",
       " Document(page_content='The GP2X is a handheld gaming console. It uses the Linux operating system. An operating system goes inside another system. It helps the other system do what it needs to. The GP2X can have music, videos, games, and pictures. There are updates to the GP2X so it will get more things. The GP2X can have DivX, XviD, MP3, and Ogg Vorbis. DivX and XviD are ways to keep videos and MP3 and Ogg Vorbis can keep music. It can also be able to emulate video games. Emulating means you copy a system. It can emulate systems like the Nintendo Entertainment System, Sega Master System, Turbo Grafx 16, Game Boy, Super Nintendo Entertainment System, and Genesis.\\n\\nOther websites \\n Germany, Austria and Switzerland (GP2x.de) Official distributor.\\n\\nHandheld video games', metadata={'chunk': 0.0, 'source': 'https://simple.wikipedia.org/wiki/GP2X', 'title': 'GP2X', 'wiki-id': '17193'})]"
      ]
     },
     "execution_count": 52,
     "metadata": {},
     "output_type": "execute_result"
    }
   ],
   "source": [
    "vectorstore.similarity_search(\n",
    "    \"NVIDIA\",  # our search query\n",
    "    k=3  # return 3 most relevant docs\n",
    ")"
   ]
  },
  {
   "cell_type": "code",
   "execution_count": 28,
   "metadata": {},
   "outputs": [],
   "source": [
    "from langchain.chains import RetrievalQAWithSourcesChain\n",
    "\n",
    "qa_with_sources = RetrievalQAWithSourcesChain.from_chain_type(\n",
    "    llm=llm,\n",
    "    chain_type=\"stuff\",\n",
    "    retriever=vectorstore.as_retriever()\n",
    ")"
   ]
  },
  {
   "cell_type": "code",
   "execution_count": 48,
   "metadata": {},
   "outputs": [],
   "source": [
    "query = \"What is NVIDIa?\"\n"
   ]
  },
  {
   "cell_type": "code",
   "execution_count": 49,
   "metadata": {},
   "outputs": [],
   "source": [
    "response = qa_with_sources(query)"
   ]
  },
  {
   "cell_type": "code",
   "execution_count": 50,
   "metadata": {},
   "outputs": [
    {
     "data": {
      "text/plain": [
       "'NVIDIA is a company that specializes in graphics processing units (GPUs) and is known for its development of the OpenGL programming interface. OpenGL is an open-source API used for 3D graphics programming and is owned by the Khronos Group. It is often compared to Direct3D, another API for 3D graphics on Windows. The GP2X is a handheld gaming console that uses the Linux operating system and can play music, videos, games, and pictures. It can also emulate various video game systems. Kinect is a major accessory developed by Microsoft for the Xbox 360, allowing users to control games without a controller. It was initially called Project Natal and won many awards. Fangames are computer games created by fans based on popular video games, often made using programming languages like C++ or game development tools like Unity or Unreal Engine.\\n\\n'"
      ]
     },
     "execution_count": 50,
     "metadata": {},
     "output_type": "execute_result"
    }
   ],
   "source": [
    "response['answer']"
   ]
  },
  {
   "cell_type": "code",
   "execution_count": 51,
   "metadata": {},
   "outputs": [
    {
     "data": {
      "text/plain": [
       "'- https://simple.wikipedia.org/wiki/OpenGL\\n- https://simple.wikipedia.org/wiki/GP2X\\n- https://simple.wikipedia.org/wiki/Xbox%20360\\n- https://simple.wikipedia.org/wiki/Fangame'"
      ]
     },
     "execution_count": 51,
     "metadata": {},
     "output_type": "execute_result"
    }
   ],
   "source": [
    "response['sources']"
   ]
  }
 ],
 "metadata": {
  "kernelspec": {
   "display_name": "venv",
   "language": "python",
   "name": "python3"
  },
  "language_info": {
   "codemirror_mode": {
    "name": "ipython",
    "version": 3
   },
   "file_extension": ".py",
   "mimetype": "text/x-python",
   "name": "python",
   "nbconvert_exporter": "python",
   "pygments_lexer": "ipython3",
   "version": "3.10.0"
  },
  "orig_nbformat": 4
 },
 "nbformat": 4,
 "nbformat_minor": 2
}
