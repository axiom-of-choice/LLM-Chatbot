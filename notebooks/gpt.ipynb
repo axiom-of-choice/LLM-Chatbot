{
 "cells": [
  {
   "cell_type": "code",
   "execution_count": 2,
   "metadata": {},
   "outputs": [
    {
     "name": "stderr",
     "output_type": "stream",
     "text": [
      "/Users/isaac/FundamentlPartners/abinvenv-sol/venv/lib/python3.10/site-packages/pinecone/index.py:4: TqdmWarning: IProgress not found. Please update jupyter and ipywidgets. See https://ipywidgets.readthedocs.io/en/stable/user_install.html\n",
      "  from tqdm.autonotebook import tqdm\n"
     ]
    }
   ],
   "source": [
    "# from transformers import BloomTokenizerFast, BloomForQuestionAnswering, BloomForCausalLM, TrainingArguments, Trainer\n",
    "import os\n",
    "from dotenv import load_dotenv\n",
    "from langchain.embeddings import HuggingFaceEmbeddings\n",
    "import pinecone\n",
    "from langchain.vectorstores import Pinecone\n",
    "from langchain.chains import RetrievalQA\n",
    "from langchain import HuggingFaceHub\n",
    "from langchain.prompts import PromptTemplate\n",
    "from config.config import BASE_DIR, DATA_DIR, EMBEDDING_MODEL_NAME, PINECONE_INDEX_NAME\n"
   ]
  },
  {
   "cell_type": "code",
   "execution_count": 3,
   "metadata": {},
   "outputs": [
    {
     "data": {
      "text/plain": [
       "True"
      ]
     },
     "execution_count": 3,
     "metadata": {},
     "output_type": "execute_result"
    }
   ],
   "source": [
    "load_dotenv()"
   ]
  },
  {
   "cell_type": "code",
   "execution_count": 4,
   "metadata": {},
   "outputs": [],
   "source": [
    "\n",
    "# Save it into pinecone\n",
    "API_KEY = os.environ.get(\"PINECONE_API_KEY\")\n",
    "YOUR_ENV = os.environ.get(\"PINECONE_ENVIRONMENT\", \"us-west4-gcp-free\")\n",
    "index_name = PINECONE_INDEX_NAME\n",
    "OPENAI_API_KEY = os.environ.get(\"OPEN_AI_KEY\")"
   ]
  },
  {
   "cell_type": "code",
   "execution_count": 5,
   "metadata": {},
   "outputs": [
    {
     "data": {
      "text/plain": [
       "IndexDescription(name='stab-test', metric='cosine', replicas=1, dimension=768.0, shards=1, pods=1, pod_type='p1', status={'ready': True, 'state': 'Ready'}, metadata_config=None, source_collection='')"
      ]
     },
     "execution_count": 5,
     "metadata": {},
     "output_type": "execute_result"
    }
   ],
   "source": [
    "pinecone.init(\n",
    "    api_key=API_KEY,\n",
    "    environment=YOUR_ENV\n",
    ")\n",
    "\n",
    "if len(pinecone.list_indexes()) == 0:\n",
    "    pinecone.create_index(name=index_name, metric=\"cosine\", shards=1, dimension=len(res[0]))\n",
    "\n",
    "pinecone.describe_index(pinecone.list_indexes()[0])"
   ]
  },
  {
   "cell_type": "code",
   "execution_count": 6,
   "metadata": {},
   "outputs": [
    {
     "data": {
      "text/plain": [
       "{'dimension': 768,\n",
       " 'index_fullness': 0.1,\n",
       " 'namespaces': {'': {'vector_count': 2678}},\n",
       " 'total_vector_count': 2678}"
      ]
     },
     "execution_count": 6,
     "metadata": {},
     "output_type": "execute_result"
    }
   ],
   "source": [
    "text_field = \"text\"\n",
    "\n",
    "index = pinecone.Index(index_name)\n",
    "index.describe_index_stats()"
   ]
  },
  {
   "cell_type": "code",
   "execution_count": 7,
   "metadata": {},
   "outputs": [],
   "source": [
    "embeddings = HuggingFaceEmbeddings(model_name = EMBEDDING_MODEL_NAME)"
   ]
  },
  {
   "cell_type": "code",
   "execution_count": 8,
   "metadata": {},
   "outputs": [],
   "source": [
    "vectorstore = Pinecone(index, embeddings.embed_query, text_field)"
   ]
  },
  {
   "cell_type": "code",
   "execution_count": 9,
   "metadata": {},
   "outputs": [],
   "source": [
    "from langchain.chat_models import ChatOpenAI\n",
    "from langchain.chains import RetrievalQA\n",
    "\n",
    "# completion llm\n",
    "llm = ChatOpenAI(\n",
    "    openai_api_key=OPENAI_API_KEY,\n",
    "    model_name='gpt-3.5-turbo',\n",
    "    temperature=0.0\n",
    ")\n",
    "\n",
    "qa = RetrievalQA.from_chain_type(\n",
    "    llm=llm,\n",
    "    chain_type=\"stuff\",\n",
    "    retriever=vectorstore.as_retriever()\n",
    ")"
   ]
  },
  {
   "cell_type": "code",
   "execution_count": 25,
   "metadata": {},
   "outputs": [],
   "source": [
    "from langchain.chains import RetrievalQAWithSourcesChain\n",
    "\n",
    "qa_with_sources = RetrievalQAWithSourcesChain.from_chain_type(\n",
    "    llm=llm,\n",
    "    chain_type=\"stuff\",\n",
    "    retriever=vectorstore.as_retriever(kwargs={\"pages\": \"pages\"})\n",
    ")"
   ]
  },
  {
   "cell_type": "code",
   "execution_count": 10,
   "metadata": {},
   "outputs": [],
   "source": [
    "query_NVIDIA = \"What is NVIDIa?\"\n"
   ]
  },
  {
   "cell_type": "code",
   "execution_count": 18,
   "metadata": {},
   "outputs": [
    {
     "data": {
      "text/plain": [
       "[Document(page_content=\"assistance when factors beyond the producer's control create losses for producers. We \\ngenerally think mo re tailored farm policies are more defendable.   For this reason, we like the \\nthought of updating bases and yields or applying farm policies to planted acres/current \\nproduction and their triggering based on prices or revenue, depending on the option a \\nprod ucer chooses.  However, policy choices should not result in severe regional distortions in \\ncommodity policy budget baselines from which reauthorized commodity policies must be \\ndeveloped.\", metadata={'chunk': 1.0, 'id': '721411c7627f4e63a303d595019038da', 'page': '7', 'source': 'ALQMFHOFCDKV7HIO2VGHCM3ZDDVVZPBW.pdf'}),\n",
       " Document(page_content='Member - USA Rice Pr oducers’ Group Farm Policy Task Force   \\n   Member – USA Rice Federation Marketability and Competitiveness T ask Force \\n    EDUCATION  \\n 1999   Southeast Missouri State University – Cape Girardeau, MO  \\nB.S. Agriculture with emphasis in Agronomy', metadata={'chunk': 1.0, 'id': '4652ef20e6eb4ba388b5ab57e599828c', 'page': '10', 'source': 'ALQMFHOFCDKV7HIO2VGHCM3ZDDVVZPBW.pdf'}),\n",
       " Document(page_content='In the most recent five years, average funding for U.S. farm policy, based on real funding levels, including crop insurance, was $12.9 billion per year, which is 28% less than the previous five- year average of $17.9 billion and 31% less than the average of $18.8 billion that incurred in the preceding five years. In the current year, the Congressional Budget Office (CBO) estimates that crop insurance policy will cost slightly more than the current commodity policies. And according to CBO projections for the next 10 years the estimated annual cost for commodity policy in the farm bill is $6.6 billion on average (before the expected reductions are made as part of this farm bill process), while the estimated annual cost for crop insurance policy is $8.8 billion on average. With the current suite of crop insurance policies not working effectively for rice producers, this puts our industry at a further disadvantage and highlights the need to maintain an effective commodity policy in the farm bill that will work for rice.\\n\\nFunding of that portion of farm policy that assists rice producers has declined from $1.2 billion a decade ago to about $400 million annually, with this amount largely reflecting Direct Payments.\\n\\nMeanwhile, U.S. consumers are paying less than 10% of disposable income on food, less than consumers in any other nation.\\n\\n4\\n\\nThis is why I believe so firmly that future cuts must focus on areas of the budget outside of farm policy that have not yet contributed to deficit reduction yet comprise a significant share of the federal budget. This is also why I would urge lawmakers to reject cuts to U.S. farm policy that would exceed the level specified by the House and Senate Agriculture Committee Chairs and Ranking Members in their letter to the Joint Committee on Deficit Reduction last fall.\\n\\n2008 Farm Bill Review\\n\\nThe Food, Conservation, and Energy Act of 2008 (the Farm Bill) continued the traditional mix of policies consisting of the non-recourse marketing loan, loan deficiency payments, and the direct and counter cyclical payments. The farm bill also included the addition of Average Crop Revenue Election (ACRE) as an alternative to counter cyclical payments for producers who agree to a reduction in direct payments and marketing loan benefits. The bill also added Supplemental Revenue Assurance (SURE) as a standing disaster assistance supplement to federal crop insurance.', metadata={'chunk': 4.0, 'id': '726899b460fb47f0a2f78890b83fa289', 'page': 'None', 'source': 'ALQMFHOFCDKV7HIO2VGHCM3ZDDVVZPBW.pdf'}),\n",
       " Document(page_content='7 \\n industry is unified in its firm belief that farm policy designed to  support a strong and dynamic \\nU.S. agriculture sector is absolutely vital.   We also believe that the planting flexibility provided \\nunder the 1996 Farm Bill and the countercyclical policies that have been in place for more than \\na decade now have served this  nation and its farmers well.   In particular, as we noted earlier, \\nthe 1996 Farm Bill’s Direct Payments have provided critical help to rice farmers – offering \\ncapital farmers could tailor to their unique needs.   We are very proud to stand by this farm \\npolicy.   \\n \\nHowever, given budget pressures and other considerations facing Congress that have caused \\npolicymakers to consider altering this approach in favor of more directed and conditioned \\nassistance, we developed the following priorities:  \\n\\uf0b7 First, we believe the triggering mechanism for assistance should be updated to provide \\ntailored and reliable help should commodity prices decline below today’s production \\ncosts, and should include a floor or reference price to protect in multi -year low price \\nscenarios.  \\n\\uf0b7 Seco nd, as payments would only be made in loss situations, payment limits and means \\ntests for producers should be eliminated.  \\n\\uf0b7 Third, federal crop insurance should be improved to provide more effective risk \\nmanagement for rice in all production regions, beginni ng with the policy development \\nprocess.  \\nMore specifically relative to each of these points, we believe that:  \\nPrice Protection is a Must  \\nGiven price volatility for rice is the primary risk producers face that they do not have other good \\nmeans of protecting against, with price fluctuations largely driven by global supply and \\ndemand;   given rice is one of the most protected and sensitive global commodities in trade \\nnegotiations, thus limiting access to a number of key markets; given costs of production have \\nrisen to a point where the current $6.50 (loan rate)/$10.50 (target price) assistance triggers are \\nlargely irrelevant, we believe the first priority should be to concentrate on increasing the prices \\nor revenue levels at which farm policy would trigger so tha t it is actually meaningful to \\nproducers, and would reliably trigger should prices decline sharply.   \\nThe reference price for rice should be increased to $13.98/cwt ($6.30/bu).  This level would \\nmore closely reflect the significant increases in production costs for rice.  And we believe this \\nreference price should be a component of both the price -loss policy and the revenue -loss policy \\nto ensure downside price protection.', metadata={'chunk': 0.0, 'id': '26fae59affb94c3c848582f35beba07e', 'page': '6', 'source': 'ALQMFHOFCDKV7HIO2VGHCM3ZDDVVZPBW.pdf'}),\n",
       " Document(page_content='Testimony of\\n\\nBlake Gerard\\n\\nBefore the U.S. House of Representatives Committee on Agriculture\\n\\nHearing to Review the Future of U.S. Farm Policy and the Formulation of the 2012 Farm Bill\\n\\nGalesburg, Illinois March 23, 2012\\n\\nIntroduction\\n\\nChairman Lucas, Ranking Member Peterson, and Members of the Committee, thank you for holding this hearing concerning farm policy and the 2012 farm bill. I appreciate the opportunity to offer testimony on farm policy from the perspective of a diversified grain producer.\\n\\nMy name is Blake Gerard. I raise rice, soybeans, wheat, and corn in Alexander and Union counties in southern Illinois and I have been farming on my own now for 16 years. I am the fourth generation in my family to farm this land and this is my 13th year to farm rice in Illinois. I am also co-owner in a seed conditioning facility that does contract seed production, conditioning, packaging & warehousing. All of our soybeans are raised for seed along with about 75% of our rice. In addition to my farm and seed business, I also serve as the commissioner for the East Cape Girardeau/Clear Creek Levee & Drainage District, the Illinois Crop Improvement Association and am a member of the USA Rice Producers’ Group Board of Directors.\\n\\nImportance of Agriculture and Cost-Effective Farm Policy\\n\\nU.S. agriculture shares a certain amount of pride for what we do for the nation’s economy. Agriculture still matters.\\n\\nOver the course of the current economic downturn, here is an excerpt of what objective sources ranging from the Federal Reserve to The Wall Street Journal had to say about what America’s farmers and ranchers have been doing to help get our nation back on track and people back to work:\\n\\n“In 2010, rural America was at the forefront of the economic recovery… “[R]ising exports of farm commodities and manufactured goods spurred job growth and income gains in rural communities…If recent history holds true, rural America could lead U.S. economic gains in 2011.” Federal Reserve of Kansas City, 2010 report.\\n\\n1\\n\\n\"Growers\\' improved lot is rippling out to other industries.\" The Wall Street Journal, October 12, 2010.\\n\\nWe read the same kinds of reports during the last recession when the manufacturing sector was in crisis:', metadata={'chunk': 0.0, 'id': '726899b460fb47f0a2f78890b83fa289', 'page': 'None', 'source': 'ALQMFHOFCDKV7HIO2VGHCM3ZDDVVZPBW.pdf'})]"
      ]
     },
     "execution_count": 18,
     "metadata": {},
     "output_type": "execute_result"
    }
   ],
   "source": [
    "vectorstore.max_marginal_relevance_search(\n",
    "    \"Importance of Agriculture and Cost-Effective Farm Policy\",  # our search query\n",
    "    k=5  # return 3 most relevant docs\n",
    ")"
   ]
  },
  {
   "cell_type": "code",
   "execution_count": 14,
   "metadata": {},
   "outputs": [],
   "source": [
    "response = qa_with_sources(query_NVIDIA)"
   ]
  },
  {
   "cell_type": "code",
   "execution_count": 15,
   "metadata": {},
   "outputs": [
    {
     "data": {
      "text/plain": [
       "('NVIDIA is not mentioned in the provided content.\\nSOURCES:', '')"
      ]
     },
     "execution_count": 15,
     "metadata": {},
     "output_type": "execute_result"
    }
   ],
   "source": [
    "response['answer'], response['sources']"
   ]
  },
  {
   "cell_type": "code",
   "execution_count": 26,
   "metadata": {},
   "outputs": [],
   "source": [
    "query_disambiguation = \"How could i implement a disambiguation mechanism?\""
   ]
  },
  {
   "cell_type": "code",
   "execution_count": 27,
   "metadata": {},
   "outputs": [],
   "source": [
    "response = qa_with_sources(query_disambiguation)"
   ]
  },
  {
   "cell_type": "code",
   "execution_count": 18,
   "metadata": {},
   "outputs": [
    {
     "data": {
      "text/plain": [
       "('To implement a disambiguation mechanism, one could consider using a cache model of attentional state. The cache model takes into account limited attention constraints and makes specific processing predictions. It has been proposed as an alternative to the stack model of attentional state, which does not account for certain examples. Future research could further distinguish between the predictions of the cache model and the stack model. Additionally, evidence for limited attention can be found in anaphoric processing and informational redundancy. These factors suggest that the limited attention constraint must be sensitive to aspects of linear recency. Further research and investigation are needed to fully understand and implement a disambiguation mechanism.\\n',\n",
       " '9512003.xml, 9503008.xml')"
      ]
     },
     "execution_count": 18,
     "metadata": {},
     "output_type": "execute_result"
    }
   ],
   "source": [
    "response['answer'], response['sources']"
   ]
  },
  {
   "cell_type": "code",
   "execution_count": 27,
   "metadata": {},
   "outputs": [],
   "source": [
    "query_senior_living = \"I have some questions about senior living, what can you tell me about it? \""
   ]
  },
  {
   "cell_type": "code",
   "execution_count": 28,
   "metadata": {},
   "outputs": [],
   "source": [
    "response = qa_with_sources(query_senior_living)"
   ]
  },
  {
   "cell_type": "code",
   "execution_count": 29,
   "metadata": {},
   "outputs": [
    {
     "data": {
      "text/plain": [
       "('Senior living is a social model that provides care while preserving independence. It is not the same as a nursing home, which primarily provides nursing services to the chronically ill. Senior living offers various lifestyle options for older adults who want to maintain their independence while living in their own apartments. Moving into senior living does not mean losing independence; in fact, it can enhance independence with assistance. The affordability of senior living can vary depending on factors such as location, level of care required, amenities offered, and the specific community chosen. Senior living offers benefits such as socializing on your terms, a supportive environment with trained staff, safety, security, and technology features, chore-free living, and access to entertainment. When considering senior living, it is important to assess factors such as the need for good company, opportunities to socialize, safety concerns, and challenges with daily tasks and personal care. Open conversations with friends, family, healthcare professionals, and senior living experts can provide guidance and support in the decision-making process.\\n',\n",
       " 'common.txt')"
      ]
     },
     "execution_count": 29,
     "metadata": {},
     "output_type": "execute_result"
    }
   ],
   "source": [
    "response['answer'], response['sources']"
   ]
  },
  {
   "cell_type": "code",
   "execution_count": 30,
   "metadata": {},
   "outputs": [],
   "source": [
    "query_espanol = \"Dime acerca de la vida de la tercera edad\""
   ]
  },
  {
   "cell_type": "code",
   "execution_count": 31,
   "metadata": {},
   "outputs": [],
   "source": [
    "response = qa_with_sources(query_espanol)"
   ]
  },
  {
   "cell_type": "code",
   "execution_count": 32,
   "metadata": {},
   "outputs": [
    {
     "data": {
      "text/plain": [
       "('No information is provided about the life of the elderly.\\n', 'common.txt')"
      ]
     },
     "execution_count": 32,
     "metadata": {},
     "output_type": "execute_result"
    }
   ],
   "source": [
    "response['answer'], response['sources']"
   ]
  },
  {
   "cell_type": "code",
   "execution_count": 15,
   "metadata": {},
   "outputs": [
    {
     "data": {
      "text/plain": [
       "('PowerPoint is a software program used for creating and presenting slide show presentations. It allows users to create slides with text, images, and multimedia elements, and provides tools for designing and formatting the slides. PowerPoint presentations can be displayed on a computer screen or projected onto a larger screen for an audience to view. \\n\\n',\n",
       " '9507002.xml, samplepptx.pptx')"
      ]
     },
     "execution_count": 15,
     "metadata": {},
     "output_type": "execute_result"
    }
   ],
   "source": [
    "query_espanol = \"What is PowerPoint?\"\n",
    "response = qa_with_sources(query_espanol)\n",
    "response['answer'], response['sources']"
   ]
  },
  {
   "cell_type": "code",
   "execution_count": 22,
   "metadata": {},
   "outputs": [
    {
     "data": {
      "text/plain": [
       "('The goal keeper of Real Madrid is Thibaut Courtois.\\n', 'goalkeepers.csv')"
      ]
     },
     "execution_count": 22,
     "metadata": {},
     "output_type": "execute_result"
    }
   ],
   "source": [
    "query_espanol = \"Who is the goal keeper of Real Madrid?\"\n",
    "response = qa_with_sources(query_espanol)\n",
    "response['answer'], response['sources']"
   ]
  },
  {
   "cell_type": "code",
   "execution_count": 23,
   "metadata": {},
   "outputs": [
    {
     "data": {
      "text/plain": [
       "{'question': 'Who is the goal keeper of Real Madrid?',\n",
       " 'answer': 'The goal keeper of Real Madrid is Thibaut Courtois.\\n',\n",
       " 'sources': 'goalkeepers.csv'}"
      ]
     },
     "execution_count": 23,
     "metadata": {},
     "output_type": "execute_result"
    }
   ],
   "source": [
    "response"
   ]
  },
  {
   "cell_type": "code",
   "execution_count": 20,
   "metadata": {},
   "outputs": [
    {
     "data": {
      "text/plain": [
       "('The importance of agriculture and cost-effective farm policy is to provide assistance to producers in loss situations and to tailor policies to the size of the loss. It is also important to maintain and improve crop insurance for all crops, including rice. Additionally, there should be options for different production regions to effectively meet the risk management needs of producers. The 2011 Farm Bill package provides a good framework for the 2012 Farm Bill. The details of the policy should not result in severe regional distortions in commodity policy budget baselines. The policy should eliminate pay limits and eligibility tests and should be plain, bankable, tailored, and defendable.\\n',\n",
       " 'ALQMFHOFCDKV7HIO2VGHCM3ZDDVVZPBW.pdf')"
      ]
     },
     "execution_count": 20,
     "metadata": {},
     "output_type": "execute_result"
    }
   ],
   "source": [
    "query_espanol = \"What is the Importance of Agriculture and Cost-Effective Farm Policy?\"\n",
    "response = qa_with_sources(query_espanol)\n",
    "response['answer'], response['sources']"
   ]
  }
 ],
 "metadata": {
  "kernelspec": {
   "display_name": "venv",
   "language": "python",
   "name": "python3"
  },
  "language_info": {
   "codemirror_mode": {
    "name": "ipython",
    "version": 3
   },
   "file_extension": ".py",
   "mimetype": "text/x-python",
   "name": "python",
   "nbconvert_exporter": "python",
   "pygments_lexer": "ipython3",
   "version": "3.10.0"
  },
  "orig_nbformat": 4
 },
 "nbformat": 4,
 "nbformat_minor": 2
}
