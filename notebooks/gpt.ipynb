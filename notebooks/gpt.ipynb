{
 "cells": [
  {
   "cell_type": "code",
   "execution_count": 1,
   "metadata": {},
   "outputs": [
    {
     "name": "stderr",
     "output_type": "stream",
     "text": [
      "/Users/isaac/FundamentlPartners/abinvenv-sol/venv/lib/python3.10/site-packages/pinecone/index.py:4: TqdmWarning: IProgress not found. Please update jupyter and ipywidgets. See https://ipywidgets.readthedocs.io/en/stable/user_install.html\n",
      "  from tqdm.autonotebook import tqdm\n"
     ]
    }
   ],
   "source": [
    "# from transformers import BloomTokenizerFast, BloomForQuestionAnswering, BloomForCausalLM, TrainingArguments, Trainer\n",
    "import os\n",
    "from dotenv import load_dotenv\n",
    "from langchain.embeddings import HuggingFaceEmbeddings\n",
    "import pinecone\n",
    "from langchain.vectorstores import Pinecone\n",
    "from langchain.chains import RetrievalQA\n",
    "from langchain import HuggingFaceHub\n",
    "from langchain.prompts import PromptTemplate\n",
    "from config.config import BASE_DIR, DATA_DIR, EMBEDDING_MODEL_NAME, PINECONE_INDEX_NAME\n"
   ]
  },
  {
   "cell_type": "code",
   "execution_count": 2,
   "metadata": {},
   "outputs": [
    {
     "data": {
      "text/plain": [
       "True"
      ]
     },
     "execution_count": 2,
     "metadata": {},
     "output_type": "execute_result"
    }
   ],
   "source": [
    "load_dotenv()"
   ]
  },
  {
   "cell_type": "code",
   "execution_count": 3,
   "metadata": {},
   "outputs": [],
   "source": [
    "\n",
    "# Save it into pinecone\n",
    "API_KEY = os.environ.get(\"PINECONE_API_KEY\")\n",
    "YOUR_ENV = os.environ.get(\"PINECONE_ENVIRONMENT\", \"us-west4-gcp-free\")\n",
    "index_name = PINECONE_INDEX_NAME\n",
    "OPENAI_API_KEY = os.environ.get(\"OPEN_AI_KEY\")"
   ]
  },
  {
   "cell_type": "code",
   "execution_count": 4,
   "metadata": {},
   "outputs": [
    {
     "data": {
      "text/plain": [
       "IndexDescription(name='stsb-test', metric='cosine', replicas=1, dimension=768.0, shards=1, pods=1, pod_type='p1', status={'ready': True, 'state': 'Ready'}, metadata_config=None, source_collection='')"
      ]
     },
     "execution_count": 4,
     "metadata": {},
     "output_type": "execute_result"
    }
   ],
   "source": [
    "pinecone.init(\n",
    "    api_key=API_KEY,\n",
    "    environment=YOUR_ENV\n",
    ")\n",
    "\n",
    "if len(pinecone.list_indexes()) == 0:\n",
    "    pinecone.create_index(name=index_name, metric=\"cosine\", shards=1, dimension=len(res[0]))\n",
    "\n",
    "pinecone.describe_index(pinecone.list_indexes()[0])"
   ]
  },
  {
   "cell_type": "code",
   "execution_count": 5,
   "metadata": {},
   "outputs": [],
   "source": [
    "text_field = \"text\"\n",
    "\n",
    "index = pinecone.Index(index_name)"
   ]
  },
  {
   "cell_type": "code",
   "execution_count": 6,
   "metadata": {},
   "outputs": [],
   "source": [
    "embeddings = HuggingFaceEmbeddings(model_name = EMBEDDING_MODEL_NAME)"
   ]
  },
  {
   "cell_type": "code",
   "execution_count": 7,
   "metadata": {},
   "outputs": [],
   "source": [
    "vectorstore = Pinecone(index, embeddings.embed_query, text_field)"
   ]
  },
  {
   "cell_type": "code",
   "execution_count": 8,
   "metadata": {},
   "outputs": [],
   "source": [
    "from langchain.chat_models import ChatOpenAI\n",
    "from langchain.chains import RetrievalQA\n",
    "\n",
    "# completion llm\n",
    "llm = ChatOpenAI(\n",
    "    openai_api_key=OPENAI_API_KEY,\n",
    "    model_name='gpt-3.5-turbo',\n",
    "    temperature=0.0\n",
    ")\n",
    "\n",
    "qa = RetrievalQA.from_chain_type(\n",
    "    llm=llm,\n",
    "    chain_type=\"stuff\",\n",
    "    retriever=vectorstore.as_retriever()\n",
    ")"
   ]
  },
  {
   "cell_type": "code",
   "execution_count": 9,
   "metadata": {},
   "outputs": [],
   "source": [
    "from langchain.chains import RetrievalQAWithSourcesChain\n",
    "\n",
    "qa_with_sources = RetrievalQAWithSourcesChain.from_chain_type(\n",
    "    llm=llm,\n",
    "    chain_type=\"stuff\",\n",
    "    retriever=vectorstore.as_retriever()\n",
    ")"
   ]
  },
  {
   "cell_type": "code",
   "execution_count": 10,
   "metadata": {},
   "outputs": [],
   "source": [
    "query_NVIDIA = \"What is NVIDIa?\"\n"
   ]
  },
  {
   "cell_type": "code",
   "execution_count": 15,
   "metadata": {},
   "outputs": [
    {
     "data": {
      "text/plain": [
       "[Document(page_content='W. Lehnert, C. Cardie, D. Fisher, J. McCarthy, E. Riloff, and S. Soderland. University of Massachusetts: Description of the CIRCUS system as used for MUC-4. In Proceedings of the Fourth Message Understanding Conference (MUC-4), pages 282-288, 1992.\\n\\nW. Lehnert, J. McCarthy, S. Soderland, E. Riloff, C. Cardie, J. Peterson, F. Feng, C. Dolan, and S. Goldman. University of Massachusetts/Hughes: Description of the CIRCUS system as used for MUC-5. In Proceedings of the Fourth Message Understanding Conference (MUC-5), pages 277-290, 1993.\\n\\nW. Lehnert. Symbolic/subsymbolic sentence analysis: Exploiting the best of two worlds. In J. Barnden and J. Pollack, editors, Advances in Connectionist and Neural Computation Theory, Vol. 1, pages 135-164. Ablex Publishers, Norwood, NJ, 1991.\\n\\nR. H. Merchant. Tipster program overview. In Proceedings of the TIPSTER Text Program (Phase I), pages 1-2, 1993.\\n\\nD. Moldovan, S. Cha, M. Chung, K. Hendrickson, J. Kim, and S. Kowalski. USC: MUC-4 test results and analysis. In Proceedings of the Fourth Message Understanding Conference (MUC-4), pages 164-166, 1992.\\n\\nJ. R. Quinlan. C4.5: Programs for Machine Learning. Morgan Kaufmann, San Mateo, CA, 1993.\\n\\nC. L. Sidner. Towards a computational theory of definite anaphora comprehension in English discourse. TR 537, M.I.T. Artificial Intelligence Laboratory, 1979.\\n\\nB. M. Sundheim. Overview of the third message understanding evaluation and conference. In Proceedings of the Third Message Understanding Conference (MUC-3), pages 3-16, 1991.\\n\\nB. M. Sundheim. Overview of the fourth message understanding evaluation and conference. In Proceedings of the Fourth Message Understanding Conference (MUC-4), pages 3-21, 1992.\\n\\nB. M. Sundheim. TIPSTER/MUC-5 information extraction system evaluation. In Proceedings of the Fourth Message Understanding Conference (MUC-5), pages 27-44, 1993.\\n\\nC. J. van Rijsbergen.\\n\\nInformation Retrieval.\\n\\nButterworths, London, 1979.', metadata={'chunk': 6.0, 'id': '1fddf23ef29240ebb1ff1957654f331b', 'source': '9505043.xml'}),\n",
       " Document(page_content='W. Lehnert, C. Cardie, D. Fisher, J. McCarthy, E. Riloff, and S. Soderland. University of Massachusetts: Description of the CIRCUS system as used for MUC-4. In Proceedings of the Fourth Message Understanding Conference (MUC-4), pages 282-288, 1992.\\n\\nW. Lehnert, J. McCarthy, S. Soderland, E. Riloff, C. Cardie, J. Peterson, F. Feng, C. Dolan, and S. Goldman. University of Massachusetts/Hughes: Description of the CIRCUS system as used for MUC-5. In Proceedings of the Fourth Message Understanding Conference (MUC-5), pages 277-290, 1993.\\n\\nW. Lehnert. Symbolic/subsymbolic sentence analysis: Exploiting the best of two worlds. In J. Barnden and J. Pollack, editors, Advances in Connectionist and Neural Computation Theory, Vol. 1, pages 135-164. Ablex Publishers, Norwood, NJ, 1991.\\n\\nR. H. Merchant. Tipster program overview. In Proceedings of the TIPSTER Text Program (Phase I), pages 1-2, 1993.\\n\\nD. Moldovan, S. Cha, M. Chung, K. Hendrickson, J. Kim, and S. Kowalski. USC: MUC-4 test results and analysis. In Proceedings of the Fourth Message Understanding Conference (MUC-4), pages 164-166, 1992.\\n\\nJ. R. Quinlan. C4.5: Programs for Machine Learning. Morgan Kaufmann, San Mateo, CA, 1993.\\n\\nC. L. Sidner. Towards a computational theory of definite anaphora comprehension in English discourse. TR 537, M.I.T. Artificial Intelligence Laboratory, 1979.\\n\\nB. M. Sundheim. Overview of the third message understanding evaluation and conference. In Proceedings of the Third Message Understanding Conference (MUC-3), pages 3-16, 1991.\\n\\nB. M. Sundheim. Overview of the fourth message understanding evaluation and conference. In Proceedings of the Fourth Message Understanding Conference (MUC-4), pages 3-21, 1992.\\n\\nB. M. Sundheim. TIPSTER/MUC-5 information extraction system evaluation. In Proceedings of the Fourth Message Understanding Conference (MUC-5), pages 27-44, 1993.\\n\\nC. J. van Rijsbergen.\\n\\nInformation Retrieval.\\n\\nButterworths, London, 1979.', metadata={'chunk': 6.0, 'id': '50401f4555d246dea13739925f1201c8', 'source': '9505043.xml'}),\n",
       " Document(page_content='PUNCT Dans \\t\\t PREP un \\t\\t DET-SG discours-fleuve \\t\\t NOUN-SG qui \\t\\t CONN constituait \\t\\t VERB-P3SG le \\t\\t DET-SG plus \\t\\t ADV petit \\t\\t ADJ-SG d\\'enominateur \\t\\t NOUN-SG commun \\t\\t ADJ-SG des \\t\\t PREP positions \\t\\t NOUN-PL respectives \\t\\t ADJ-PL des \\t\\t PREP partis \\t\\t NOUN-PL des \\t\\t PREP six \\t\\t NUM r\\'epubliques \\t\\t NOUN-PL et \\t\\t CONN des \\t\\t PREP deux \\t\\t NUM provinces \\t\\t NOUN-PL autonomes \\t\\t ADJ-PL , \\t\\t CM Mr \\t\\t NOUN-SG Milan \\t\\t NOUN-INV Pancevski \\t\\t NOUN-INV s\\' \\t\\t PC est \\t\\t VAUX-P3SG prononc\\'e \\t\\t PAP-SG pour \\t\\t PREP la \\t\\t DET-SG libert\\'e \\t\\t NOUN-SG d\\' \\t\\t PREP association \\t\\t NOUN-SG politique \\t\\t ADJ-SG ( \\t\\t PUNCT et \\t\\t CONN donc \\t\\t ADV l\\' \\t\\t DET-SG abandon \\t\\t NOUN-SG du \\t\\t PREP monopole \\t\\t NOUN-SG de \\t\\t PREP la \\t\\t DET-SG Ligue \\t\\t NOUN-SG ) \\t\\t PUNCT , \\t\\t CM pour \\t\\t PREP la \\t\\t DET-SG r\\'eforme \\t\\t NOUN-SG du \\t\\t PREP syst`eme \\t\\t NOUN-SG \\'economique \\t\\t ADJ-SG et \\t\\t CONN politique \\t\\t ADJ-SG , \\t\\t CM ainsi \\t\\t ADV que \\t\\t CONJQUE du \\t\\t PREP fonctionnement \\t\\t NOUN-SG de \\t\\t PREP la \\t\\t DET-SG LCY \\t\\t NOUN-INV . PUNCT C\\' \\t\\t PRON est \\t\\t VAUX-P3SG la \\t\\t DET-SG seule \\t\\t ADJ-SG faon \\t\\t NOUN-SG , \\t\\t CM a-t- \\t\\t VAUX-P3SG -il \\t\\t PRON dit \\t\\t PAP-SG , \\t\\t CM de \\t\\t PREP \" \\t\\t PUNCT pr\\'eserver \\t\\t VERB-INF les \\t\\t DET-PL valeurs \\t\\t NOUN-PL de \\t\\t PREP la \\t\\t DET-SG r\\'evolution \\t\\t NOUN-SG socialiste \\t\\t ADJ-SG yougoslave \\t\\t ADJ-SG \" \\t\\t PUNCT . PUNCT\\n\\nFootnotes', metadata={'chunk': 10.0, 'id': '0e19bd77b6ab4a229be422a8fd926223', 'source': '9503004.xml'})]"
      ]
     },
     "execution_count": 15,
     "metadata": {},
     "output_type": "execute_result"
    }
   ],
   "source": [
    "vectorstore.similarity_search(\n",
    "    \"Blake Gerard\",  # our search query\n",
    "    k=3  # return 3 most relevant docs\n",
    ")"
   ]
  },
  {
   "cell_type": "code",
   "execution_count": 24,
   "metadata": {},
   "outputs": [],
   "source": [
    "response = qa_with_sources(query_NVIDIA)"
   ]
  },
  {
   "cell_type": "code",
   "execution_count": 25,
   "metadata": {},
   "outputs": [
    {
     "data": {
      "text/plain": [
       "('There is no information available about NVIDIA in the provided sources.\\nSOURCES:',\n",
       " '')"
      ]
     },
     "execution_count": 25,
     "metadata": {},
     "output_type": "execute_result"
    }
   ],
   "source": [
    "response['answer'], response['sources']"
   ]
  },
  {
   "cell_type": "code",
   "execution_count": 45,
   "metadata": {},
   "outputs": [],
   "source": [
    "query_disambiguation = \"How could i implement a disambiguation mechanism?\""
   ]
  },
  {
   "cell_type": "code",
   "execution_count": 46,
   "metadata": {},
   "outputs": [],
   "source": [
    "response = qa_with_sources(query_disambiguation)"
   ]
  },
  {
   "cell_type": "code",
   "execution_count": 47,
   "metadata": {},
   "outputs": [
    {
     "data": {
      "text/plain": [
       "('To implement a disambiguation mechanism, you can use an algorithm that coordinates anaphora resolution and prepositional phrase (PP) disambiguation. The algorithm applies resolution rules based on the focusing approach to the conceptual representation and uses attachment rules to fill empty roles in the Conceptual Structures (CSs). The algorithm is applied sentence by sentence, and the resolution of an anaphor is postponed if it is preceded by an unattached preposition. The algorithm was developed in the context of the COBALT project and is described in detail in the paper \"An Algorithm to Co-Ordinate Anaphora Resolution and PPS Disambiguation Process\" by Azzam (1994).\\n',\n",
       " '9502033.xml')"
      ]
     },
     "execution_count": 47,
     "metadata": {},
     "output_type": "execute_result"
    }
   ],
   "source": [
    "response['answer'], response['sources']"
   ]
  },
  {
   "cell_type": "code",
   "execution_count": 51,
   "metadata": {},
   "outputs": [],
   "source": [
    "query_senior_living = \"I have some questions about senior living, what are \""
   ]
  },
  {
   "cell_type": "code",
   "execution_count": 54,
   "metadata": {},
   "outputs": [],
   "source": [
    "response = qa_with_sources(query_senior_living)"
   ]
  },
  {
   "cell_type": "code",
   "execution_count": 55,
   "metadata": {},
   "outputs": [
    {
     "data": {
      "text/plain": [
       "(\"The best way to get started with senior living is to have open conversations with friends, family, healthcare professionals, and senior living experts. They can guide and support you through the decision-making process. Additionally, you can consider factors such as whether household chores and daily tasks have become overwhelming, if you need assistance with personal care, and if you have safety concerns. It's important to note that senior living offers various lifestyle options that prioritize independence while providing necessary care and support. The affordability of senior living can vary depending on factors such as location, level of care required, amenities offered, and the specific community chosen. However, many people are surprised to learn that the cost of senior living is often lower than the cost of staying in their current homes. It's recommended to use a Cost Comparison Calculator to get a more accurate comparison. Senior living offers benefits such as socializing on your terms, a supportive environment with trained staff, safety and security measures, chore-free living, and access to entertainment and activities. Ultimately, the decision to consider senior living should be based on individual needs and preferences.\\n\",\n",
       " '/Users/isaac/FundamentlPartners/abinvenv-sol/data/raw/common.txt')"
      ]
     },
     "execution_count": 55,
     "metadata": {},
     "output_type": "execute_result"
    }
   ],
   "source": [
    "response['answer'], response['sources']"
   ]
  },
  {
   "cell_type": "code",
   "execution_count": 16,
   "metadata": {},
   "outputs": [],
   "source": [
    "query_espanol = \"Dime acerca de la vida de la tercera edad\""
   ]
  },
  {
   "cell_type": "code",
   "execution_count": 17,
   "metadata": {},
   "outputs": [],
   "source": [
    "response = qa_with_sources(query_espanol)"
   ]
  },
  {
   "cell_type": "code",
   "execution_count": 19,
   "metadata": {},
   "outputs": [
    {
     "data": {
      "text/plain": [
       "('La vida de la tercera edad en las comunidades de Carlton ofrece numerosos beneficios, como socializar según tus propios términos, un entorno de apoyo con personal capacitado disponible para brindar asistencia, seguridad y tecnología, vivir sin preocupaciones de tareas domésticas, y acceso a entretenimiento y actividades en la comunidad. La vida de la tercera edad no es lo mismo que una residencia de ancianos, ya que se enfoca en brindar cuidado cuando se necesita mientras se preserva la independencia. Además, la asequibilidad de la vida de la tercera edad puede variar según varios factores. Para determinar si es el momento de considerar la vida de la tercera edad, es útil evaluar si estás buscando compañía, oportunidades para socializar y un sentido de comunidad, y si tienes preocupaciones de seguridad como caídas, navegar escaleras o conducir.\\n',\n",
       " 'common.txt')"
      ]
     },
     "execution_count": 19,
     "metadata": {},
     "output_type": "execute_result"
    }
   ],
   "source": [
    "response['answer'], response['sources']"
   ]
  },
  {
   "cell_type": "code",
   "execution_count": 14,
   "metadata": {},
   "outputs": [
    {
     "data": {
      "text/plain": [
       "('There is no information available about Blake Gerard in the provided document.\\n',\n",
       " '9505043.xml, 9506016.xml')"
      ]
     },
     "execution_count": 14,
     "metadata": {},
     "output_type": "execute_result"
    }
   ],
   "source": [
    "query_espanol = \"Quien es y que hace Blake Gerard?\"\n",
    "response = qa_with_sources(query_espanol)\n",
    "response['answer'], response['sources']"
   ]
  }
 ],
 "metadata": {
  "kernelspec": {
   "display_name": "venv",
   "language": "python",
   "name": "python3"
  },
  "language_info": {
   "codemirror_mode": {
    "name": "ipython",
    "version": 3
   },
   "file_extension": ".py",
   "mimetype": "text/x-python",
   "name": "python",
   "nbconvert_exporter": "python",
   "pygments_lexer": "ipython3",
   "version": "3.10.0"
  },
  "orig_nbformat": 4
 },
 "nbformat": 4,
 "nbformat_minor": 2
}
