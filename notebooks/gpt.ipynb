{
 "cells": [
  {
   "cell_type": "code",
   "execution_count": 10,
   "metadata": {},
   "outputs": [],
   "source": [
    "from transformers import BloomTokenizerFast, BloomForQuestionAnswering, BloomForCausalLM, TrainingArguments, Trainer\n",
    "import os\n",
    "from dotenv import load_dotenv\n",
    "from langchain.embeddings import HuggingFaceEmbeddings\n",
    "import pinecone\n",
    "from langchain.vectorstores import Pinecone\n",
    "from langchain.chains import RetrievalQA\n",
    "from langchain import HuggingFaceHub\n",
    "from langchain.prompts import PromptTemplate\n",
    "from config.config import BASE_DIR, DATA_DIR, EMBEDDING_MODEL_NAME, PINECONE_INDEX_NAME\n"
   ]
  },
  {
   "cell_type": "code",
   "execution_count": 2,
   "metadata": {},
   "outputs": [
    {
     "data": {
      "text/plain": [
       "True"
      ]
     },
     "execution_count": 2,
     "metadata": {},
     "output_type": "execute_result"
    }
   ],
   "source": [
    "load_dotenv()"
   ]
  },
  {
   "cell_type": "code",
   "execution_count": 11,
   "metadata": {},
   "outputs": [],
   "source": [
    "\n",
    "# Save it into pinecone\n",
    "API_KEY = os.environ.get(\"PINECONE_API_KEY\")\n",
    "YOUR_ENV = os.environ.get(\"PINECONE_ENVIRONMENT\", \"us-west4-gcp-free\")\n",
    "index_name = PINECONE_INDEX_NAME\n",
    "OPENAI_API_KEY = os.environ.get(\"OPEN_AI_KEY\")"
   ]
  },
  {
   "cell_type": "code",
   "execution_count": 12,
   "metadata": {},
   "outputs": [
    {
     "data": {
      "text/plain": [
       "IndexDescription(name='test-docs', metric='cosine', replicas=1, dimension=384.0, shards=1, pods=1, pod_type='p1', status={'ready': True, 'state': 'Ready'}, metadata_config=None, source_collection='')"
      ]
     },
     "execution_count": 12,
     "metadata": {},
     "output_type": "execute_result"
    }
   ],
   "source": [
    "pinecone.init(\n",
    "    api_key=API_KEY,\n",
    "    environment=YOUR_ENV\n",
    ")\n",
    "\n",
    "if len(pinecone.list_indexes()) == 0:\n",
    "    pinecone.create_index(name=index_name, metric=\"cosine\", shards=1, dimension=len(res[0]))\n",
    "\n",
    "pinecone.describe_index(pinecone.list_indexes()[0])"
   ]
  },
  {
   "cell_type": "code",
   "execution_count": 13,
   "metadata": {},
   "outputs": [],
   "source": [
    "text_field = \"text\"\n",
    "\n",
    "index = pinecone.Index(index_name)"
   ]
  },
  {
   "cell_type": "code",
   "execution_count": 14,
   "metadata": {},
   "outputs": [],
   "source": [
    "embeddings = HuggingFaceEmbeddings(model_name = EMBEDDING_MODEL_NAME)"
   ]
  },
  {
   "cell_type": "code",
   "execution_count": 15,
   "metadata": {},
   "outputs": [],
   "source": [
    "vectorstore = Pinecone(index, embeddings.embed_query, text_field)"
   ]
  },
  {
   "cell_type": "code",
   "execution_count": 16,
   "metadata": {},
   "outputs": [],
   "source": [
    "from langchain.chat_models import ChatOpenAI\n",
    "from langchain.chains import RetrievalQA\n",
    "\n",
    "# completion llm\n",
    "llm = ChatOpenAI(\n",
    "    openai_api_key=OPENAI_API_KEY,\n",
    "    model_name='gpt-3.5-turbo',\n",
    "    temperature=0.0\n",
    ")\n",
    "\n",
    "qa = RetrievalQA.from_chain_type(\n",
    "    llm=llm,\n",
    "    chain_type=\"stuff\",\n",
    "    retriever=vectorstore.as_retriever()\n",
    ")"
   ]
  },
  {
   "cell_type": "code",
   "execution_count": 18,
   "metadata": {},
   "outputs": [],
   "source": [
    "from langchain.chains import RetrievalQAWithSourcesChain\n",
    "\n",
    "qa_with_sources = RetrievalQAWithSourcesChain.from_chain_type(\n",
    "    llm=llm,\n",
    "    chain_type=\"stuff\",\n",
    "    retriever=vectorstore.as_retriever()\n",
    ")"
   ]
  },
  {
   "cell_type": "code",
   "execution_count": 40,
   "metadata": {},
   "outputs": [],
   "source": [
    "query_NVIDIA = \"What is NVIDIa?\"\n"
   ]
  },
  {
   "cell_type": "code",
   "execution_count": 17,
   "metadata": {},
   "outputs": [
    {
     "data": {
      "text/plain": [
       "[Document(page_content=\"The second phase of the cycle.\\n\\nIn this phase the numbers  N and  M are compared. If  N is twice  M, then (i) number POLY is extended by k bits, (ii) number  M is doubled, and (iii) number  N is set to 0. If  N is less than twice  M, nothing happens.\\n\\nThe left rule of the second phase doubles the number  M in the second and the third equation. The test ``Is  N equal to 2 M?'' therefore reduces to one (the first) equation. The fourth equation extend the number  POLY with k bits. The fifth and sixth equations set the number  N to 0.\\n\\nThe right rule is always applicable. If the right rule is used where the left rule was applicable, then the number  N will never be equal to\\n\\nin the rest of the derivation. Thus  POLY will not be extended any more.\\n\\nWe claim that the left rule appears\\n\\ntimes and the right rule O(n) times in a derivation for input of size n. Obviously, the number  POLY is\\n\\nwhen the number  SIZE is i.\\n\\nFrom AVG to HP\\n\\n\\n\\nAVG\\n\\nIn this section we show how to transform an AVG into an AVG that satisfies the HPC (HP-AVG). Since all computation steps of the HP-AVG only require a linear amount of derivation steps, total derivations of HP-AVGs have polynomial length.\\n\\nWe can divide the attributes of the HP-AVG into two groups. The attributes that encode the counters, and the attributes of the original AVG. The former will be embedded under the attribute COUNTER, the latter under the attribute  GRAMMAR. In the sequel, we mean by\\n\\nthe formula\\n\\nembedded under the attribute  GRAMMAR, i.e., the formula obtained from\\n\\nby substituting the variables xi by\\n\\n.\\n\\nSecond, the HP-AVG contains an extension of the lexicon of the AVG. The entries of the lexicon are extended in the following way. The size of the lexical form is set to one, and the amount of derivation steps is zero. Thus, if\\n\\nis the lexicon of the AVG, then\\n\\nis the lexicon of the HP-AVG, where\\n\\nThird, the HP-AVG contains extensions of the syntactic rules of the AVG. The syntactic rules are extended in the following way. The numbers POLY and  SIZE of the daughter nonterminals are collected in the lists  PLIST and  SLIST. Both lists are summed. The number  SIZE of the mother nonterminal is equal to the sum of  SIZE's, and the number  POLY of the mother nonterminal is one more than the sum of  POLY's. Thus, if\\n\\nis a syntactic rule of the AVG, then\\n\\nis a syntactic rule of the HP-AVG, where\", metadata={'chunk': 7.0, 'id': '5630a1e102e143eb9f33a52c85afcbe8', 'source': '/Users/isaac/FundamentlPartners/abinvenv-sol/data/raw/cmplg-xml/9503021.xml'}),\n",
       " Document(page_content=\"How is progress measured?\\n\\nWhat are the technological baselines and starting conditions required for progress measurement?\\n\\nWhat are the criteria for choosing a given technology?\\n\\nHow is the fulfilment of functional specifications determined?\\n\\nHow does the technology relate to the intended application and user population?\\n\\nGiven the emphasis of FP-4 on user-led rather than technology-driven projects, it is important that technology assessment should be tied in with user-centered assessment. One needs to be able to assess, and predict, what kinds and what properties of technology lend themselves best to different applications and user groups. Little is to be gained from measuring technology performance if this either has no bearing on, or even an inverse relation to, the user adequacy of systems employing the technology. Taking an example from another area, one could measure the technological performance of (formula 1 racing) cars in terms of how fast they go; but this would not necessarily be the primary or most appropriate technology measure for domestic motorists. One of the primary aims of technology assessment is to provide the means to abstract away from individual users, and to gauge the applicability of systems or system components to other types of user.\\n\\nProvenance of the Interim Report\\n\\nThis report is based around, and includes material from, four trigger papers written on various aspects of evaluation and assessment, and responses to the papers. The trigger papers, and one reaction paper, are\\n\\nSparck Jones  Crouch: General Technology Assessment\\n\\nNetter: Technology Assessment for Written NL Applications\\n\\nSteeneken: Speech Technology Assessment\\n\\nAdriaens: User-Centered Assessment for RTD in Language Engineering\\n\\nKing: Reactions to G. Adriaens\\n\\nThe editors have made free use of this material, and have recycled some of it more or less verbatim. However, the overall way in which this material has been used (or misused) remains the responsibility of the editors.\\n\\nThe report divides into four other sections. The first introduces terminology to be used in the report. The second discusses user-centered assessment, followed by an extensive discussion of technology assessment. In section 5., some recommendations are given about the kind of organisation and infrastructure required for carrying out user-centered and technology assessment, both at a project internal level and for the purposes of comparative evaluation.\\n\\nBackground and Terminology\\n\\nIn this section some of the terminology used throughout this report is introduced. This is, unfortunately, quite important. When there is little agreement on common terminology, as is the case in evaluation, the definitions invoked are usually a good predictor of a person's final views. From the terminology here, one can predict a strong predisposition towards a form of comparative technological assessment that takes user-centered considerations into account. For wider ranging discussions of terminology and illustrative examples, see Galliers  Sparck Jones 1993, and EAGLES 1994.\\n\\nSystems\", metadata={'chunk': 2.0, 'id': '60f696c2b6744fe8be346c3dcbf31aac', 'source': '/Users/isaac/FundamentlPartners/abinvenv-sol/data/raw/cmplg-xml/9601003.xml'}),\n",
       " Document(page_content=\"(15) b. I was surprised by the person who braked in front of me, not being able to change lanes, and the road being wet (T15)\\n\\nb. I didn't expect that a driver would wish to pass me for there weren't two lanes marked on the portion of the road where I was stopped. (T5)\\n\\nThe use of negation is also a favorite clue to indicate an opposition between what should have happened and what actually occurred.\\n\\n(16) b. I wasn't able to avoid the car which was coming with great speed. (T8)\\n\\nb. and the road being wet, I wasn't able to stop completely in time. (T15)\\n\\n(17) on impact, and because of the slippery pavement, my vehicle skids, and hits the metal railing around a tree, whence a second front impact. (T4)\\n\\n(18) I was driving at about 45 km/h in a small one-way street where cars were parked on both sides. Popping suddenly on my right coming out of a private building garage, Mrs.Glorieux's vehicle was at a very short distance from my vehicle; passage being impossible: surprised, I immediately put the brakes on but the impact was unavoidable. (T14)\\n\\nMorover, the authors may choose to describe only that part of reality which is in their favor, and the reader must thus be able to reconstruct the items that were left out (intentionally or not).\\n\\n(19) c. but I hit the second car which hadn't yet gone through the stop-sign. (T1)\\n\\nc. I wasn't able to avoid the car which was coming with great speed (T8)\\n\\nc. at that moment vehicle B passed me with great speed (T9)\\n\\nResolving Ambiguity and Drawing Inferences\\n\\nThese texts provide a number of examples of clearcut ambiguity between two situations A and B, which an argumentative type of justification helps resolve. The question that allows resolving the ambiguity is: ``What advantage would there be for W in implying situation A? or in implying situation B?''. We go in more details into some examples.\\n\\nLexical Ambiguity\\n\\n(20) Je roulais sur la partie droite de la chausse (T8)\\n\\nI was driving on the (right-hand side)/(straight portion) of the road\\n\\nHere, even though the whole text can also be interpreted with the droite/straight meaning, the droite/right interpretation is more plausible. However, only an argumentative type of reasoning can lead R to prefer the latter.\", metadata={'chunk': 4.0, 'id': '562d9aae115d427e8ea173d9e2fd1b8b', 'source': '/Users/isaac/FundamentlPartners/abinvenv-sol/data/raw/cmplg-xml/9502032.xml'})]"
      ]
     },
     "execution_count": 17,
     "metadata": {},
     "output_type": "execute_result"
    }
   ],
   "source": [
    "vectorstore.similarity_search(\n",
    "    \"NVIDIA\",  # our search query\n",
    "    k=3  # return 3 most relevant docs\n",
    ")"
   ]
  },
  {
   "cell_type": "code",
   "execution_count": 41,
   "metadata": {},
   "outputs": [],
   "source": [
    "response = qa_with_sources(query_NVIDIA)"
   ]
  },
  {
   "cell_type": "code",
   "execution_count": 44,
   "metadata": {},
   "outputs": [
    {
     "data": {
      "text/plain": [
       "('NVIDIA is not mentioned in the provided document.\\nSOURCES:', '')"
      ]
     },
     "execution_count": 44,
     "metadata": {},
     "output_type": "execute_result"
    }
   ],
   "source": [
    "response['answer'], response['sources']"
   ]
  },
  {
   "cell_type": "code",
   "execution_count": 45,
   "metadata": {},
   "outputs": [],
   "source": [
    "query_disambiguation = \"How could i implement a disambiguation mechanism?\""
   ]
  },
  {
   "cell_type": "code",
   "execution_count": 46,
   "metadata": {},
   "outputs": [],
   "source": [
    "response = qa_with_sources(query_disambiguation)"
   ]
  },
  {
   "cell_type": "code",
   "execution_count": 47,
   "metadata": {},
   "outputs": [
    {
     "data": {
      "text/plain": [
       "('To implement a disambiguation mechanism, you can use an algorithm that coordinates anaphora resolution and prepositional phrase (PP) disambiguation. The algorithm applies resolution rules based on the focusing approach to the conceptual representation and uses attachment rules to fill empty roles in the Conceptual Structures (CSs). The algorithm is applied sentence by sentence, and the resolution of an anaphor is postponed if it is preceded by an unattached preposition. The algorithm was developed in the context of the COBALT project and is described in detail in the paper \"An Algorithm to Co-Ordinate Anaphora Resolution and PPS Disambiguation Process\" by Azzam (1994).\\n',\n",
       " '9502033.xml')"
      ]
     },
     "execution_count": 47,
     "metadata": {},
     "output_type": "execute_result"
    }
   ],
   "source": [
    "response['answer'], response['sources']"
   ]
  },
  {
   "cell_type": "code",
   "execution_count": 51,
   "metadata": {},
   "outputs": [],
   "source": [
    "query_senior_living = \"I have some questions about senior living, what are \""
   ]
  },
  {
   "cell_type": "code",
   "execution_count": 54,
   "metadata": {},
   "outputs": [],
   "source": [
    "response = qa_with_sources(query_senior_living)"
   ]
  },
  {
   "cell_type": "code",
   "execution_count": 55,
   "metadata": {},
   "outputs": [
    {
     "data": {
      "text/plain": [
       "(\"The best way to get started with senior living is to have open conversations with friends, family, healthcare professionals, and senior living experts. They can guide and support you through the decision-making process. Additionally, you can consider factors such as whether household chores and daily tasks have become overwhelming, if you need assistance with personal care, and if you have safety concerns. It's important to note that senior living offers various lifestyle options that prioritize independence while providing necessary care and support. The affordability of senior living can vary depending on factors such as location, level of care required, amenities offered, and the specific community chosen. However, many people are surprised to learn that the cost of senior living is often lower than the cost of staying in their current homes. It's recommended to use a Cost Comparison Calculator to get a more accurate comparison. Senior living offers benefits such as socializing on your terms, a supportive environment with trained staff, safety and security measures, chore-free living, and access to entertainment and activities. Ultimately, the decision to consider senior living should be based on individual needs and preferences.\\n\",\n",
       " '/Users/isaac/FundamentlPartners/abinvenv-sol/data/raw/common.txt')"
      ]
     },
     "execution_count": 55,
     "metadata": {},
     "output_type": "execute_result"
    }
   ],
   "source": [
    "response['answer'], response['sources']"
   ]
  },
  {
   "cell_type": "code",
   "execution_count": 57,
   "metadata": {},
   "outputs": [],
   "source": [
    "query_espanol = \"Dime acerca de la vida de la tercera edad\""
   ]
  },
  {
   "cell_type": "code",
   "execution_count": 58,
   "metadata": {},
   "outputs": [],
   "source": [
    "response = qa_with_sources(query_espanol)"
   ]
  },
  {
   "cell_type": "code",
   "execution_count": 59,
   "metadata": {},
   "outputs": [
    {
     "data": {
      "text/plain": [
       "(\"I don't know the answer to this question.\\nSOURCES:\", '')"
      ]
     },
     "execution_count": 59,
     "metadata": {},
     "output_type": "execute_result"
    }
   ],
   "source": [
    "response['answer'], response['sources']"
   ]
  }
 ],
 "metadata": {
  "kernelspec": {
   "display_name": "venv",
   "language": "python",
   "name": "python3"
  },
  "language_info": {
   "codemirror_mode": {
    "name": "ipython",
    "version": 3
   },
   "file_extension": ".py",
   "mimetype": "text/x-python",
   "name": "python",
   "nbconvert_exporter": "python",
   "pygments_lexer": "ipython3",
   "version": "3.10.0"
  },
  "orig_nbformat": 4
 },
 "nbformat": 4,
 "nbformat_minor": 2
}
