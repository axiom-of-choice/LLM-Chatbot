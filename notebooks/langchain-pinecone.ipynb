{
 "cells": [
  {
   "cell_type": "code",
   "execution_count": 2,
   "metadata": {},
   "outputs": [],
   "source": [
    "import os\n",
    "from langchain.embeddings import HuggingFaceEmbeddings\n",
    "from dotenv import load_dotenv\n",
    "from langchain.vectorstores.pinecone import Pinecone\n",
    "import pinecone"
   ]
  },
  {
   "cell_type": "code",
   "execution_count": 3,
   "metadata": {},
   "outputs": [
    {
     "data": {
      "text/plain": [
       "True"
      ]
     },
     "execution_count": 3,
     "metadata": {},
     "output_type": "execute_result"
    }
   ],
   "source": [
    "\n",
    "load_dotenv()"
   ]
  },
  {
   "cell_type": "code",
   "execution_count": 40,
   "metadata": {},
   "outputs": [
    {
     "name": "stderr",
     "output_type": "stream",
     "text": [
      "Found cached dataset wikipedia (/Users/isaac/.cache/huggingface/datasets/wikipedia/20220301.simple/2.0.0/aa542ed919df55cc5d3347f42dd4521d05ca68751f50dbc32bae2a7f1e167559)\n"
     ]
    },
    {
     "data": {
      "text/plain": [
       "Dataset({\n",
       "    features: ['id', 'url', 'title', 'text'],\n",
       "    num_rows: 10000\n",
       "})"
      ]
     },
     "execution_count": 40,
     "metadata": {},
     "output_type": "execute_result"
    }
   ],
   "source": [
    "from datasets import load_dataset\n",
    "\n",
    "data = load_dataset(\"wikipedia\", \"20220301.simple\", split='train[:10000]')\n",
    "data"
   ]
  },
  {
   "cell_type": "code",
   "execution_count": 56,
   "metadata": {},
   "outputs": [
    {
     "data": {
      "text/plain": [
       "26"
      ]
     },
     "execution_count": 56,
     "metadata": {},
     "output_type": "execute_result"
    }
   ],
   "source": [
    "import tiktoken\n",
    "\n",
    "tokenizer = tiktoken.get_encoding('cl100k_base')\n",
    "\n",
    "# create the length function\n",
    "def tiktoken_len(text):\n",
    "    tokens = tokenizer.encode(\n",
    "        text,\n",
    "        disallowed_special=()\n",
    "    )\n",
    "    return len(tokens)\n",
    "\n",
    "tiktoken_len(\"hello I am a chunk of text and using the tiktoken_len function \"\n",
    "             \"we can find the length of this chunk of text in tokens\")"
   ]
  },
  {
   "cell_type": "code",
   "execution_count": 57,
   "metadata": {},
   "outputs": [],
   "source": [
    "from langchain.text_splitter import RecursiveCharacterTextSplitter\n",
    "\n",
    "text_splitter = RecursiveCharacterTextSplitter(\n",
    "    chunk_size=400,\n",
    "    chunk_overlap=20,\n",
    "    length_function=tiktoken_len,\n",
    "    separators=[\"\\n\\n\", \"\\n\", \" \", \"\"]\n",
    ")"
   ]
  },
  {
   "cell_type": "code",
   "execution_count": 58,
   "metadata": {},
   "outputs": [
    {
     "data": {
      "text/plain": [
       "['Alan Mathison Turing OBE FRS (London, 23 June 1912 – Wilmslow, Cheshire, 7 June 1954) was an English mathematician and computer scientist. He was born in Maida Vale, London.\\n\\nEarly life and family \\nAlan Turing was born in Maida Vale, London on 23 June 1912. His father was part of a family of merchants from Scotland. His mother, Ethel Sara, was the daughter of an engineer.\\n\\nEducation \\nTuring went to St. Michael\\'s, a school at 20 Charles Road, St Leonards-on-sea, when he was five years old.\\n\"This is only a foretaste of what is to come, and only the shadow of what is going to be.” – Alan Turing.\\n\\nThe Stoney family were once prominent landlords, here in North Tipperary. His mother Ethel Sara Stoney (1881–1976) was daughter of Edward Waller Stoney (Borrisokane, North Tipperary) and Sarah Crawford (Cartron Abbey, Co. Longford); Protestant Anglo-Irish gentry.\\n\\nEducated in Dublin at Alexandra School and College; on October 1st 1907 she married Julius Mathison Turing, latter son of Reverend John Robert Turing and Fanny Boyd, in Dublin. Born on June 23rd 1912, Alan Turing would go on to be regarded as one of the greatest figures of the twentieth century.',\n",
       " 'A brilliant mathematician and cryptographer Alan was to become the founder of modern-day computer science and artificial intelligence; designing a machine at Bletchley Park to break secret Enigma encrypted messages used by the Nazi German war machine to protect sensitive commercial, diplomatic and military communications during World War 2. Thus, Turing made the single biggest contribution to the Allied victory in the war against Nazi Germany, possibly saving the lives of an estimated 2 million people, through his effort in shortening World War II.\\n\\nIn 2013, almost 60 years later, Turing received a posthumous Royal Pardon from Queen Elizabeth II. Today, the “Turing law” grants an automatic pardon to men who died before the law came into force, making it possible for living convicted gay men to seek pardons for offences now no longer on the statute book.\\n\\nAlas, Turing accidentally or otherwise lost his life in 1954, having been subjected by a British court to chemical castration, thus avoiding a custodial sentence. He is known to have ended his life at the age of 41 years, by eating an apple laced with cyanide.\\n\\nCareer \\nTuring was one of the people who worked on the first computers. He created the theoretical  Turing machine in 1936. The machine was imaginary, but it included the idea of a computer program.\\n\\nTuring was interested in artificial intelligence. He proposed the Turing test, to say when a machine could be called \"intelligent\". A computer could be said to \"think\" if a human talking with it could not tell it was a machine.',\n",
       " 'During World War II, Turing worked with others to break German ciphers (secret messages). He  worked for the Government Code and Cypher School (GC&CS) at Bletchley Park, Britain\\'s codebreaking centre that produced Ultra intelligence.\\nUsing cryptanalysis, he helped to break the codes of the Enigma machine. After that, he worked on other German codes.\\n\\nFrom 1945 to 1947, Turing worked on the design of the ACE (Automatic Computing Engine) at the National Physical Laboratory. He presented a paper on 19 February 1946. That paper was \"the first detailed design of a stored-program computer\". Although it was possible to build ACE, there were delays in starting the project. In late 1947 he returned to Cambridge for a sabbatical year. While he was at Cambridge, the Pilot ACE was built without him. It ran its first program on 10\\xa0May 1950.\\n\\nPrivate life \\nTuring was a homosexual man. In 1952, he admitted having had sex with a man in England. At that time, homosexual acts were illegal. Turing was convicted. He had to choose between going to jail and taking hormones to lower his sex drive. He decided to take the hormones. After his punishment, he became impotent. He also grew breasts.\\n\\nIn May 2012, a private member\\'s bill was put before the House of Lords to grant Turing a statutory pardon. In July 2013, the government supported it. A royal pardon was granted on 24 December 2013.\\n\\nDeath \\nIn 1954, Turing died from cyanide poisoning. The cyanide came from either an apple which was poisoned with cyanide, or from water that had cyanide in it. The reason for the confusion is that the police never tested the apple for cyanide. It is also suspected that he committed suicide.']"
      ]
     },
     "execution_count": 58,
     "metadata": {},
     "output_type": "execute_result"
    }
   ],
   "source": [
    "chunks = text_splitter.split_text(data[6]['text'])[:3]\n",
    "chunks"
   ]
  },
  {
   "cell_type": "code",
   "execution_count": 14,
   "metadata": {},
   "outputs": [],
   "source": [
    "embeddings = HuggingFaceEmbeddings(model_name = \"sentence-transformers/all-MiniLM-L6-v2\")"
   ]
  },
  {
   "cell_type": "code",
   "execution_count": 42,
   "metadata": {},
   "outputs": [],
   "source": [
    "texts = [\n",
    "    'this is the first chunk of text',\n",
    "    'then another second chunk of text is here'\n",
    "]"
   ]
  },
  {
   "cell_type": "code",
   "execution_count": 43,
   "metadata": {},
   "outputs": [],
   "source": [
    "res = embeddings.embed_documents(texts)"
   ]
  },
  {
   "cell_type": "code",
   "execution_count": 44,
   "metadata": {},
   "outputs": [
    {
     "data": {
      "text/plain": [
       "[0.03048289753496647,\n",
       " 0.019477777183055878,\n",
       " 0.04769350215792656,\n",
       " 0.020642202347517014,\n",
       " 0.02876034937798977,\n",
       " -0.024882949888706207,\n",
       " -0.023797957226634026,\n",
       " -0.02318163961172104,\n",
       " 0.1302988976240158,\n",
       " -0.028141969814896584,\n",
       " 0.0786842554807663,\n",
       " 0.023741433396935463,\n",
       " -0.030606720596551895,\n",
       " -0.040750179439783096,\n",
       " 0.005268531385809183,\n",
       " 0.0037540814373642206,\n",
       " 0.02434307150542736,\n",
       " -0.03420156612992287,\n",
       " -0.02976469323039055,\n",
       " -0.08451639115810394,\n",
       " 0.04233452305197716,\n",
       " 0.0967378318309784,\n",
       " 0.030192751437425613,\n",
       " 0.04283454269170761,\n",
       " 0.01891050487756729,\n",
       " 0.10174936056137085,\n",
       " -0.09383708238601685,\n",
       " 0.10698720812797546,\n",
       " 0.06146544963121414,\n",
       " 0.01342026423662901,\n",
       " -0.0481453575193882,\n",
       " 0.034789733588695526,\n",
       " 0.05406195670366287,\n",
       " 0.029579579830169678,\n",
       " 0.03954707831144333,\n",
       " -0.026034638285636902,\n",
       " -0.03798598423600197,\n",
       " 0.09986936300992966,\n",
       " 0.022789129987359047,\n",
       " -0.019318530336022377,\n",
       " 0.018158327788114548,\n",
       " -0.10023137927055359,\n",
       " 0.002032781019806862,\n",
       " 0.04046790674328804,\n",
       " 0.013599042780697346,\n",
       " -0.05427997186779976,\n",
       " -0.05262996628880501,\n",
       " -0.03925963118672371,\n",
       " 0.08339110761880875,\n",
       " -0.007821081206202507,\n",
       " -0.06795831024646759,\n",
       " -0.0315917544066906,\n",
       " -0.02311807870864868,\n",
       " 0.04129233956336975,\n",
       " 0.03240673243999481,\n",
       " 0.08043831586837769,\n",
       " -0.02750593051314354,\n",
       " -0.009266695007681847,\n",
       " -0.013060813769698143,\n",
       " -0.004555216524749994,\n",
       " 0.029190057888627052,\n",
       " 0.06847434490919113,\n",
       " 0.007471530698239803,\n",
       " 0.005604959558695555,\n",
       " 0.10473866760730743,\n",
       " -0.03772471845149994,\n",
       " -0.046140074729919434,\n",
       " -0.005188221577554941,\n",
       " -0.15442709624767303,\n",
       " 0.0673748105764389,\n",
       " 0.05742881819605827,\n",
       " 0.048120129853487015,\n",
       " -0.051616210490465164,\n",
       " 0.08330132067203522,\n",
       " -0.039198294281959534,\n",
       " -0.04315465688705444,\n",
       " -0.04077666625380516,\n",
       " -0.02817869745194912,\n",
       " 0.014313863590359688,\n",
       " 0.026454366743564606,\n",
       " -0.019679930061101913,\n",
       " -0.04641195014119148,\n",
       " 0.026602886617183685,\n",
       " 0.013407720252871513,\n",
       " -0.03417106345295906,\n",
       " 0.018643062561750412,\n",
       " 0.0001739868603181094,\n",
       " -0.06725871562957764,\n",
       " -0.043590907007455826,\n",
       " 8.313493162859231e-05,\n",
       " 0.008727182634174824,\n",
       " -0.05660242214798927,\n",
       " 0.1179618090391159,\n",
       " 0.0456492155790329,\n",
       " -0.07397346198558807,\n",
       " 0.032036080956459045,\n",
       " -0.08421612530946732,\n",
       " -0.007158071734011173,\n",
       " -0.002705504186451435,\n",
       " 0.09811180084943771,\n",
       " -0.03596181422472,\n",
       " -0.020386267453432083,\n",
       " 0.06505917757749557,\n",
       " -0.026587147265672684,\n",
       " -0.10031244903802872,\n",
       " -0.10523352026939392,\n",
       " 0.006694364361464977,\n",
       " 0.04667472839355469,\n",
       " -0.00492942426353693,\n",
       " -0.011871231719851494,\n",
       " 0.017288371920585632,\n",
       " 0.0035807588137686253,\n",
       " -0.07453369349241257,\n",
       " 0.010289743542671204,\n",
       " 0.014399602077901363,\n",
       " 0.02216513641178608,\n",
       " 0.10904359817504883,\n",
       " 0.05060897395014763,\n",
       " 0.033602915704250336,\n",
       " 0.06236274912953377,\n",
       " -0.01710839942097664,\n",
       " -0.0045485408045351505,\n",
       " -0.09573835134506226,\n",
       " 0.016832295805215836,\n",
       " 0.01614454574882984,\n",
       " -0.08537032455205917,\n",
       " 0.04116155952215195,\n",
       " -4.040849074672963e-34,\n",
       " -0.06453648209571838,\n",
       " 0.030727483332157135,\n",
       " 0.004003065638244152,\n",
       " 0.031232234090566635,\n",
       " 0.012094955891370773,\n",
       " 0.04766855761408806,\n",
       " -0.05034535378217697,\n",
       " 0.0059636724181473255,\n",
       " -0.007761430460959673,\n",
       " -0.10395324230194092,\n",
       " 0.004588145297020674,\n",
       " -0.09309236705303192,\n",
       " 0.029807880520820618,\n",
       " 0.03786327317357063,\n",
       " -0.079656220972538,\n",
       " -0.11777902394533157,\n",
       " 0.004702365025877953,\n",
       " 0.053957853466272354,\n",
       " 0.012775617651641369,\n",
       " 0.03303643316030502,\n",
       " -0.07111460715532303,\n",
       " -0.027877580374479294,\n",
       " 0.07358454912900925,\n",
       " -0.027042701840400696,\n",
       " -0.012106738053262234,\n",
       " 0.07620865106582642,\n",
       " 0.0746491551399231,\n",
       " -0.030825207009911537,\n",
       " -0.01457787211984396,\n",
       " 0.0008882955298759043,\n",
       " -0.03325396403670311,\n",
       " 0.011881735175848007,\n",
       " 0.004125676117837429,\n",
       " -0.06031486392021179,\n",
       " 0.012324715033173561,\n",
       " 0.029216093942523003,\n",
       " 0.025949910283088684,\n",
       " -0.04939057677984238,\n",
       " -0.03810664638876915,\n",
       " 0.0017610490322113037,\n",
       " -0.02413637563586235,\n",
       " -0.006506064906716347,\n",
       " 0.02836151421070099,\n",
       " -0.0572245754301548,\n",
       " -0.012414101511240005,\n",
       " -0.010852868668735027,\n",
       " 0.0347721166908741,\n",
       " -0.00032989212195388973,\n",
       " 0.01671425998210907,\n",
       " 0.011961415410041809,\n",
       " -0.011804811656475067,\n",
       " 0.07415586709976196,\n",
       " 0.07965739816427231,\n",
       " 0.018779566511511803,\n",
       " 0.02044358104467392,\n",
       " -0.004029239993542433,\n",
       " -0.06281107664108276,\n",
       " 0.047513797879219055,\n",
       " 0.000908136717043817,\n",
       " 0.050699178129434586,\n",
       " 0.01429864764213562,\n",
       " 0.006828635465353727,\n",
       " 0.016768928617239,\n",
       " -0.03906116262078285,\n",
       " 0.019726961851119995,\n",
       " 0.012789088301360607,\n",
       " 0.007923781871795654,\n",
       " 0.029113242402672768,\n",
       " 0.02743726596236229,\n",
       " -0.015448500402271748,\n",
       " -0.06567211449146271,\n",
       " -0.06976307928562164,\n",
       " 0.023975051939487457,\n",
       " 0.06468120217323303,\n",
       " -0.06796503812074661,\n",
       " -0.038962263613939285,\n",
       " 0.014722282066941261,\n",
       " -0.030065320432186127,\n",
       " -0.020306536927819252,\n",
       " -0.0011951675405725837,\n",
       " 0.030161617323756218,\n",
       " -0.1434110552072525,\n",
       " 0.0496763251721859,\n",
       " -0.029079683125019073,\n",
       " -0.02546013705432415,\n",
       " -0.03874199092388153,\n",
       " 0.019564183428883553,\n",
       " -0.1332438588142395,\n",
       " -0.05995386838912964,\n",
       " 0.018623536452651024,\n",
       " -0.11703214049339294,\n",
       " 0.02325187437236309,\n",
       " 0.02279951237142086,\n",
       " -0.049002982676029205,\n",
       " 0.04674961417913437,\n",
       " -1.7651753981115262e-33,\n",
       " 0.0056639378890395164,\n",
       " -0.07845265418291092,\n",
       " -0.03964446485042572,\n",
       " -0.022435521706938744,\n",
       " 0.010246651247143745,\n",
       " 0.0375666618347168,\n",
       " 0.027769584208726883,\n",
       " 0.07684791833162308,\n",
       " -0.00491546792909503,\n",
       " 0.05334928631782532,\n",
       " 0.048210836946964264,\n",
       " 0.0672312006354332,\n",
       " 0.012035719119012356,\n",
       " -0.023008886724710464,\n",
       " 9.441387373954058e-05,\n",
       " 0.048296622931957245,\n",
       " 0.15189267694950104,\n",
       " 0.039101410657167435,\n",
       " 0.05705508962273598,\n",
       " 0.07588215917348862,\n",
       " 0.015326549299061298,\n",
       " -0.029658552259206772,\n",
       " -0.02333441562950611,\n",
       " 0.09910158067941666,\n",
       " 0.030390404164791107,\n",
       " 0.03394287824630737,\n",
       " 0.0009322755504399538,\n",
       " 0.0338943786919117,\n",
       " -0.07217199355363846,\n",
       " 0.0360172763466835,\n",
       " 0.0020751517731696367,\n",
       " -0.05816109851002693,\n",
       " -0.09827365726232529,\n",
       " -0.011004408821463585,\n",
       " -0.006243207026273012,\n",
       " 0.007223848719149828,\n",
       " 0.054218098521232605,\n",
       " -0.015108797699213028,\n",
       " -0.01119466032832861,\n",
       " 0.05426028370857239,\n",
       " 0.07273959368467331,\n",
       " -0.011230521835386753,\n",
       " -0.02694663219153881,\n",
       " 0.006023815833032131,\n",
       " -0.019971920177340508,\n",
       " -0.07975678145885468,\n",
       " 0.03340190276503563,\n",
       " 0.011729397810995579,\n",
       " -0.05183159559965134,\n",
       " 0.07502053678035736,\n",
       " -0.012500494718551636,\n",
       " -0.05734880641102791,\n",
       " -0.043963488191366196,\n",
       " -0.011096625588834286,\n",
       " -0.08795823156833649,\n",
       " -0.0010978520149365067,\n",
       " -0.0919622927904129,\n",
       " 0.026941591873764992,\n",
       " 0.01293326448649168,\n",
       " -0.09472202509641647,\n",
       " -0.05342612415552139,\n",
       " 0.06223258376121521,\n",
       " -0.06501694023609161,\n",
       " -0.0024292173329740763,\n",
       " 0.1644030660390854,\n",
       " -0.08023998141288757,\n",
       " -0.023363022133708,\n",
       " 0.010152708739042282,\n",
       " -0.024286368861794472,\n",
       " 0.013892030343413353,\n",
       " 0.007494467776268721,\n",
       " -0.03444434702396393,\n",
       " -0.06758803129196167,\n",
       " -0.05916387587785721,\n",
       " 0.012794215232133865,\n",
       " 0.0476636067032814,\n",
       " 0.021316349506378174,\n",
       " -0.04533567279577255,\n",
       " -0.03560534864664078,\n",
       " -0.0020041249226778746,\n",
       " 0.07822398841381073,\n",
       " -0.005532657727599144,\n",
       " -0.015403942205011845,\n",
       " -0.010608234442770481,\n",
       " -0.009043431840837002,\n",
       " -0.022328665480017662,\n",
       " -0.048251986503601074,\n",
       " -0.0013334741815924644,\n",
       " -0.018198993057012558,\n",
       " -0.007429331541061401,\n",
       " -0.057670239359140396,\n",
       " 0.0368606336414814,\n",
       " 0.03782579302787781,\n",
       " 0.15759579837322235,\n",
       " -0.1006670892238617,\n",
       " -2.109946706241317e-08,\n",
       " 0.03266635537147522,\n",
       " -0.11105729639530182,\n",
       " -0.02702382206916809,\n",
       " 0.01533830352127552,\n",
       " 0.044466614723205566,\n",
       " 0.04543789476156235,\n",
       " -0.04128948971629143,\n",
       " -0.08559505641460419,\n",
       " -0.06435331702232361,\n",
       " -0.0710771232843399,\n",
       " 0.0001007745013339445,\n",
       " 0.016172396019101143,\n",
       " -0.0017312208656221628,\n",
       " -0.05853328853845596,\n",
       " -0.004092045594006777,\n",
       " -0.041431013494729996,\n",
       " -0.05300387740135193,\n",
       " -0.03354987874627113,\n",
       " -0.031498346477746964,\n",
       " -0.021193617954850197,\n",
       " 0.019423101097345352,\n",
       " 0.020217448472976685,\n",
       " -0.023186447098851204,\n",
       " 0.019121961668133736,\n",
       " -0.053862206637859344,\n",
       " 0.043859634548425674,\n",
       " -0.06532600522041321,\n",
       " 0.028268327936530113,\n",
       " -0.02252352610230446,\n",
       " -0.08109910041093826,\n",
       " 0.07600630074739456,\n",
       " 0.03577990457415581,\n",
       " -0.02213939279317856,\n",
       " -0.01708151027560234,\n",
       " 0.027068521827459335,\n",
       " 0.020965885370969772,\n",
       " 0.07276368141174316,\n",
       " 0.01957206428050995,\n",
       " 0.049909576773643494,\n",
       " -0.06991682946681976,\n",
       " 0.017558444291353226,\n",
       " -0.05537099391222,\n",
       " 0.05320499837398529,\n",
       " 0.07676896452903748,\n",
       " 0.05156668275594711,\n",
       " -0.021970687434077263,\n",
       " 0.037879981100559235,\n",
       " -0.059371232986450195,\n",
       " 0.0020346955861896276,\n",
       " -0.1054786890745163,\n",
       " 0.0648968294262886,\n",
       " -0.046063024550676346,\n",
       " 0.047857753932476044,\n",
       " 0.0011223223991692066,\n",
       " 0.019013920798897743,\n",
       " -0.008163509890437126,\n",
       " 0.06565067917108536,\n",
       " 0.03876523673534393,\n",
       " -0.09284862130880356,\n",
       " 0.016436567530035973,\n",
       " 0.050734151154756546,\n",
       " 0.061642151325941086,\n",
       " 0.0922042727470398,\n",
       " 0.002530914731323719]"
      ]
     },
     "execution_count": 44,
     "metadata": {},
     "output_type": "execute_result"
    }
   ],
   "source": [
    "res[1]"
   ]
  },
  {
   "cell_type": "code",
   "execution_count": 4,
   "metadata": {},
   "outputs": [],
   "source": [
    "\n",
    "# Save it into pinecone\n",
    "API_KEY = os.environ.get(\"PINECONE_API_KEY\")\n",
    "YOUR_ENV = os.environ.get(\"PINECONE_ENVIRONMENT\", \"us-west4-gcp-free\")\n",
    "index_name = \"test-langchain\""
   ]
  },
  {
   "cell_type": "code",
   "execution_count": 5,
   "metadata": {},
   "outputs": [],
   "source": [
    "pinecone.init(\n",
    "    api_key=API_KEY,\n",
    "    environment=YOUR_ENV\n",
    ")\n",
    "\n",
    "if len(pinecone.list_indexes()) == 0:\n",
    "    pinecone.create_index(name=index_name, metric=\"cosine\", shards=1, dimension=len(res[0]))"
   ]
  },
  {
   "cell_type": "code",
   "execution_count": 6,
   "metadata": {},
   "outputs": [
    {
     "data": {
      "text/plain": [
       "IndexDescription(name='test-langchain', metric='cosine', replicas=1, dimension=384.0, shards=1, pods=1, pod_type='p1', status={'ready': True, 'state': 'Ready'}, metadata_config=None, source_collection='')"
      ]
     },
     "execution_count": 6,
     "metadata": {},
     "output_type": "execute_result"
    }
   ],
   "source": [
    "pinecone.describe_index(pinecone.list_indexes()[0])"
   ]
  },
  {
   "cell_type": "code",
   "execution_count": 7,
   "metadata": {},
   "outputs": [
    {
     "data": {
      "text/plain": [
       "<pinecone.index.Index at 0x113061030>"
      ]
     },
     "execution_count": 7,
     "metadata": {},
     "output_type": "execute_result"
    }
   ],
   "source": [
    "index = pinecone.Index(index_name)\n",
    "index"
   ]
  },
  {
   "cell_type": "code",
   "execution_count": 8,
   "metadata": {},
   "outputs": [
    {
     "data": {
      "text/plain": [
       "{'dimension': 384,\n",
       " 'index_fullness': 0.1,\n",
       " 'namespaces': {'': {'vector_count': 28430}},\n",
       " 'total_vector_count': 28430}"
      ]
     },
     "execution_count": 8,
     "metadata": {},
     "output_type": "execute_result"
    }
   ],
   "source": [
    "index.describe_index_stats()"
   ]
  },
  {
   "cell_type": "code",
   "execution_count": null,
   "metadata": {},
   "outputs": [],
   "source": [
    "#vector_db = Pinecone.from_texts(texts=texts, embedding=embeddings, index_name=\"test-langchain\")"
   ]
  },
  {
   "cell_type": "code",
   "execution_count": 53,
   "metadata": {},
   "outputs": [],
   "source": [
    "from tqdm.auto import tqdm\n",
    "from uuid import uuid4"
   ]
  },
  {
   "cell_type": "code",
   "execution_count": 54,
   "metadata": {},
   "outputs": [],
   "source": [
    "batch_limit = 100\n",
    "\n",
    "texts = []\n",
    "metadatas = []"
   ]
  },
  {
   "cell_type": "code",
   "execution_count": 59,
   "metadata": {},
   "outputs": [
    {
     "name": "stderr",
     "output_type": "stream",
     "text": [
      "100%|██████████| 10000/10000 [12:17<00:00, 13.55it/s]\n"
     ]
    }
   ],
   "source": [
    "for i, record in enumerate(tqdm(data)):\n",
    "    # first get metadata fields for this record\n",
    "    metadata = {\n",
    "        'wiki-id': str(record['id']),\n",
    "        'source': record['url'],\n",
    "        'title': record['title']\n",
    "    }\n",
    "    # now we create chunks from the record text\n",
    "    record_texts = text_splitter.split_text(record['text'])\n",
    "    # create individual metadata dicts for each chunk\n",
    "    record_metadatas = [{\n",
    "        \"chunk\": j, \"text\": text, **metadata\n",
    "    } for j, text in enumerate(record_texts)]\n",
    "    # append these to current batches\n",
    "    texts.extend(record_texts)\n",
    "    metadatas.extend(record_metadatas)\n",
    "    # if we have reached the batch_limit we can add texts\n",
    "    if len(texts) >= batch_limit:\n",
    "        ids = [str(uuid4()) for _ in range(len(texts))]\n",
    "        embeds = embeddings.embed_documents(texts)\n",
    "        index.upsert(vectors=zip(ids, embeds, metadatas))\n",
    "        texts = []\n",
    "        metadatas = []\n",
    "\n",
    "if len(texts) > 0:\n",
    "    ids = [str(uuid4()) for _ in range(len(texts))]\n",
    "    embeds = embeddings.embed_documents(texts)\n",
    "    index.upsert(vectors=zip(ids, embeds, metadatas))"
   ]
  },
  {
   "cell_type": "code",
   "execution_count": 60,
   "metadata": {},
   "outputs": [
    {
     "data": {
      "text/plain": [
       "{'dimension': 384,\n",
       " 'index_fullness': 0.1,\n",
       " 'namespaces': {'': {'vector_count': 28422}},\n",
       " 'total_vector_count': 28422}"
      ]
     },
     "execution_count": 60,
     "metadata": {},
     "output_type": "execute_result"
    }
   ],
   "source": [
    "index.describe_index_stats()"
   ]
  },
  {
   "attachments": {},
   "cell_type": "markdown",
   "metadata": {},
   "source": [
    "## Using LangChain Pinecone client"
   ]
  },
  {
   "cell_type": "code",
   "execution_count": 15,
   "metadata": {},
   "outputs": [],
   "source": [
    "from langchain.vectorstores import Pinecone"
   ]
  },
  {
   "cell_type": "code",
   "execution_count": 78,
   "metadata": {},
   "outputs": [
    {
     "data": {
      "text/plain": [
       "'test-langchain'"
      ]
     },
     "execution_count": 78,
     "metadata": {},
     "output_type": "execute_result"
    }
   ],
   "source": [
    "index_name"
   ]
  },
  {
   "cell_type": "code",
   "execution_count": 16,
   "metadata": {},
   "outputs": [],
   "source": [
    "text_field = \"text\"\n",
    "\n",
    "index = pinecone.Index(index_name)"
   ]
  },
  {
   "attachments": {},
   "cell_type": "markdown",
   "metadata": {},
   "source": [
    "## Querying"
   ]
  },
  {
   "cell_type": "code",
   "execution_count": 17,
   "metadata": {},
   "outputs": [],
   "source": [
    "vectorstore = Pinecone.from_existing_index(index_name, embeddings, text_field)"
   ]
  },
  {
   "cell_type": "code",
   "execution_count": 43,
   "metadata": {},
   "outputs": [
    {
     "data": {
      "text/plain": [
       "[Document(page_content=\"Drunk driving (Drink driving in the UK and Australia) is the act of driving a motor vehicle (car, truck, etc.) while under the effects of alcohol. Drunk driving is illegal in most areas of the world.  In some places, driving a motorless vehicle such as a bicycle while drunk is also illegal.\\n\\nMost areas that make laws (jurisdictions) started with DWI (driving while intoxicated) laws, banning just alcohol. Later, most changed them to DUI (driving under the influence) laws, adding other drugs to those banned while driving. The most common blood alcohol content (BAC) limit in the United States is 0.08% for the legal meaning of drunk. Only three states still use the more lax, original standard of 0.10%.  Many jurisdictions add extra penalties (more jail time and/or a longer DUI program) in cases where the driver's BAC is over 0.20%.\\n\\nUnited States laws \\n\\nThe first place in the United States to adopt laws against drunk driving was the state of New York in 1910, with California (1911) and others doing the same later. Early laws simply banned driving while drunk, with no mention of what BAC was banned (which means how drunk the person is). The state of Georgia was one of the last states to make laws against drunk driving. One of the years with the most alcohol related crashes was 1982. The year 1982 had 26,173 alcohol related deaths due to drunk driving.\\n\\nIn the US, most of the laws were greatly tightened in the early 1980s, largely due to pressure from groups like Mothers Against Drunk Drivers (MADD) and Young Adults Educating Responsible Drinking.\\n\\nReferences\\n\\nTypes of crime\", metadata={'chunk': 0.0, 'source': 'https://simple.wikipedia.org/wiki/Drunk%20driving', 'title': 'Drunk driving', 'wiki-id': '3026'}),\n",
       " Document(page_content='Further reading \\nH.L.A. Hart, The Concept of Law, (Penelope A. Bullock & Joseph Raz eds. 2nd ed. 1994) (1961).\\nSandro Nielsen: The Bilingual LSP Dictionary. Principles and Practice for Legal Language. Benjamins 1994.\\nA Companion to Contemporary Political Philosophy. edited by Robert E. Goodin and Philip Pettit. .\\nJohnson, Alan (1995). The Blackwell Dictionary of Sociology. Blackwells publishers. .\\nHandbook of Political Institutions. edited by R. A. W. Rhodes, Sarah A. Binder and Bert A. Rockman. Oxford University Press. \\nAn Introduction to IP Law. edited by John Watts. Oxford University Press. Available at Patent Professionals LLC\\n\\nReferences\\n\\nOther websites \\n Law -Citizendium', metadata={'chunk': 8.0, 'source': 'https://simple.wikipedia.org/wiki/Law', 'title': 'Law', 'wiki-id': '426'}),\n",
       " Document(page_content='Legislature is a word that comes from the Latin language, meaning \"those who write the laws.\" A legislature is therefore a group of people who vote for new laws, for example in a state or country.\\n\\nEach person in the legislature is usually either elected or appointed. The constitution of that state or country usually tells how a legislature is supposed to work.\\n\\nIn many countries, the legislature is called a Parliament, Congress, or National Assembly. Sometimes there are two groups of members in the legislature. This is called a \"bicameral\" legislature. A unicameral legislature has only one group of members.\\n\\nA country, district, city, or other small area may also have something like a legislature. These are often called councils, and they make smaller laws for their areas.\\n\\nList of titles of legislatures\\n\\nNational \\n Parliament\\n Congress\\n Diet\\n National Assembly\\n Althing — Iceland\\n Assembleia da República — Portugal\\n Bundestag — Germany\\n Riksdag — Sweden\\n Cortes Generales — Spain\\n Eduskunta — Finland\\n Federal Assembly — Russia, Switzerland\\n Folketing — Denmark\\n Stortinget — Norway\\n Knesset — Israel\\n Assembly of Albania — Albania\\n Legislative Yuan — Republic of China/Taiwan\\n moganane — Iran\\n United States Capitol - United States\\n\\nSub-National \\n List of state legislatures of the United States — United States\\n General Assembly / Assembly\\n Great and General Court / General Court\\n House of Delegates\\n Landtag — Germany, Austria\\n Canada\\n Legislative Assembly — All provinces and territories except:\\n National Assembly — Quebec\\n House of Assembly — Nova Scotia and Newfoundland and Labrador\\n Australia\\n Legislative Assembly - All States and Territories except:\\n House of Assembly - South Australia and Tasmania\\n Legislative Council - All States except Queensland\\n United Kingdom\\n Scottish Parliament — Scotland\\n Northern Ireland Assembly — Northern Ireland\\n National Assembly for Wales — Wales\\nHouses of Parliament — United Kingdom overall.', metadata={'chunk': 0.0, 'source': 'https://simple.wikipedia.org/wiki/Legislature', 'title': 'Legislature', 'wiki-id': '457'})]"
      ]
     },
     "execution_count": 43,
     "metadata": {},
     "output_type": "execute_result"
    }
   ],
   "source": [
    "query = \"I have an issue about writing legislation for drink driving in country Mexico. What should I do\"\n",
    "\n",
    "vectorstore.similarity_search(query, k=3)"
   ]
  },
  {
   "attachments": {},
   "cell_type": "markdown",
   "metadata": {},
   "source": [
    "## Generative QA"
   ]
  },
  {
   "cell_type": "code",
   "execution_count": 55,
   "metadata": {},
   "outputs": [],
   "source": [
    "docs = vectorstore.similarity_search(query, k=3)[0]\n",
    "body = docs.page_content\n",
    "source = docs.metadata['source']"
   ]
  },
  {
   "cell_type": "code",
   "execution_count": 57,
   "metadata": {},
   "outputs": [
    {
     "data": {
      "text/plain": [
       "'Using only the following documents page_content=\"Drunk driving (Drink driving in the UK and Australia) is the act of driving a motor vehicle (car, truck, etc.) while under the effects of alcohol. Drunk driving is illegal in most areas of the world.  In some places, driving a motorless vehicle such as a bicycle while drunk is also illegal.\\\\n\\\\nMost areas that make laws (jurisdictions) started with DWI (driving while intoxicated) laws, banning just alcohol. Later, most changed them to DUI (driving under the influence) laws, adding other drugs to those banned while driving. The most common blood alcohol content (BAC) limit in the United States is 0.08% for the legal meaning of drunk. Only three states still use the more lax, original standard of 0.10%.  Many jurisdictions add extra penalties (more jail time and/or a longer DUI program) in cases where the driver\\'s BAC is over 0.20%.\\\\n\\\\nUnited States laws \\\\n\\\\nThe first place in the United States to adopt laws against drunk driving was the state of New York in 1910, with California (1911) and others doing the same later. Early laws simply banned driving while drunk, with no mention of what BAC was banned (which means how drunk the person is). The state of Georgia was one of the last states to make laws against drunk driving. One of the years with the most alcohol related crashes was 1982. The year 1982 had 26,173 alcohol related deaths due to drunk driving.\\\\n\\\\nIn the US, most of the laws were greatly tightened in the early 1980s, largely due to pressure from groups like Mothers Against Drunk Drivers (MADD) and Young Adults Educating Responsible Drinking.\\\\n\\\\nReferences\\\\n\\\\nTypes of crime\" metadata={\\'chunk\\': 0.0, \\'source\\': \\'https://simple.wikipedia.org/wiki/Drunk%20driving\\', \\'title\\': \\'Drunk driving\\', \\'wiki-id\\': \\'3026\\'} answerI have an issue about writing legislation for drink driving in country Mexico. What should I do'"
      ]
     },
     "execution_count": 57,
     "metadata": {},
     "output_type": "execute_result"
    }
   ],
   "source": [
    "question = f\"Using only the following documents {docs} answer\" + query \n",
    "question"
   ]
  },
  {
   "cell_type": "code",
   "execution_count": 58,
   "metadata": {},
   "outputs": [],
   "source": [
    "from langchain import HuggingFaceHub\n",
    "llm = HuggingFaceHub(repo_id='bigscience/bloom-1b7')"
   ]
  },
  {
   "cell_type": "code",
   "execution_count": 37,
   "metadata": {},
   "outputs": [],
   "source": [
    "from langchain.chains import RetrievalQA"
   ]
  },
  {
   "cell_type": "code",
   "execution_count": 38,
   "metadata": {},
   "outputs": [],
   "source": [
    "retriever = vectorstore.as_retriever()"
   ]
  },
  {
   "cell_type": "code",
   "execution_count": 39,
   "metadata": {},
   "outputs": [],
   "source": [
    "qa = RetrievalQA.from_chain_type(llm=llm, retriever=retriever, return_source_documents=True)"
   ]
  },
  {
   "cell_type": "code",
   "execution_count": 59,
   "metadata": {},
   "outputs": [
    {
     "ename": "ValueError",
     "evalue": "Error raised by inference API: Input validation error: `inputs` must have less than 1000 tokens. Given: 1054",
     "output_type": "error",
     "traceback": [
      "\u001b[0;31m---------------------------------------------------------------------------\u001b[0m",
      "\u001b[0;31mValueError\u001b[0m                                Traceback (most recent call last)",
      "Cell \u001b[0;32mIn[59], line 1\u001b[0m\n\u001b[0;32m----> 1\u001b[0m result \u001b[39m=\u001b[39m qa(inputs\u001b[39m=\u001b[39;49mquery)\n",
      "File \u001b[0;32m~/FundamentlPartners/abinvenv-sol/venv/lib/python3.10/site-packages/langchain/chains/base.py:166\u001b[0m, in \u001b[0;36mChain.__call__\u001b[0;34m(self, inputs, return_only_outputs, callbacks, tags, include_run_info)\u001b[0m\n\u001b[1;32m    164\u001b[0m \u001b[39mexcept\u001b[39;00m (\u001b[39mKeyboardInterrupt\u001b[39;00m, \u001b[39mException\u001b[39;00m) \u001b[39mas\u001b[39;00m e:\n\u001b[1;32m    165\u001b[0m     run_manager\u001b[39m.\u001b[39mon_chain_error(e)\n\u001b[0;32m--> 166\u001b[0m     \u001b[39mraise\u001b[39;00m e\n\u001b[1;32m    167\u001b[0m run_manager\u001b[39m.\u001b[39mon_chain_end(outputs)\n\u001b[1;32m    168\u001b[0m final_outputs: Dict[\u001b[39mstr\u001b[39m, Any] \u001b[39m=\u001b[39m \u001b[39mself\u001b[39m\u001b[39m.\u001b[39mprep_outputs(\n\u001b[1;32m    169\u001b[0m     inputs, outputs, return_only_outputs\n\u001b[1;32m    170\u001b[0m )\n",
      "File \u001b[0;32m~/FundamentlPartners/abinvenv-sol/venv/lib/python3.10/site-packages/langchain/chains/base.py:160\u001b[0m, in \u001b[0;36mChain.__call__\u001b[0;34m(self, inputs, return_only_outputs, callbacks, tags, include_run_info)\u001b[0m\n\u001b[1;32m    154\u001b[0m run_manager \u001b[39m=\u001b[39m callback_manager\u001b[39m.\u001b[39mon_chain_start(\n\u001b[1;32m    155\u001b[0m     dumpd(\u001b[39mself\u001b[39m),\n\u001b[1;32m    156\u001b[0m     inputs,\n\u001b[1;32m    157\u001b[0m )\n\u001b[1;32m    158\u001b[0m \u001b[39mtry\u001b[39;00m:\n\u001b[1;32m    159\u001b[0m     outputs \u001b[39m=\u001b[39m (\n\u001b[0;32m--> 160\u001b[0m         \u001b[39mself\u001b[39;49m\u001b[39m.\u001b[39;49m_call(inputs, run_manager\u001b[39m=\u001b[39;49mrun_manager)\n\u001b[1;32m    161\u001b[0m         \u001b[39mif\u001b[39;00m new_arg_supported\n\u001b[1;32m    162\u001b[0m         \u001b[39melse\u001b[39;00m \u001b[39mself\u001b[39m\u001b[39m.\u001b[39m_call(inputs)\n\u001b[1;32m    163\u001b[0m     )\n\u001b[1;32m    164\u001b[0m \u001b[39mexcept\u001b[39;00m (\u001b[39mKeyboardInterrupt\u001b[39;00m, \u001b[39mException\u001b[39;00m) \u001b[39mas\u001b[39;00m e:\n\u001b[1;32m    165\u001b[0m     run_manager\u001b[39m.\u001b[39mon_chain_error(e)\n",
      "File \u001b[0;32m~/FundamentlPartners/abinvenv-sol/venv/lib/python3.10/site-packages/langchain/chains/retrieval_qa/base.py:120\u001b[0m, in \u001b[0;36mBaseRetrievalQA._call\u001b[0;34m(self, inputs, run_manager)\u001b[0m\n\u001b[1;32m    117\u001b[0m question \u001b[39m=\u001b[39m inputs[\u001b[39mself\u001b[39m\u001b[39m.\u001b[39minput_key]\n\u001b[1;32m    119\u001b[0m docs \u001b[39m=\u001b[39m \u001b[39mself\u001b[39m\u001b[39m.\u001b[39m_get_docs(question)\n\u001b[0;32m--> 120\u001b[0m answer \u001b[39m=\u001b[39m \u001b[39mself\u001b[39;49m\u001b[39m.\u001b[39;49mcombine_documents_chain\u001b[39m.\u001b[39;49mrun(\n\u001b[1;32m    121\u001b[0m     input_documents\u001b[39m=\u001b[39;49mdocs, question\u001b[39m=\u001b[39;49mquestion, callbacks\u001b[39m=\u001b[39;49m_run_manager\u001b[39m.\u001b[39;49mget_child()\n\u001b[1;32m    122\u001b[0m )\n\u001b[1;32m    124\u001b[0m \u001b[39mif\u001b[39;00m \u001b[39mself\u001b[39m\u001b[39m.\u001b[39mreturn_source_documents:\n\u001b[1;32m    125\u001b[0m     \u001b[39mreturn\u001b[39;00m {\u001b[39mself\u001b[39m\u001b[39m.\u001b[39moutput_key: answer, \u001b[39m\"\u001b[39m\u001b[39msource_documents\u001b[39m\u001b[39m\"\u001b[39m: docs}\n",
      "File \u001b[0;32m~/FundamentlPartners/abinvenv-sol/venv/lib/python3.10/site-packages/langchain/chains/base.py:293\u001b[0m, in \u001b[0;36mChain.run\u001b[0;34m(self, callbacks, tags, *args, **kwargs)\u001b[0m\n\u001b[1;32m    290\u001b[0m     \u001b[39mreturn\u001b[39;00m \u001b[39mself\u001b[39m(args[\u001b[39m0\u001b[39m], callbacks\u001b[39m=\u001b[39mcallbacks, tags\u001b[39m=\u001b[39mtags)[_output_key]\n\u001b[1;32m    292\u001b[0m \u001b[39mif\u001b[39;00m kwargs \u001b[39mand\u001b[39;00m \u001b[39mnot\u001b[39;00m args:\n\u001b[0;32m--> 293\u001b[0m     \u001b[39mreturn\u001b[39;00m \u001b[39mself\u001b[39;49m(kwargs, callbacks\u001b[39m=\u001b[39;49mcallbacks, tags\u001b[39m=\u001b[39;49mtags)[_output_key]\n\u001b[1;32m    295\u001b[0m \u001b[39mif\u001b[39;00m \u001b[39mnot\u001b[39;00m kwargs \u001b[39mand\u001b[39;00m \u001b[39mnot\u001b[39;00m args:\n\u001b[1;32m    296\u001b[0m     \u001b[39mraise\u001b[39;00m \u001b[39mValueError\u001b[39;00m(\n\u001b[1;32m    297\u001b[0m         \u001b[39m\"\u001b[39m\u001b[39m`run` supported with either positional arguments or keyword arguments,\u001b[39m\u001b[39m\"\u001b[39m\n\u001b[1;32m    298\u001b[0m         \u001b[39m\"\u001b[39m\u001b[39m but none were provided.\u001b[39m\u001b[39m\"\u001b[39m\n\u001b[1;32m    299\u001b[0m     )\n",
      "File \u001b[0;32m~/FundamentlPartners/abinvenv-sol/venv/lib/python3.10/site-packages/langchain/chains/base.py:166\u001b[0m, in \u001b[0;36mChain.__call__\u001b[0;34m(self, inputs, return_only_outputs, callbacks, tags, include_run_info)\u001b[0m\n\u001b[1;32m    164\u001b[0m \u001b[39mexcept\u001b[39;00m (\u001b[39mKeyboardInterrupt\u001b[39;00m, \u001b[39mException\u001b[39;00m) \u001b[39mas\u001b[39;00m e:\n\u001b[1;32m    165\u001b[0m     run_manager\u001b[39m.\u001b[39mon_chain_error(e)\n\u001b[0;32m--> 166\u001b[0m     \u001b[39mraise\u001b[39;00m e\n\u001b[1;32m    167\u001b[0m run_manager\u001b[39m.\u001b[39mon_chain_end(outputs)\n\u001b[1;32m    168\u001b[0m final_outputs: Dict[\u001b[39mstr\u001b[39m, Any] \u001b[39m=\u001b[39m \u001b[39mself\u001b[39m\u001b[39m.\u001b[39mprep_outputs(\n\u001b[1;32m    169\u001b[0m     inputs, outputs, return_only_outputs\n\u001b[1;32m    170\u001b[0m )\n",
      "File \u001b[0;32m~/FundamentlPartners/abinvenv-sol/venv/lib/python3.10/site-packages/langchain/chains/base.py:160\u001b[0m, in \u001b[0;36mChain.__call__\u001b[0;34m(self, inputs, return_only_outputs, callbacks, tags, include_run_info)\u001b[0m\n\u001b[1;32m    154\u001b[0m run_manager \u001b[39m=\u001b[39m callback_manager\u001b[39m.\u001b[39mon_chain_start(\n\u001b[1;32m    155\u001b[0m     dumpd(\u001b[39mself\u001b[39m),\n\u001b[1;32m    156\u001b[0m     inputs,\n\u001b[1;32m    157\u001b[0m )\n\u001b[1;32m    158\u001b[0m \u001b[39mtry\u001b[39;00m:\n\u001b[1;32m    159\u001b[0m     outputs \u001b[39m=\u001b[39m (\n\u001b[0;32m--> 160\u001b[0m         \u001b[39mself\u001b[39;49m\u001b[39m.\u001b[39;49m_call(inputs, run_manager\u001b[39m=\u001b[39;49mrun_manager)\n\u001b[1;32m    161\u001b[0m         \u001b[39mif\u001b[39;00m new_arg_supported\n\u001b[1;32m    162\u001b[0m         \u001b[39melse\u001b[39;00m \u001b[39mself\u001b[39m\u001b[39m.\u001b[39m_call(inputs)\n\u001b[1;32m    163\u001b[0m     )\n\u001b[1;32m    164\u001b[0m \u001b[39mexcept\u001b[39;00m (\u001b[39mKeyboardInterrupt\u001b[39;00m, \u001b[39mException\u001b[39;00m) \u001b[39mas\u001b[39;00m e:\n\u001b[1;32m    165\u001b[0m     run_manager\u001b[39m.\u001b[39mon_chain_error(e)\n",
      "File \u001b[0;32m~/FundamentlPartners/abinvenv-sol/venv/lib/python3.10/site-packages/langchain/chains/combine_documents/base.py:84\u001b[0m, in \u001b[0;36mBaseCombineDocumentsChain._call\u001b[0;34m(self, inputs, run_manager)\u001b[0m\n\u001b[1;32m     82\u001b[0m \u001b[39m# Other keys are assumed to be needed for LLM prediction\u001b[39;00m\n\u001b[1;32m     83\u001b[0m other_keys \u001b[39m=\u001b[39m {k: v \u001b[39mfor\u001b[39;00m k, v \u001b[39min\u001b[39;00m inputs\u001b[39m.\u001b[39mitems() \u001b[39mif\u001b[39;00m k \u001b[39m!=\u001b[39m \u001b[39mself\u001b[39m\u001b[39m.\u001b[39minput_key}\n\u001b[0;32m---> 84\u001b[0m output, extra_return_dict \u001b[39m=\u001b[39m \u001b[39mself\u001b[39;49m\u001b[39m.\u001b[39;49mcombine_docs(\n\u001b[1;32m     85\u001b[0m     docs, callbacks\u001b[39m=\u001b[39;49m_run_manager\u001b[39m.\u001b[39;49mget_child(), \u001b[39m*\u001b[39;49m\u001b[39m*\u001b[39;49mother_keys\n\u001b[1;32m     86\u001b[0m )\n\u001b[1;32m     87\u001b[0m extra_return_dict[\u001b[39mself\u001b[39m\u001b[39m.\u001b[39moutput_key] \u001b[39m=\u001b[39m output\n\u001b[1;32m     88\u001b[0m \u001b[39mreturn\u001b[39;00m extra_return_dict\n",
      "File \u001b[0;32m~/FundamentlPartners/abinvenv-sol/venv/lib/python3.10/site-packages/langchain/chains/combine_documents/stuff.py:87\u001b[0m, in \u001b[0;36mStuffDocumentsChain.combine_docs\u001b[0;34m(self, docs, callbacks, **kwargs)\u001b[0m\n\u001b[1;32m     85\u001b[0m inputs \u001b[39m=\u001b[39m \u001b[39mself\u001b[39m\u001b[39m.\u001b[39m_get_inputs(docs, \u001b[39m*\u001b[39m\u001b[39m*\u001b[39mkwargs)\n\u001b[1;32m     86\u001b[0m \u001b[39m# Call predict on the LLM.\u001b[39;00m\n\u001b[0;32m---> 87\u001b[0m \u001b[39mreturn\u001b[39;00m \u001b[39mself\u001b[39;49m\u001b[39m.\u001b[39;49mllm_chain\u001b[39m.\u001b[39;49mpredict(callbacks\u001b[39m=\u001b[39;49mcallbacks, \u001b[39m*\u001b[39;49m\u001b[39m*\u001b[39;49minputs), {}\n",
      "File \u001b[0;32m~/FundamentlPartners/abinvenv-sol/venv/lib/python3.10/site-packages/langchain/chains/llm.py:252\u001b[0m, in \u001b[0;36mLLMChain.predict\u001b[0;34m(self, callbacks, **kwargs)\u001b[0m\n\u001b[1;32m    237\u001b[0m \u001b[39mdef\u001b[39;00m \u001b[39mpredict\u001b[39m(\u001b[39mself\u001b[39m, callbacks: Callbacks \u001b[39m=\u001b[39m \u001b[39mNone\u001b[39;00m, \u001b[39m*\u001b[39m\u001b[39m*\u001b[39mkwargs: Any) \u001b[39m-\u001b[39m\u001b[39m>\u001b[39m \u001b[39mstr\u001b[39m:\n\u001b[1;32m    238\u001b[0m \u001b[39m    \u001b[39m\u001b[39m\"\"\"Format prompt with kwargs and pass to LLM.\u001b[39;00m\n\u001b[1;32m    239\u001b[0m \n\u001b[1;32m    240\u001b[0m \u001b[39m    Args:\u001b[39;00m\n\u001b[0;32m   (...)\u001b[0m\n\u001b[1;32m    250\u001b[0m \u001b[39m            completion = llm.predict(adjective=\"funny\")\u001b[39;00m\n\u001b[1;32m    251\u001b[0m \u001b[39m    \"\"\"\u001b[39;00m\n\u001b[0;32m--> 252\u001b[0m     \u001b[39mreturn\u001b[39;00m \u001b[39mself\u001b[39;49m(kwargs, callbacks\u001b[39m=\u001b[39;49mcallbacks)[\u001b[39mself\u001b[39m\u001b[39m.\u001b[39moutput_key]\n",
      "File \u001b[0;32m~/FundamentlPartners/abinvenv-sol/venv/lib/python3.10/site-packages/langchain/chains/base.py:166\u001b[0m, in \u001b[0;36mChain.__call__\u001b[0;34m(self, inputs, return_only_outputs, callbacks, tags, include_run_info)\u001b[0m\n\u001b[1;32m    164\u001b[0m \u001b[39mexcept\u001b[39;00m (\u001b[39mKeyboardInterrupt\u001b[39;00m, \u001b[39mException\u001b[39;00m) \u001b[39mas\u001b[39;00m e:\n\u001b[1;32m    165\u001b[0m     run_manager\u001b[39m.\u001b[39mon_chain_error(e)\n\u001b[0;32m--> 166\u001b[0m     \u001b[39mraise\u001b[39;00m e\n\u001b[1;32m    167\u001b[0m run_manager\u001b[39m.\u001b[39mon_chain_end(outputs)\n\u001b[1;32m    168\u001b[0m final_outputs: Dict[\u001b[39mstr\u001b[39m, Any] \u001b[39m=\u001b[39m \u001b[39mself\u001b[39m\u001b[39m.\u001b[39mprep_outputs(\n\u001b[1;32m    169\u001b[0m     inputs, outputs, return_only_outputs\n\u001b[1;32m    170\u001b[0m )\n",
      "File \u001b[0;32m~/FundamentlPartners/abinvenv-sol/venv/lib/python3.10/site-packages/langchain/chains/base.py:160\u001b[0m, in \u001b[0;36mChain.__call__\u001b[0;34m(self, inputs, return_only_outputs, callbacks, tags, include_run_info)\u001b[0m\n\u001b[1;32m    154\u001b[0m run_manager \u001b[39m=\u001b[39m callback_manager\u001b[39m.\u001b[39mon_chain_start(\n\u001b[1;32m    155\u001b[0m     dumpd(\u001b[39mself\u001b[39m),\n\u001b[1;32m    156\u001b[0m     inputs,\n\u001b[1;32m    157\u001b[0m )\n\u001b[1;32m    158\u001b[0m \u001b[39mtry\u001b[39;00m:\n\u001b[1;32m    159\u001b[0m     outputs \u001b[39m=\u001b[39m (\n\u001b[0;32m--> 160\u001b[0m         \u001b[39mself\u001b[39;49m\u001b[39m.\u001b[39;49m_call(inputs, run_manager\u001b[39m=\u001b[39;49mrun_manager)\n\u001b[1;32m    161\u001b[0m         \u001b[39mif\u001b[39;00m new_arg_supported\n\u001b[1;32m    162\u001b[0m         \u001b[39melse\u001b[39;00m \u001b[39mself\u001b[39m\u001b[39m.\u001b[39m_call(inputs)\n\u001b[1;32m    163\u001b[0m     )\n\u001b[1;32m    164\u001b[0m \u001b[39mexcept\u001b[39;00m (\u001b[39mKeyboardInterrupt\u001b[39;00m, \u001b[39mException\u001b[39;00m) \u001b[39mas\u001b[39;00m e:\n\u001b[1;32m    165\u001b[0m     run_manager\u001b[39m.\u001b[39mon_chain_error(e)\n",
      "File \u001b[0;32m~/FundamentlPartners/abinvenv-sol/venv/lib/python3.10/site-packages/langchain/chains/llm.py:92\u001b[0m, in \u001b[0;36mLLMChain._call\u001b[0;34m(self, inputs, run_manager)\u001b[0m\n\u001b[1;32m     87\u001b[0m \u001b[39mdef\u001b[39;00m \u001b[39m_call\u001b[39m(\n\u001b[1;32m     88\u001b[0m     \u001b[39mself\u001b[39m,\n\u001b[1;32m     89\u001b[0m     inputs: Dict[\u001b[39mstr\u001b[39m, Any],\n\u001b[1;32m     90\u001b[0m     run_manager: Optional[CallbackManagerForChainRun] \u001b[39m=\u001b[39m \u001b[39mNone\u001b[39;00m,\n\u001b[1;32m     91\u001b[0m ) \u001b[39m-\u001b[39m\u001b[39m>\u001b[39m Dict[\u001b[39mstr\u001b[39m, \u001b[39mstr\u001b[39m]:\n\u001b[0;32m---> 92\u001b[0m     response \u001b[39m=\u001b[39m \u001b[39mself\u001b[39;49m\u001b[39m.\u001b[39;49mgenerate([inputs], run_manager\u001b[39m=\u001b[39;49mrun_manager)\n\u001b[1;32m     93\u001b[0m     \u001b[39mreturn\u001b[39;00m \u001b[39mself\u001b[39m\u001b[39m.\u001b[39mcreate_outputs(response)[\u001b[39m0\u001b[39m]\n",
      "File \u001b[0;32m~/FundamentlPartners/abinvenv-sol/venv/lib/python3.10/site-packages/langchain/chains/llm.py:102\u001b[0m, in \u001b[0;36mLLMChain.generate\u001b[0;34m(self, input_list, run_manager)\u001b[0m\n\u001b[1;32m    100\u001b[0m \u001b[39m\u001b[39m\u001b[39m\"\"\"Generate LLM result from inputs.\"\"\"\u001b[39;00m\n\u001b[1;32m    101\u001b[0m prompts, stop \u001b[39m=\u001b[39m \u001b[39mself\u001b[39m\u001b[39m.\u001b[39mprep_prompts(input_list, run_manager\u001b[39m=\u001b[39mrun_manager)\n\u001b[0;32m--> 102\u001b[0m \u001b[39mreturn\u001b[39;00m \u001b[39mself\u001b[39;49m\u001b[39m.\u001b[39;49mllm\u001b[39m.\u001b[39;49mgenerate_prompt(\n\u001b[1;32m    103\u001b[0m     prompts,\n\u001b[1;32m    104\u001b[0m     stop,\n\u001b[1;32m    105\u001b[0m     callbacks\u001b[39m=\u001b[39;49mrun_manager\u001b[39m.\u001b[39;49mget_child() \u001b[39mif\u001b[39;49;00m run_manager \u001b[39melse\u001b[39;49;00m \u001b[39mNone\u001b[39;49;00m,\n\u001b[1;32m    106\u001b[0m     \u001b[39m*\u001b[39;49m\u001b[39m*\u001b[39;49m\u001b[39mself\u001b[39;49m\u001b[39m.\u001b[39;49mllm_kwargs,\n\u001b[1;32m    107\u001b[0m )\n",
      "File \u001b[0;32m~/FundamentlPartners/abinvenv-sol/venv/lib/python3.10/site-packages/langchain/llms/base.py:141\u001b[0m, in \u001b[0;36mBaseLLM.generate_prompt\u001b[0;34m(self, prompts, stop, callbacks, **kwargs)\u001b[0m\n\u001b[1;32m    133\u001b[0m \u001b[39mdef\u001b[39;00m \u001b[39mgenerate_prompt\u001b[39m(\n\u001b[1;32m    134\u001b[0m     \u001b[39mself\u001b[39m,\n\u001b[1;32m    135\u001b[0m     prompts: List[PromptValue],\n\u001b[0;32m   (...)\u001b[0m\n\u001b[1;32m    138\u001b[0m     \u001b[39m*\u001b[39m\u001b[39m*\u001b[39mkwargs: Any,\n\u001b[1;32m    139\u001b[0m ) \u001b[39m-\u001b[39m\u001b[39m>\u001b[39m LLMResult:\n\u001b[1;32m    140\u001b[0m     prompt_strings \u001b[39m=\u001b[39m [p\u001b[39m.\u001b[39mto_string() \u001b[39mfor\u001b[39;00m p \u001b[39min\u001b[39;00m prompts]\n\u001b[0;32m--> 141\u001b[0m     \u001b[39mreturn\u001b[39;00m \u001b[39mself\u001b[39;49m\u001b[39m.\u001b[39;49mgenerate(prompt_strings, stop\u001b[39m=\u001b[39;49mstop, callbacks\u001b[39m=\u001b[39;49mcallbacks, \u001b[39m*\u001b[39;49m\u001b[39m*\u001b[39;49mkwargs)\n",
      "File \u001b[0;32m~/FundamentlPartners/abinvenv-sol/venv/lib/python3.10/site-packages/langchain/llms/base.py:227\u001b[0m, in \u001b[0;36mBaseLLM.generate\u001b[0;34m(self, prompts, stop, callbacks, tags, **kwargs)\u001b[0m\n\u001b[1;32m    221\u001b[0m         \u001b[39mraise\u001b[39;00m \u001b[39mValueError\u001b[39;00m(\n\u001b[1;32m    222\u001b[0m             \u001b[39m\"\u001b[39m\u001b[39mAsked to cache, but no cache found at `langchain.cache`.\u001b[39m\u001b[39m\"\u001b[39m\n\u001b[1;32m    223\u001b[0m         )\n\u001b[1;32m    224\u001b[0m     run_managers \u001b[39m=\u001b[39m callback_manager\u001b[39m.\u001b[39mon_llm_start(\n\u001b[1;32m    225\u001b[0m         dumpd(\u001b[39mself\u001b[39m), prompts, invocation_params\u001b[39m=\u001b[39mparams, options\u001b[39m=\u001b[39moptions\n\u001b[1;32m    226\u001b[0m     )\n\u001b[0;32m--> 227\u001b[0m     output \u001b[39m=\u001b[39m \u001b[39mself\u001b[39;49m\u001b[39m.\u001b[39;49m_generate_helper(\n\u001b[1;32m    228\u001b[0m         prompts, stop, run_managers, \u001b[39mbool\u001b[39;49m(new_arg_supported), \u001b[39m*\u001b[39;49m\u001b[39m*\u001b[39;49mkwargs\n\u001b[1;32m    229\u001b[0m     )\n\u001b[1;32m    230\u001b[0m     \u001b[39mreturn\u001b[39;00m output\n\u001b[1;32m    231\u001b[0m \u001b[39mif\u001b[39;00m \u001b[39mlen\u001b[39m(missing_prompts) \u001b[39m>\u001b[39m \u001b[39m0\u001b[39m:\n",
      "File \u001b[0;32m~/FundamentlPartners/abinvenv-sol/venv/lib/python3.10/site-packages/langchain/llms/base.py:178\u001b[0m, in \u001b[0;36mBaseLLM._generate_helper\u001b[0;34m(self, prompts, stop, run_managers, new_arg_supported, **kwargs)\u001b[0m\n\u001b[1;32m    176\u001b[0m     \u001b[39mfor\u001b[39;00m run_manager \u001b[39min\u001b[39;00m run_managers:\n\u001b[1;32m    177\u001b[0m         run_manager\u001b[39m.\u001b[39mon_llm_error(e)\n\u001b[0;32m--> 178\u001b[0m     \u001b[39mraise\u001b[39;00m e\n\u001b[1;32m    179\u001b[0m flattened_outputs \u001b[39m=\u001b[39m output\u001b[39m.\u001b[39mflatten()\n\u001b[1;32m    180\u001b[0m \u001b[39mfor\u001b[39;00m manager, flattened_output \u001b[39min\u001b[39;00m \u001b[39mzip\u001b[39m(run_managers, flattened_outputs):\n",
      "File \u001b[0;32m~/FundamentlPartners/abinvenv-sol/venv/lib/python3.10/site-packages/langchain/llms/base.py:165\u001b[0m, in \u001b[0;36mBaseLLM._generate_helper\u001b[0;34m(self, prompts, stop, run_managers, new_arg_supported, **kwargs)\u001b[0m\n\u001b[1;32m    155\u001b[0m \u001b[39mdef\u001b[39;00m \u001b[39m_generate_helper\u001b[39m(\n\u001b[1;32m    156\u001b[0m     \u001b[39mself\u001b[39m,\n\u001b[1;32m    157\u001b[0m     prompts: List[\u001b[39mstr\u001b[39m],\n\u001b[0;32m   (...)\u001b[0m\n\u001b[1;32m    161\u001b[0m     \u001b[39m*\u001b[39m\u001b[39m*\u001b[39mkwargs: Any,\n\u001b[1;32m    162\u001b[0m ) \u001b[39m-\u001b[39m\u001b[39m>\u001b[39m LLMResult:\n\u001b[1;32m    163\u001b[0m     \u001b[39mtry\u001b[39;00m:\n\u001b[1;32m    164\u001b[0m         output \u001b[39m=\u001b[39m (\n\u001b[0;32m--> 165\u001b[0m             \u001b[39mself\u001b[39;49m\u001b[39m.\u001b[39;49m_generate(\n\u001b[1;32m    166\u001b[0m                 prompts,\n\u001b[1;32m    167\u001b[0m                 stop\u001b[39m=\u001b[39;49mstop,\n\u001b[1;32m    168\u001b[0m                 \u001b[39m# TODO: support multiple run managers\u001b[39;49;00m\n\u001b[1;32m    169\u001b[0m                 run_manager\u001b[39m=\u001b[39;49mrun_managers[\u001b[39m0\u001b[39;49m] \u001b[39mif\u001b[39;49;00m run_managers \u001b[39melse\u001b[39;49;00m \u001b[39mNone\u001b[39;49;00m,\n\u001b[1;32m    170\u001b[0m                 \u001b[39m*\u001b[39;49m\u001b[39m*\u001b[39;49mkwargs,\n\u001b[1;32m    171\u001b[0m             )\n\u001b[1;32m    172\u001b[0m             \u001b[39mif\u001b[39;00m new_arg_supported\n\u001b[1;32m    173\u001b[0m             \u001b[39melse\u001b[39;00m \u001b[39mself\u001b[39m\u001b[39m.\u001b[39m_generate(prompts, stop\u001b[39m=\u001b[39mstop)\n\u001b[1;32m    174\u001b[0m         )\n\u001b[1;32m    175\u001b[0m     \u001b[39mexcept\u001b[39;00m (\u001b[39mKeyboardInterrupt\u001b[39;00m, \u001b[39mException\u001b[39;00m) \u001b[39mas\u001b[39;00m e:\n\u001b[1;32m    176\u001b[0m         \u001b[39mfor\u001b[39;00m run_manager \u001b[39min\u001b[39;00m run_managers:\n",
      "File \u001b[0;32m~/FundamentlPartners/abinvenv-sol/venv/lib/python3.10/site-packages/langchain/llms/base.py:525\u001b[0m, in \u001b[0;36mLLM._generate\u001b[0;34m(self, prompts, stop, run_manager, **kwargs)\u001b[0m\n\u001b[1;32m    522\u001b[0m new_arg_supported \u001b[39m=\u001b[39m inspect\u001b[39m.\u001b[39msignature(\u001b[39mself\u001b[39m\u001b[39m.\u001b[39m_call)\u001b[39m.\u001b[39mparameters\u001b[39m.\u001b[39mget(\u001b[39m\"\u001b[39m\u001b[39mrun_manager\u001b[39m\u001b[39m\"\u001b[39m)\n\u001b[1;32m    523\u001b[0m \u001b[39mfor\u001b[39;00m prompt \u001b[39min\u001b[39;00m prompts:\n\u001b[1;32m    524\u001b[0m     text \u001b[39m=\u001b[39m (\n\u001b[0;32m--> 525\u001b[0m         \u001b[39mself\u001b[39;49m\u001b[39m.\u001b[39;49m_call(prompt, stop\u001b[39m=\u001b[39;49mstop, run_manager\u001b[39m=\u001b[39;49mrun_manager, \u001b[39m*\u001b[39;49m\u001b[39m*\u001b[39;49mkwargs)\n\u001b[1;32m    526\u001b[0m         \u001b[39mif\u001b[39;00m new_arg_supported\n\u001b[1;32m    527\u001b[0m         \u001b[39melse\u001b[39;00m \u001b[39mself\u001b[39m\u001b[39m.\u001b[39m_call(prompt, stop\u001b[39m=\u001b[39mstop, \u001b[39m*\u001b[39m\u001b[39m*\u001b[39mkwargs)\n\u001b[1;32m    528\u001b[0m     )\n\u001b[1;32m    529\u001b[0m     generations\u001b[39m.\u001b[39mappend([Generation(text\u001b[39m=\u001b[39mtext)])\n\u001b[1;32m    530\u001b[0m \u001b[39mreturn\u001b[39;00m LLMResult(generations\u001b[39m=\u001b[39mgenerations)\n",
      "File \u001b[0;32m~/FundamentlPartners/abinvenv-sol/venv/lib/python3.10/site-packages/langchain/llms/huggingface_hub.py:114\u001b[0m, in \u001b[0;36mHuggingFaceHub._call\u001b[0;34m(self, prompt, stop, run_manager, **kwargs)\u001b[0m\n\u001b[1;32m    112\u001b[0m response \u001b[39m=\u001b[39m \u001b[39mself\u001b[39m\u001b[39m.\u001b[39mclient(inputs\u001b[39m=\u001b[39mprompt, params\u001b[39m=\u001b[39mparams)\n\u001b[1;32m    113\u001b[0m \u001b[39mif\u001b[39;00m \u001b[39m\"\u001b[39m\u001b[39merror\u001b[39m\u001b[39m\"\u001b[39m \u001b[39min\u001b[39;00m response:\n\u001b[0;32m--> 114\u001b[0m     \u001b[39mraise\u001b[39;00m \u001b[39mValueError\u001b[39;00m(\u001b[39mf\u001b[39m\u001b[39m\"\u001b[39m\u001b[39mError raised by inference API: \u001b[39m\u001b[39m{\u001b[39;00mresponse[\u001b[39m'\u001b[39m\u001b[39merror\u001b[39m\u001b[39m'\u001b[39m]\u001b[39m}\u001b[39;00m\u001b[39m\"\u001b[39m)\n\u001b[1;32m    115\u001b[0m \u001b[39mif\u001b[39;00m \u001b[39mself\u001b[39m\u001b[39m.\u001b[39mclient\u001b[39m.\u001b[39mtask \u001b[39m==\u001b[39m \u001b[39m\"\u001b[39m\u001b[39mtext-generation\u001b[39m\u001b[39m\"\u001b[39m:\n\u001b[1;32m    116\u001b[0m     \u001b[39m# Text generation return includes the starter text.\u001b[39;00m\n\u001b[1;32m    117\u001b[0m     text \u001b[39m=\u001b[39m response[\u001b[39m0\u001b[39m][\u001b[39m\"\u001b[39m\u001b[39mgenerated_text\u001b[39m\u001b[39m\"\u001b[39m][\u001b[39mlen\u001b[39m(prompt) :]\n",
      "\u001b[0;31mValueError\u001b[0m: Error raised by inference API: Input validation error: `inputs` must have less than 1000 tokens. Given: 1054"
     ]
    }
   ],
   "source": [
    "result = qa(inputs=query)"
   ]
  },
  {
   "cell_type": "code",
   "execution_count": 25,
   "metadata": {},
   "outputs": [
    {
     "data": {
      "text/plain": [
       "{'query': 'Who was Benito Mussolini?',\n",
       " 'result': '<extra_id_0>. - Please remember that the facts of fascism are very',\n",
       " 'source_documents': [Document(page_content='Benito Amilcare Andrea Mussolini KSMOM GCTE (29 July 1883 – 28 April 1945) was an Italian politician and journalist. He was also the Prime Minister of Italy from 1922 until 1943. He was the leader of the National Fascist Party.\\n\\nBiography\\n\\nEarly life\\nBenito Mussolini was named after Benito Juarez, a Mexican opponent of the political power of the Roman Catholic Church, by his anticlerical (a person who opposes the political interference of the Roman Catholic Church in secular affairs) father. Mussolini\\'s father was a blacksmith. Before being involved in politics, Mussolini was a newspaper editor (where he learned all his propaganda skills) and elementary school teacher.\\n\\nAt first, Mussolini was a socialist, but when he wanted Italy to join the First World War, he was thrown out of the socialist party. He \\'invented\\' a new ideology, Fascism, much out of Nationalist\\xa0and Conservative views.\\n\\nRise to power and becoming dictator\\nIn 1922, he took power by having a large group of men, \"Black Shirts,\" march on Rome and threaten to take over the government. King Vittorio Emanuele III gave in, allowed him to form a government, and made him prime minister. In the following five years, he gained power, and in 1927 created the OVRA, his personal secret police force. Using the agency to arrest, scare, or murder people against his regime, Mussolini was dictator\\xa0of Italy by the end of 1927. Only the King and his own Fascist party could challenge his power.', metadata={'chunk': 0.0, 'source': 'https://simple.wikipedia.org/wiki/Benito%20Mussolini', 'title': 'Benito Mussolini', 'wiki-id': '6754'}),\n",
       "  Document(page_content='Fascism as practiced by Mussolini\\nMussolini\\'s form of Fascism, \"Italian Fascism\"- unlike Nazism, the racist ideology that Adolf Hitler followed- was different and less destructive than Hitler\\'s. Although a believer in the superiority of the Italian nation and national unity, Mussolini, unlike Hitler, is quoted \"Race? It is a feeling, not a reality. Nothing will ever make me believe that biologically pure races can be shown to exist today\".\\n\\nMussolini wanted Italy to become a new Roman Empire. In 1923, he attacked the island of Corfu, and in 1924, he occupied the city state of Fiume. In 1935, he attacked the African country Abyssinia (now called Ethiopia). His forces occupied it in 1936. Italy was thrown out of the League of Nations because of this aggression. In 1939, he occupied the country Albania. In 1936, Mussolini signed an alliance with Adolf Hitler, the dictator of Germany.\\n\\nFall from power and death\\nIn 1940, he sent Italy into the Second World War on the side of the Axis countries. Mussolini attacked Greece, but he failed to conquer it. In 1943, the Allies landed in Southern Italy. The Fascist party and King Vittorio Emanuel III deposed Mussolini and put him in jail, but he was set free by the Germans, who made him ruler of the Italian Social Republic puppet state which was in a small part of Central Italy. When the war was almost over, Mussolini tried to escape to Switzerland with his mistress, Clara Petacci, but they were both captured and shot by partisans. Mussolini\\'s dead body was hanged upside-down, together with his mistress and some of Mussolini\\'s helpers, on a pole at a gas station in the village of Millan, which is near the border  between Italy and Switzerland.', metadata={'chunk': 1.0, 'source': 'https://simple.wikipedia.org/wiki/Benito%20Mussolini', 'title': 'Benito Mussolini', 'wiki-id': '6754'}),\n",
       "  Document(page_content='Fascism is a far-right form of government in which most of the country\\'s power is held by one ruler. Fascist governments are usually totalitarian and authoritarian one-party states. Under fascism, the economy and other parts of society are heavily and closely controlled by the government, usually by using a form of authoritarian corporatism. The government uses violence to arrest, kill or otherwise stop anyone it does not like.\\n\\nThree large fascist countries were Italy under Benito Mussolini, Nazi Germany under Adolf Hitler, and Spain under Francisco Franco.\\n\\nMussolini invented fascism in Italy in the late 1910s and developed it fully in the 1930s. When Hitler came to power in Germany in the 1930s, he copied Mussolini. Mussolini wrote a political paper, which is called The Doctrine of Fascism in English. He started writing it in 1927, but it was only published in 1932. Most of it was probably written by Giovanni Gentile, an Italian philosopher.\\n\\nMain ideas\\nNot all scholars agree on what fascism is. Philosopher Jason Stanley of Yale University says it is \"a cult of the leader who promises national restoration in the face of humiliation brought on by supposed communists, Marxists and minorities and immigrants who are supposedly posing a threat to the character and the history of a nation.\" That is, fascism focuses on one person as leader, fascism says communism is bad, and fascism says that at least one group of people is bad and has caused the nation\\'s problems. This group could be people from other countries or groups of people within the country. Under Hitler\\'s fascist Germany, the government blamed Jews, communists, homosexuals, the disabled, Roma and other people for Germany\\'s problems, arrested those people, and took them to camps to be killed.\\n\\nIn 2003, Laurence W. Britt wrote \"14 Defining Characteristics of Fascism\":', metadata={'chunk': 0.0, 'source': 'https://simple.wikipedia.org/wiki/Fascism', 'title': 'Fascism', 'wiki-id': '15210'}),\n",
       "  Document(page_content='Veneto was made part of Italy in 1866 after a war with Austria. Italian soldiers won Latium in 1870. That was when they took away the Pope\\'s power. The Pope, who was angry, said that he was a prisoner to keep Catholic people from being active in politics. That was the year of Italian unification.\\n\\nItaly participated in World War I. It was an ally of Great Britain, France, and Russia against the Central Powers. Almost all of Italy\\'s fighting was on the Eastern border, near Austria. After the \"Caporetto defeat\", Italy thought they would lose the war. But, in 1918, the Central Powers surrendered. Italy gained the Trentino-South Tyrol, which once was owned by Austria.\\n\\nFascist Italy \\nIn 1922, a new Italian government started. It was ruled by Benito Mussolini, the leader of Fascism in Italy. He became head of government and dictator, calling himself \"Il Duce\" (which means \"leader\" in Italian). He became friends with German dictator Adolf Hitler. Germany, Japan, and Italy became the Axis Powers. In 1940, they entered World War II together against France, Great Britain, and later the Soviet Union. During the war, Italy controlled most of the Mediterranean Sea.', metadata={'chunk': 5.0, 'source': 'https://simple.wikipedia.org/wiki/Italy', 'title': 'Italy', 'wiki-id': '363'})]}"
      ]
     },
     "execution_count": 25,
     "metadata": {},
     "output_type": "execute_result"
    }
   ],
   "source": [
    "result"
   ]
  }
 ],
 "metadata": {
  "kernelspec": {
   "display_name": "venv",
   "language": "python",
   "name": "python3"
  },
  "language_info": {
   "codemirror_mode": {
    "name": "ipython",
    "version": 3
   },
   "file_extension": ".py",
   "mimetype": "text/x-python",
   "name": "python",
   "nbconvert_exporter": "python",
   "pygments_lexer": "ipython3",
   "version": "3.10.0"
  },
  "orig_nbformat": 4
 },
 "nbformat": 4,
 "nbformat_minor": 2
}
