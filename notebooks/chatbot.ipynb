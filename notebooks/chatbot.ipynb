{
 "cells": [
  {
   "cell_type": "code",
   "execution_count": 1,
   "metadata": {},
   "outputs": [
    {
     "name": "stderr",
     "output_type": "stream",
     "text": [
      "/Users/isaac/FundamentlPartners/abinvenv-sol/venv/lib/python3.10/site-packages/pinecone/index.py:4: TqdmWarning: IProgress not found. Please update jupyter and ipywidgets. See https://ipywidgets.readthedocs.io/en/stable/user_install.html\n",
      "  from tqdm.autonotebook import tqdm\n",
      "2023-07-11 18:59:18,482 - src.utils - DEBUG - Setting up logger\n"
     ]
    }
   ],
   "source": [
    "# from transformers import BloomTokenizerFast, BloomForQuestionAnswering, BloomForCausalLM, TrainingArguments, Trainer\n",
    "import logging\n",
    "from dotenv import load_dotenv\n",
    "from langchain.embeddings.cohere import CohereEmbeddings\n",
    "import pinecone\n",
    "from langchain.vectorstores import Pinecone\n",
    "from langchain.chains import RetrievalQA\n",
    "from langchain import HuggingFaceHub\n",
    "from langchain.prompts import PromptTemplate\n",
    "from config.config import *\n",
    "\n",
    "#utils\n",
    "from src.utils import setup_logger, connect_index\n",
    "\n",
    "# Memory\n",
    "from langchain.memory import ConversationBufferMemory\n",
    "\n",
    "load_dotenv()\n",
    "logger = setup_logger(__name__, logging.DEBUG)\n",
    "\n",
    "logger.info('Loading environment variables')\n"
   ]
  },
  {
   "cell_type": "code",
   "execution_count": 2,
   "metadata": {},
   "outputs": [],
   "source": [
    "from langchain.chains.question_answering import load_qa_chain\n",
    "from langchain.llms import OpenAI\n",
    "from langchain.prompts import PromptTemplate\n",
    "from langchain.memory import ConversationBufferMemory"
   ]
  },
  {
   "cell_type": "code",
   "execution_count": 3,
   "metadata": {},
   "outputs": [],
   "source": [
    "embeddings = CohereEmbeddings(model=COHERE_MODEL_NAME, cohere_api_key=COHERE_API_KEY)"
   ]
  },
  {
   "cell_type": "code",
   "execution_count": 12,
   "metadata": {},
   "outputs": [
    {
     "name": "stderr",
     "output_type": "stream",
     "text": [
      "2023-07-11 19:02:32,882 - src.utils - INFO - Connected to Pinecone index stab-test\n"
     ]
    }
   ],
   "source": [
    "index = connect_index(PINECONE_INDEX_NAME)\n",
    "vectorstore = Pinecone(index, embeddings.embed_query, \"text\")"
   ]
  },
  {
   "cell_type": "code",
   "execution_count": 20,
   "metadata": {},
   "outputs": [
    {
     "data": {
      "text/plain": [
       "[Document(page_content='5 CENTRE FOR HUMANITARIAN DATA• Was the rainfall last month above or below normal?  And by how much?  Observational \\nrainfall data goes back decades and can therefore be used to determine whether rainfall for \\na month or a season is above, at or below the historical average. \\n• Were there more rainy days this month than last month? Observational rainfall data is \\navailable for each day and can be used to determine if it rained or not on a given day and to \\ncount the number of dry or wet days during a specific period of time. \\n• How many dry spells were there during the past rainy season? How long was the \\nlongest dry spell and the heaviest rain streak this past rainy season?  Observational \\nrainfall data can be used to detect the occurrence, location and duration of dry spells and \\nprolonged periods of heavy rain.  \\n• How often in the past decade were more than x millimeters of rainfall measured?  \\nObservational rainfall data provides daily rainfall totals in millimeters and can be used to \\nassess how often an area received rain above or below a given threshold.\\n• Which region received the most rain last month?  Observational rainfall data can be \\naggregated to provide rainfall totals for larger geographic areas and then used to compare \\nrain for that area. \\nObservational rainfall data cannot answer the following questions: \\n• How much will it rain during a period of time in the future?  Observational rainfall data is \\nreferred to as observational because it describes what happened in the past. It does not tell \\nyou anything about future rainfall. \\n• Is a severe flooding event about to occur? Are we going through a severe drought?  \\nObservational rainfall data does not provide sufficient information to inform you about the \\nrisk of flooding in the near future or how severe a drought is likely to be. This is because \\nfloods and droughts are complex phenomena caused by several interacting factors and they \\ncannot be explained exclusively by the amount of precipitation.\\n• How much rainfall from a given period of time in the past was due to specific tropical \\nstorm or typhoon?  It is hard to differentiate between the amount of rain caused by \\naverage atmospheric conditions and the amount of rain induced by a specific atmospheric \\nphenomenon. As a result, using observational rainfall data alone, it is not possible to say how \\nmuch rainfall is due strictly to a tropical storm or typhoon. More data is needed to infer the \\norigin of a heavy rainfall event.', metadata={'chunk': 0.0, 'id': 'b3e891689fb1446f90d305492e4aaaed', 'page': '4', 'source': 'guidance_observationalrainfalldata.pdf'}),\n",
       " Document(page_content=\"Gazdar, Gerald, Pragmatics,  1979.\\n\\nGazdar, Gerald, `A Solution to the Projection Problem' in: Syntax and Semantics 11. Presupposition, 1979.\\n\\nGervs, Pablo,  Logical Considerations in the Interpretation of Presuppositional Sentences, PhD Thesis, Department of Computing, Imperial College of Science, Technology and Medicine, London, forthcoming.\\n\\nHeim, Irene, The Semantics of Definite and Indefinite Noun Phrases, PhD Thesis, University of Massachusetts, 1982.\\n\\nHeim, Irene, `On the projection problem for presuppositions', in: D. Flickinger et al (eds. ), Proceedings of the Second West Coast Conference on Formal Linguistics, 1983. Reprinted in:  S. Davis (ed. ), Pragmatics, OUP, New York, 1991.\\n\\nKarttunen, Lauri, `Presupposition of Compound Sentences', Linguistic Inquiry, Volume IV, Number 2 (Spring 1973).\\n\\nKarttunen, Lauri, `Presupposition and Linguistic Context', Theoretical Linguistics I, 1974.\\n\\nKarttunnen and Peters `Conventional Implicature', in: Syntax and Semantics 11. Presupposition, 1979.\\n\\nMercer, Robert Ernest, A Default Logic Approach to the Derivation of Natural Language Presuppositions,Technical Report 87-35, Department of Computer Science, University of British Columbia, Vancouver, B.C.,Canada.\\n\\nMercer, Robert, `Towards a Common Logical Semantics for Presuppositions and Entailment', Journal of Semantics, Volume 9, Number 3, 1992, pp 223-250.\\n\\nVan der Sandt,  Rob A., `Presupposition Projection as Anaphora Resolution', Journal of Semantics, 9, 1992,  pp333-377. Helm, London, 1988.\\n\\nFootnotes\\n\\nPresented in: Computational Logic for Natural Language Processing, (A Joint COMPULOG/ELSNET/EAGLES Workshop), April 3-5, 1995, Edinburgh. The most important consequence is that attempts to model presupposition as an entailment lead to  characterizations where all presuppositions are tautologies in the classical sense, which is an undesirable result. This is based on the argument that if\\n\\nand\\n\\nthen it must be the case that\\n\\n. Because presuppositions are observed to be informative in their actual use by language speakers, this way of modelling them is not useful. For\\n\\nand\\n\\n, the negated and the unnegated version have the same presupppositions; for\", metadata={'chunk': 7.0, 'id': '0b02ec33c7e042c191c880b148dc717b', 'page': 'None', 'source': '9505014.xml'}),\n",
       " Document(page_content='CENTRE FOR HUMANITARIAN DATA\\n\\n3\\n\\nCommon sources of observational rainfall data\\n\\nAmong the many sources of data available, we introduce here two common sources of observational rainfall data, both of which combine station and satellite data: CHIRPS and ARC2. CHIRPS refers to the Climate Hazards Group InfraRed Precipitation with Station data and is produced by scientists from the US Geological Survey and the Climate Hazards Center at the University of Santa Barbara. ARC2 refers to Africa Rainfall Climatology Version 2 and it is produced by The National Oceanic and Atmospheric Administration’s Climate Prediction Center for the Famine Early Warning System. You can access the data directly from these providers, or use the tabular CHIRPS datasets that provides pre-computed rainfall metrics at admin2 and is available on HDX.1\\n\\nCOMPARISON OF CHIRPS AND ARC2 OBSERVATIONAL RAINFALL DATA\\n\\nSource\\n\\nCHIRPS\\n\\nARC2\\n\\nFormat\\n\\nRaster\\n\\nRaster\\n\\nGlobal (quasi2)\\n\\nGeographical coverage\\n\\nAfrica\\n\\nSpatial granularity (also referred to as spatial resolution)\\n\\n0.05 degree (5.5 km at the equator)\\n\\n0.1 degree (11 km at the equator)\\n\\nDaily rainfall3\\n\\nTemporal granularity (aso referred to as temporal resolution)\\n\\nDaily rainfall\\n\\nHistorical coverage\\n\\n1981 - today\\n\\n1983 - today\\n\\nPublication\\n\\nEvery month, around the third week of the following month\\n\\nEvery day, with a 2-day lag\\n\\nNear real-time monitoring in Africa\\n\\nMost common uses\\n\\nMonthly, seasonal, or yearly rainfall monitoring\\n\\nYear-to-year comparisons in Africa\\n\\nIncluded in other tools including those used for drought monitoring and FEWS NET assessments\\n\\nTrend analysis across years\\n\\nQuestions to answer with observational rainfall data\\n\\nObservational rainfall data can be used to answer a number of questions and inform decision making in humanitarian operations. Examples include:\\n\\nHow much rain fell in the past x days/weeks/months? Observational rainfall datasets\\n\\nprovide data on the total amount of rainfall for an area over a discrete period of time, which can be aggregated and used to calculate rainfall over different time intervals.\\n\\n1 https://data.humdata.org/organization/wfp?q=chirps\\n\\n2 The dataset spans the latitude range 50°S-50°N, and all longitudes.\\n\\n3 CHIRPS produces a preliminary version of their estimates with a latency of two days. The final version is published in the third week of the following month.\\n\\nCENTRE FOR HUMANITARIAN DATA\\n\\n4\\n\\nWas the rainfall last month above or below normal? And by how much? Observational rainfall data goes back decades and can therefore be used to determine whether rainfall for a month or a season is above, at or below the historical average.\\n\\nWere there more rainy days this month than last month? Observational rainfall data is', metadata={'chunk': 2.0, 'id': '0d270570426f41ac974763cbffa68aeb', 'page': 'None', 'source': 'guidance_observationalrainfalldata.pdf'}),\n",
       " Document(page_content='2 CENTRE FOR HUMANITARIAN DATAAbout this series: The climate crisis is intensifying humanitarian emergencies around the world and \\nhumanitarians  are increasingly  having to incorporate  climate data and forecasts into their analysis  \\nand planning.  This guidance  series has been developed to help humanitarians  to access,  analyze and \\ninterpret  common  types of climate and weather data, and to provide a common language for working  \\nwith meteorological  and hydrological services.\\n• Observational rainfall data such as CHIRPS or ARC2 captures how much rain has fallen over a \\ndefined period of time.\\n• The rainfall is measured at weather stations or estimated through satellite or radar imagery .\\n• The data can be presented as the total amount of rainfall observed over the period of time, \\nor as below, at or above normal conditions . \\n• Datasets that combine station data and satellite or radar imagery are the recommended \\nsource of data for humanitarian purposes .\\n• Observational rainfall data can be analyzed to answer a range of questions, such as:\\n• What areas are currently affected by drought, and how severely?\\n• What was the duration of the longest dry spell during the past rainy season?\\n• How many days of heavy rainfall were there in the week leading up to the floods?\\n• Which area received the most rain last month?\\n• How often does an area experience dry spells?\\n• How does this year’s rainfall compare to previous years?Key takeaways\\nWhat is observational rainfall data?\\nObservational rainfall data captures how much rain fell over a defined period of time, \\nranging from an hour to a day. This data can then be used to calculate the total rainfall for \\ndifferent time periods, such as 5 days ( pentad ), 10 days ( dekad ), a week, a month or a season. \\nObservational rainfall datasets can go back decades and have broad geographic coverage, \\nenabling historical trend analysis and comparisons.\\nObservational rainfall data is produced by measuring  the amount of rainfall at precise \\nlocations, which are called measuring stations or gauges (e.g., the stars in Figure 1 below). \\nStation data is typically obtained from national or regional meteorological services and should \\nonly be used in accordance with their guidance. Some of the advantages of station data are \\nthat it is accurate at the specific locations, it is collected frequently and it has been collected \\nover the long-term, allowing for trend analysis. On the other hand, station data is only \\navailable for specific locations and is subject to bias due to wind, evaporation, and changes in \\nmeasurement devices. Contact the local or regional meteorological services to learn whether \\nstation data is available, where the stations are located, how often the data is updated, and \\nwhether historical records are available.', metadata={'chunk': 0.0, 'id': 'fceb578bcc1c48beaefd16aa5869898b', 'page': '1', 'source': 'guidance_observationalrainfalldata.pdf'})]"
      ]
     },
     "execution_count": 20,
     "metadata": {},
     "output_type": "execute_result"
    }
   ],
   "source": [
    "query = \"How can i predict rainfall?\"\n",
    "docs = vectorstore.max_marginal_relevance_search(query=query, top_k=5)\n",
    "docs"
   ]
  },
  {
   "cell_type": "code",
   "execution_count": 10,
   "metadata": {},
   "outputs": [],
   "source": [
    "template = \"\"\"You are a chatbot having a conversation with a human.\n",
    "\n",
    "Given the following extracted parts of a long document and a question, create a final answer.\n",
    "\n",
    "{context}\n",
    "\n",
    "{chat_history}\n",
    "Human: {human_input}\n",
    "Chatbot:\"\"\"\n",
    "\n",
    "prompt = PromptTemplate(\n",
    "    input_variables=[\"chat_history\", \"human_input\", \"context\"], template=template\n",
    ")\n",
    "memory = ConversationBufferMemory(memory_key=\"chat_history\", input_key=\"human_input\")\n",
    "chain = load_qa_chain(\n",
    "    OpenAI(temperature=0, openai_api_key=OPENAI_API_KEY), chain_type=\"stuff\", memory=memory, prompt=prompt\n",
    ")"
   ]
  },
  {
   "cell_type": "code",
   "execution_count": 22,
   "metadata": {},
   "outputs": [
    {
     "data": {
      "text/plain": [
       "{'input_documents': [Document(page_content='5 CENTRE FOR HUMANITARIAN DATA• Was the rainfall last month above or below normal?  And by how much?  Observational \\nrainfall data goes back decades and can therefore be used to determine whether rainfall for \\na month or a season is above, at or below the historical average. \\n• Were there more rainy days this month than last month? Observational rainfall data is \\navailable for each day and can be used to determine if it rained or not on a given day and to \\ncount the number of dry or wet days during a specific period of time. \\n• How many dry spells were there during the past rainy season? How long was the \\nlongest dry spell and the heaviest rain streak this past rainy season?  Observational \\nrainfall data can be used to detect the occurrence, location and duration of dry spells and \\nprolonged periods of heavy rain.  \\n• How often in the past decade were more than x millimeters of rainfall measured?  \\nObservational rainfall data provides daily rainfall totals in millimeters and can be used to \\nassess how often an area received rain above or below a given threshold.\\n• Which region received the most rain last month?  Observational rainfall data can be \\naggregated to provide rainfall totals for larger geographic areas and then used to compare \\nrain for that area. \\nObservational rainfall data cannot answer the following questions: \\n• How much will it rain during a period of time in the future?  Observational rainfall data is \\nreferred to as observational because it describes what happened in the past. It does not tell \\nyou anything about future rainfall. \\n• Is a severe flooding event about to occur? Are we going through a severe drought?  \\nObservational rainfall data does not provide sufficient information to inform you about the \\nrisk of flooding in the near future or how severe a drought is likely to be. This is because \\nfloods and droughts are complex phenomena caused by several interacting factors and they \\ncannot be explained exclusively by the amount of precipitation.\\n• How much rainfall from a given period of time in the past was due to specific tropical \\nstorm or typhoon?  It is hard to differentiate between the amount of rain caused by \\naverage atmospheric conditions and the amount of rain induced by a specific atmospheric \\nphenomenon. As a result, using observational rainfall data alone, it is not possible to say how \\nmuch rainfall is due strictly to a tropical storm or typhoon. More data is needed to infer the \\norigin of a heavy rainfall event.', metadata={'chunk': 0.0, 'id': 'b3e891689fb1446f90d305492e4aaaed', 'page': '4', 'source': 'guidance_observationalrainfalldata.pdf'}),\n",
       "  Document(page_content=\"Gazdar, Gerald, Pragmatics,  1979.\\n\\nGazdar, Gerald, `A Solution to the Projection Problem' in: Syntax and Semantics 11. Presupposition, 1979.\\n\\nGervs, Pablo,  Logical Considerations in the Interpretation of Presuppositional Sentences, PhD Thesis, Department of Computing, Imperial College of Science, Technology and Medicine, London, forthcoming.\\n\\nHeim, Irene, The Semantics of Definite and Indefinite Noun Phrases, PhD Thesis, University of Massachusetts, 1982.\\n\\nHeim, Irene, `On the projection problem for presuppositions', in: D. Flickinger et al (eds. ), Proceedings of the Second West Coast Conference on Formal Linguistics, 1983. Reprinted in:  S. Davis (ed. ), Pragmatics, OUP, New York, 1991.\\n\\nKarttunen, Lauri, `Presupposition of Compound Sentences', Linguistic Inquiry, Volume IV, Number 2 (Spring 1973).\\n\\nKarttunen, Lauri, `Presupposition and Linguistic Context', Theoretical Linguistics I, 1974.\\n\\nKarttunnen and Peters `Conventional Implicature', in: Syntax and Semantics 11. Presupposition, 1979.\\n\\nMercer, Robert Ernest, A Default Logic Approach to the Derivation of Natural Language Presuppositions,Technical Report 87-35, Department of Computer Science, University of British Columbia, Vancouver, B.C.,Canada.\\n\\nMercer, Robert, `Towards a Common Logical Semantics for Presuppositions and Entailment', Journal of Semantics, Volume 9, Number 3, 1992, pp 223-250.\\n\\nVan der Sandt,  Rob A., `Presupposition Projection as Anaphora Resolution', Journal of Semantics, 9, 1992,  pp333-377. Helm, London, 1988.\\n\\nFootnotes\\n\\nPresented in: Computational Logic for Natural Language Processing, (A Joint COMPULOG/ELSNET/EAGLES Workshop), April 3-5, 1995, Edinburgh. The most important consequence is that attempts to model presupposition as an entailment lead to  characterizations where all presuppositions are tautologies in the classical sense, which is an undesirable result. This is based on the argument that if\\n\\nand\\n\\nthen it must be the case that\\n\\n. Because presuppositions are observed to be informative in their actual use by language speakers, this way of modelling them is not useful. For\\n\\nand\\n\\n, the negated and the unnegated version have the same presupppositions; for\", metadata={'chunk': 7.0, 'id': '0b02ec33c7e042c191c880b148dc717b', 'page': 'None', 'source': '9505014.xml'}),\n",
       "  Document(page_content='CENTRE FOR HUMANITARIAN DATA\\n\\n3\\n\\nCommon sources of observational rainfall data\\n\\nAmong the many sources of data available, we introduce here two common sources of observational rainfall data, both of which combine station and satellite data: CHIRPS and ARC2. CHIRPS refers to the Climate Hazards Group InfraRed Precipitation with Station data and is produced by scientists from the US Geological Survey and the Climate Hazards Center at the University of Santa Barbara. ARC2 refers to Africa Rainfall Climatology Version 2 and it is produced by The National Oceanic and Atmospheric Administration’s Climate Prediction Center for the Famine Early Warning System. You can access the data directly from these providers, or use the tabular CHIRPS datasets that provides pre-computed rainfall metrics at admin2 and is available on HDX.1\\n\\nCOMPARISON OF CHIRPS AND ARC2 OBSERVATIONAL RAINFALL DATA\\n\\nSource\\n\\nCHIRPS\\n\\nARC2\\n\\nFormat\\n\\nRaster\\n\\nRaster\\n\\nGlobal (quasi2)\\n\\nGeographical coverage\\n\\nAfrica\\n\\nSpatial granularity (also referred to as spatial resolution)\\n\\n0.05 degree (5.5 km at the equator)\\n\\n0.1 degree (11 km at the equator)\\n\\nDaily rainfall3\\n\\nTemporal granularity (aso referred to as temporal resolution)\\n\\nDaily rainfall\\n\\nHistorical coverage\\n\\n1981 - today\\n\\n1983 - today\\n\\nPublication\\n\\nEvery month, around the third week of the following month\\n\\nEvery day, with a 2-day lag\\n\\nNear real-time monitoring in Africa\\n\\nMost common uses\\n\\nMonthly, seasonal, or yearly rainfall monitoring\\n\\nYear-to-year comparisons in Africa\\n\\nIncluded in other tools including those used for drought monitoring and FEWS NET assessments\\n\\nTrend analysis across years\\n\\nQuestions to answer with observational rainfall data\\n\\nObservational rainfall data can be used to answer a number of questions and inform decision making in humanitarian operations. Examples include:\\n\\nHow much rain fell in the past x days/weeks/months? Observational rainfall datasets\\n\\nprovide data on the total amount of rainfall for an area over a discrete period of time, which can be aggregated and used to calculate rainfall over different time intervals.\\n\\n1 https://data.humdata.org/organization/wfp?q=chirps\\n\\n2 The dataset spans the latitude range 50°S-50°N, and all longitudes.\\n\\n3 CHIRPS produces a preliminary version of their estimates with a latency of two days. The final version is published in the third week of the following month.\\n\\nCENTRE FOR HUMANITARIAN DATA\\n\\n4\\n\\nWas the rainfall last month above or below normal? And by how much? Observational rainfall data goes back decades and can therefore be used to determine whether rainfall for a month or a season is above, at or below the historical average.\\n\\nWere there more rainy days this month than last month? Observational rainfall data is', metadata={'chunk': 2.0, 'id': '0d270570426f41ac974763cbffa68aeb', 'page': 'None', 'source': 'guidance_observationalrainfalldata.pdf'}),\n",
       "  Document(page_content='2 CENTRE FOR HUMANITARIAN DATAAbout this series: The climate crisis is intensifying humanitarian emergencies around the world and \\nhumanitarians  are increasingly  having to incorporate  climate data and forecasts into their analysis  \\nand planning.  This guidance  series has been developed to help humanitarians  to access,  analyze and \\ninterpret  common  types of climate and weather data, and to provide a common language for working  \\nwith meteorological  and hydrological services.\\n• Observational rainfall data such as CHIRPS or ARC2 captures how much rain has fallen over a \\ndefined period of time.\\n• The rainfall is measured at weather stations or estimated through satellite or radar imagery .\\n• The data can be presented as the total amount of rainfall observed over the period of time, \\nor as below, at or above normal conditions . \\n• Datasets that combine station data and satellite or radar imagery are the recommended \\nsource of data for humanitarian purposes .\\n• Observational rainfall data can be analyzed to answer a range of questions, such as:\\n• What areas are currently affected by drought, and how severely?\\n• What was the duration of the longest dry spell during the past rainy season?\\n• How many days of heavy rainfall were there in the week leading up to the floods?\\n• Which area received the most rain last month?\\n• How often does an area experience dry spells?\\n• How does this year’s rainfall compare to previous years?Key takeaways\\nWhat is observational rainfall data?\\nObservational rainfall data captures how much rain fell over a defined period of time, \\nranging from an hour to a day. This data can then be used to calculate the total rainfall for \\ndifferent time periods, such as 5 days ( pentad ), 10 days ( dekad ), a week, a month or a season. \\nObservational rainfall datasets can go back decades and have broad geographic coverage, \\nenabling historical trend analysis and comparisons.\\nObservational rainfall data is produced by measuring  the amount of rainfall at precise \\nlocations, which are called measuring stations or gauges (e.g., the stars in Figure 1 below). \\nStation data is typically obtained from national or regional meteorological services and should \\nonly be used in accordance with their guidance. Some of the advantages of station data are \\nthat it is accurate at the specific locations, it is collected frequently and it has been collected \\nover the long-term, allowing for trend analysis. On the other hand, station data is only \\navailable for specific locations and is subject to bias due to wind, evaporation, and changes in \\nmeasurement devices. Contact the local or regional meteorological services to learn whether \\nstation data is available, where the stations are located, how often the data is updated, and \\nwhether historical records are available.', metadata={'chunk': 0.0, 'id': 'fceb578bcc1c48beaefd16aa5869898b', 'page': '1', 'source': 'guidance_observationalrainfalldata.pdf'})],\n",
       " 'human_input': 'How can i predict rainfall?',\n",
       " 'chat_history': \"Human: What did the president say about Justice Breyer\\nAI:  I'm sorry, I don't have any information about what the president said about Justice Breyer. However, I can tell you that observational rainfall data can be used to answer questions such as how much rain fell in the past x days/weeks/months, what areas are currently affected by drought, and how many days of heavy rainfall were there in the week leading up to the floods.\\nHuman: What did the president say about Justice Breyer\\nAI:  I'm sorry, I don't have any information about what the president said about Justice Breyer.\\nHuman: How to predict rainfall?\\nAI:  Predictions of rainfall cannot be made using observational rainfall data alone. Observational rainfall data is referred to as observational because it describes what happened in the past. It does not tell you anything about future rainfall. To make predictions about future rainfall, additional data and models are needed.\\nHuman: How can i predict rainfall?\\nAI:  Predictions of rainfall cannot be made using observational rainfall data alone. To make predictions about future rainfall, additional data and models are needed. This includes data from weather stations, satellite imagery, radar, and other sources. Additionally, models such as numerical weather prediction models and climate models are used to make predictions about future rainfall.\",\n",
       " 'output_text': ' Predictions of rainfall cannot be made using observational rainfall data alone. To make predictions about future rainfall, additional data and models are needed. This includes data from weather stations, satellite imagery, radar, and other sources. Additionally, models such as numerical weather prediction models and climate models are used to make predictions about future rainfall.'}"
      ]
     },
     "execution_count": 22,
     "metadata": {},
     "output_type": "execute_result"
    }
   ],
   "source": [
    "query\n",
    "chain({\"input_documents\": docs, \"human_input\": query}, return_only_outputs=False)"
   ]
  },
  {
   "cell_type": "code",
   "execution_count": null,
   "metadata": {},
   "outputs": [],
   "source": []
  }
 ],
 "metadata": {
  "kernelspec": {
   "display_name": "venv",
   "language": "python",
   "name": "python3"
  },
  "language_info": {
   "codemirror_mode": {
    "name": "ipython",
    "version": 3
   },
   "file_extension": ".py",
   "mimetype": "text/x-python",
   "name": "python",
   "nbconvert_exporter": "python",
   "pygments_lexer": "ipython3",
   "version": "3.10.0"
  },
  "orig_nbformat": 4
 },
 "nbformat": 4,
 "nbformat_minor": 2
}
