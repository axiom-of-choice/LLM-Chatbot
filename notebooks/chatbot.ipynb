{
 "cells": [
  {
   "cell_type": "code",
   "execution_count": 44,
   "metadata": {},
   "outputs": [],
   "source": [
    "# from transformers import BloomTokenizerFast, BloomForQuestionAnswering, BloomForCausalLM, TrainingArguments, Trainer\n",
    "import logging\n",
    "from dotenv import load_dotenv\n",
    "from langchain.embeddings.cohere import CohereEmbeddings\n",
    "import pinecone\n",
    "from langchain.vectorstores import Pinecone\n",
    "from langchain.chains import RetrievalQA\n",
    "from langchain import HuggingFaceHub\n",
    "from langchain.prompts import PromptTemplate\n",
    "\n",
    "#utils\n",
    "# from src.utils import connect_index\n",
    "\n",
    "# Memory\n",
    "from langchain.memory import ConversationBufferMemory\n",
    "\n",
    "load_dotenv()\n",
    "\n",
    "import os\n",
    "os.getcwd()\n",
    "\n",
    "import sys \n",
    "\n",
    "sys.path.append(os.path.abspath(os.path.join('../')))\n",
    "\n",
    "from config import *\n",
    "from src.utils import connect_index"
   ]
  },
  {
   "cell_type": "code",
   "execution_count": 43,
   "metadata": {},
   "outputs": [],
   "source": [
    "from langchain.chains.question_answering import load_qa_chain\n",
    "from langchain.llms import OpenAI\n",
    "from langchain.prompts import PromptTemplate\n",
    "from langchain.memory import ConversationBufferMemory"
   ]
  },
  {
   "cell_type": "code",
   "execution_count": 45,
   "metadata": {},
   "outputs": [],
   "source": [
    "embeddings = CohereEmbeddings(model=COHERE_MODEL_NAME, cohere_api_key=COHERE_API_KEY)"
   ]
  },
  {
   "cell_type": "code",
   "execution_count": 46,
   "metadata": {},
   "outputs": [
    {
     "name": "stderr",
     "output_type": "stream",
     "text": [
      "2023-08-03 14:10:37.341 \n",
      "  \u001b[33m\u001b[1mWarning:\u001b[0m to view this Streamlit app on a browser, run it with the following\n",
      "  command:\n",
      "\n",
      "    streamlit run /Users/isaac/FundamentlPartners/abinvenv-sol/venv/lib/python3.10/site-packages/ipykernel_launcher.py [ARGUMENTS]\n",
      "2023-08-03 14:10:38.088 Connected to Pinecone index stab-test\n"
     ]
    }
   ],
   "source": [
    "index = connect_index(PINECONE_INDEX_NAME)\n",
    "vectorstore = Pinecone(index, embeddings.embed_query, \"text\")"
   ]
  },
  {
   "cell_type": "code",
   "execution_count": 47,
   "metadata": {},
   "outputs": [
    {
     "data": {
      "text/plain": [
       "[Document(page_content='These materials are © 2018 John Wiley & Sons, Inc. Any dissemination, distribution, or unauthorized use is strictly prohibited.Table of Contents\\nINTRODUCTION  ............................................................................................... 1\\nAbout This Book  ................................................................................... 1\\nFoolish Assumptions  ............................................................................ 2\\nIcons Used in This Book  ....................................................................... 2\\nCHAPTER 1:  Grasping Blockchain Fundamentals  ............................ 3\\nTracing Blockchain’s Origin  ................................................................. 3\\nThe shortcomings of current  transaction systems ..................... 4\\nThe emergence of Bitcoin  .............................................................. 5\\nThe birth of blockchain  .................................................................. 6\\nRevolutionizing the Traditional Business Network  .......................... 6\\nExploring a blockchain application  ............................................... 7\\nRecognizing the key business benefits  ......................................... 9\\nBuilding trust with blockchain  ..................................................... 10\\nCHAPTER 2:  Taking a Look at How Blockchain Works  ............... 13\\nWhy It’s Called “Blockchain”  .............................................................. 13\\nWhat Makes a Blockchain Suitable for Business?  .......................... 14\\nShared ledger  ................................................................................ 15\\nPermissions ................................................................................... 15\\nConsensus ...................................................................................... 16\\nSmart contracts ............................................................................. 17\\nIdentifying Participants and Their Roles  .......................................... 18\\nCHAPTER 3:  Propelling Business with Blockchains  ...................... 19\\nRecognizing Types of Market Friction  .............................................. 20\\nInformation frictions ..................................................................... 20\\nInteraction frictions  ...................................................................... 20\\nInnovation frictions  ....................................................................... 21\\nMoving Closer to Friction-Free Business Networks  ....................... 21\\nReducing information friction  ..................................................... 22\\nEasing interaction friction  ............................................................ 22\\nEasing innovation friction  ............................................................ 23\\nTransforming Ecosystems through Increased Visibility  ................. 24\\nTable of Contents      iii', metadata={'chunk': 0.0, 'data_source': 'S3', 'id': '157b48bc1b8a464d8fe0f3371614a0f3', 'page': '3', 'source': 'Blockchain%20for%20Dummies.pdf'}),\n",
       " Document(page_content='CHAPTER 6: Ten Steps to Your First\\n\\nBlockchain Application ......................................................... 39 Determining How Blockchain Fits in Your Industry ....................... 39 Identifying Speed Bumps in Business Processes ........................... 40 Determining How Blockchain Can Help .......................................... 40 Choosing an Appropriate Use Case ................................................. 41 Determining the Goal of Your Blockchain Network ....................... 41 Identifying Dependencies .................................................................. 42 Choosing a Blockchain Provider and Platform ............................... 42 Developing and Deploying Smart Contracts ................................... 43 Testing and Fine-Tuning Your Application and Network ............... 43\\n\\niv Blockchain For Dummies, 2nd IBM Limited Edition\\n\\nThese materials are © 2018 John Wiley & Sons, Inc. Any dissemination, distribution, or unauthorized use is strictly prohibited.\\n\\nIntroduction\\n\\nWelcome to Blockchain For Dummies, 2nd IBM Limited\\n\\nEdition, your guide to all things blockchain for busi- ness. It’s been said that blockchain will do for transac- tions what the Internet did for information. What that means is that blockchain allows increased trust and efficiency in the exchange of almost anything.\\n\\nBlockchain can profoundly change how the world works. If you’ve ever bought a house, you’ve probably had to sign a huge stack of papers from a variety of different stakeholders to make that transaction happen. If you’ve ever registered a vehicle, you likely understand how painful that process can be. I won’t even get started on how challenging it can be to track your medical records.\\n\\nBlockchain — most simply defined as a shared, immutable ledger — has the potential to be the technology that redefines those processes and many others. To be clear, when I talk about blockchain, I’m not talking about Bitcoin. I’m talking about the underlying digital foundation that supports applications such as Bitcoin. But the reaches of blockchain extend far beyond Bitcoin.\\n\\nAbout This Book\\n\\nBlockchain For Dummies, 2nd IBM Limited Edition, equips you with an understanding of what blockchain is, how it works, and how it can enhance your business and the industry in which it operates. You learn the fundamentals of blockchain and how this technol- ogy revolutionizes transactions and business networks. You also discover the important difference between “blockchain” and “blockchain for business” and what makes blockchain an ideal solution for streamlining business networks.\\n\\nYou find out about Hyperledger, a Linux Foundation proj- ect, designed to help advance technology and thought leader- ship of cross-industry blockchain technologies. You learn about Hyperledger Fabric, an open-source framework, and the instru- mental role it plays in developing a blockchain for business. Finally, you find out everything you need to spin up a blockchain network today.\\n\\nIntroduction 1\\n\\nThese materials are © 2018 John Wiley & Sons, Inc. Any dissemination, distribution, or unauthorized use is strictly prohibited.\\n\\nFoolish Assumptions', metadata={'chunk': 3.0, 'data_source': 'S3', 'id': 'df089b0528af415c8380ea73c60eaff9', 'page': 'None', 'source': 'Blockchain%20for%20Dummies.pdf'}),\n",
       " Document(page_content='PROOF OF WORK: AN UNNECESSARY EXPENSE FOR A BLOCKCHAIN FOR BUSINESS\\n\\nWhen participants are anonymous (such as in the Bitcoin world), com- mitment is expensive. On the Bitcoin network, consensus is reached through proof of work. The network challenges every machine that stores a copy of the ledger to solve a complex puzzle based on its ver- sion of the ledger. Machines with identical copies of the ledger “team up” to solve the puzzle they’ve been given. The first team to solve the puzzle wins, and all other machines update their ledgers to match that of the winning team. The idea is that the majority wins because it has the most computing power to solve its puzzle first.\\n\\nProof of work is useful on a public blockchain, such as the one used for Bitcoin, but it consumes considerable computing power and elec- tricity, making it an expensive way to reach consensus.\\n\\nCHAPTER 2 Taking a Look at How Blockchain Works 17\\n\\nThese materials are © 2018 John Wiley & Sons, Inc. Any dissemination, distribution, or unauthorized use is strictly prohibited.\\n\\nIdentifying Participants and Their Roles\\n\\nVarious participants on a blockchain network play a role in its operation. They include\\n\\n» Blockchain user: A participant (typically a business user)\\n\\nwith permissions to join the blockchain network and conduct transactions with other network participants. Blockchain technology operates in the background, so the blockchain user has no awareness of it. There are typically multiple users on any one business network.\\n\\n» Regulator: A blockchain user with special permissions to oversee the transactions happening within the network. Regulators may be prohibited from conducting transactions.\\n\\n» Blockchain developer: Programmers who create the\\n\\napplications and smart contracts that enable blockchain users to conduct transactions on the blockchain network. Applications serve as a conduit between users and the blockchain.\\n\\n» Blockchain network operator: Individuals who have special permissions and authority to define, create, manage, and monitor the blockchain network. Each business on a blockchain network has a blockchain network operator. » Traditional processing platforms: Existing computer\\n\\nsystems that may be used by the blockchain to augment processing. This system may also need to initiate requests into the blockchain.\\n\\n» Traditional data sources: Existing data systems that may provide data to influence behavior of smart contracts and help to define how communications and data transfer will occur between traditional applications/data and the blockchain — via API calls, through MQ style cloud messag- ing, or both.\\n\\n» Certificate authority: An individual who issues and\\n\\nmanages the different types of certificates required to run a permissioned blockchain. For example, certificates may need to be issued to blockchain users or to individual transactions.\\n\\n18 Blockchain For Dummies, 2nd IBM Limited Edition\\n\\nThese materials are © 2018 John Wiley & Sons, Inc. Any dissemination, distribution, or unauthorized use is strictly prohibited.\\n\\nIN THIS CHAPTER\\n\\n» Recognizing blockchain’s potential for\\n\\neliminating market friction', metadata={'chunk': 13.0, 'data_source': 'S3', 'id': 'df089b0528af415c8380ea73c60eaff9', 'page': 'None', 'source': 'Blockchain%20for%20Dummies.pdf'}),\n",
       " Document(page_content='WILEY END USER LICENSE AGREEMENT\\nGo to www.wiley.com/go/eula to access Wiley’s ebook EULA.', metadata={'chunk': 0.0, 'data_source': 'S3', 'id': '6411584e50a6440db2f6111f6a0a55de', 'page': '50', 'source': 'Blockchain%20for%20Dummies.pdf'})]"
      ]
     },
     "execution_count": 47,
     "metadata": {},
     "output_type": "execute_result"
    }
   ],
   "source": [
    "query = \"How can i predict rainfall?\"\n",
    "docs = vectorstore.max_marginal_relevance_search(query=query, top_k=5)\n",
    "docs"
   ]
  },
  {
   "cell_type": "code",
   "execution_count": null,
   "metadata": {},
   "outputs": [],
   "source": [
    "template = \"\"\"You are a chatbot having a conversation with a human.\n",
    "\n",
    "Given the following extracted parts of a long document and a question, create a final answer.\n",
    "\n",
    "{context}\n",
    "\n",
    "{chat_history}\n",
    "Human: {human_input}\n",
    "Chatbot:\"\"\"\n",
    "\n",
    "prompt = PromptTemplate(\n",
    "    input_variables=[\"chat_history\", \"human_input\", \"context\"], template=template\n",
    ")\n",
    "memory = ConversationBufferMemory(memory_key=\"chat_history\", input_key=\"human_input\")\n",
    "chain = load_qa_chain(\n",
    "    OpenAI(temperature=0, openai_api_key=OPENAI_API_KEY), chain_type=\"stuff\", memory=memory, prompt=prompt\n",
    ")"
   ]
  },
  {
   "cell_type": "code",
   "execution_count": null,
   "metadata": {},
   "outputs": [
    {
     "data": {
      "text/plain": [
       "{'input_documents': [Document(page_content='5 CENTRE FOR HUMANITARIAN DATA• Was the rainfall last month above or below normal?  And by how much?  Observational \\nrainfall data goes back decades and can therefore be used to determine whether rainfall for \\na month or a season is above, at or below the historical average. \\n• Were there more rainy days this month than last month? Observational rainfall data is \\navailable for each day and can be used to determine if it rained or not on a given day and to \\ncount the number of dry or wet days during a specific period of time. \\n• How many dry spells were there during the past rainy season? How long was the \\nlongest dry spell and the heaviest rain streak this past rainy season?  Observational \\nrainfall data can be used to detect the occurrence, location and duration of dry spells and \\nprolonged periods of heavy rain.  \\n• How often in the past decade were more than x millimeters of rainfall measured?  \\nObservational rainfall data provides daily rainfall totals in millimeters and can be used to \\nassess how often an area received rain above or below a given threshold.\\n• Which region received the most rain last month?  Observational rainfall data can be \\naggregated to provide rainfall totals for larger geographic areas and then used to compare \\nrain for that area. \\nObservational rainfall data cannot answer the following questions: \\n• How much will it rain during a period of time in the future?  Observational rainfall data is \\nreferred to as observational because it describes what happened in the past. It does not tell \\nyou anything about future rainfall. \\n• Is a severe flooding event about to occur? Are we going through a severe drought?  \\nObservational rainfall data does not provide sufficient information to inform you about the \\nrisk of flooding in the near future or how severe a drought is likely to be. This is because \\nfloods and droughts are complex phenomena caused by several interacting factors and they \\ncannot be explained exclusively by the amount of precipitation.\\n• How much rainfall from a given period of time in the past was due to specific tropical \\nstorm or typhoon?  It is hard to differentiate between the amount of rain caused by \\naverage atmospheric conditions and the amount of rain induced by a specific atmospheric \\nphenomenon. As a result, using observational rainfall data alone, it is not possible to say how \\nmuch rainfall is due strictly to a tropical storm or typhoon. More data is needed to infer the \\norigin of a heavy rainfall event.', metadata={'chunk': 0.0, 'id': 'b3e891689fb1446f90d305492e4aaaed', 'page': '4', 'source': 'guidance_observationalrainfalldata.pdf'}),\n",
       "  Document(page_content=\"Gazdar, Gerald, Pragmatics,  1979.\\n\\nGazdar, Gerald, `A Solution to the Projection Problem' in: Syntax and Semantics 11. Presupposition, 1979.\\n\\nGervs, Pablo,  Logical Considerations in the Interpretation of Presuppositional Sentences, PhD Thesis, Department of Computing, Imperial College of Science, Technology and Medicine, London, forthcoming.\\n\\nHeim, Irene, The Semantics of Definite and Indefinite Noun Phrases, PhD Thesis, University of Massachusetts, 1982.\\n\\nHeim, Irene, `On the projection problem for presuppositions', in: D. Flickinger et al (eds. ), Proceedings of the Second West Coast Conference on Formal Linguistics, 1983. Reprinted in:  S. Davis (ed. ), Pragmatics, OUP, New York, 1991.\\n\\nKarttunen, Lauri, `Presupposition of Compound Sentences', Linguistic Inquiry, Volume IV, Number 2 (Spring 1973).\\n\\nKarttunen, Lauri, `Presupposition and Linguistic Context', Theoretical Linguistics I, 1974.\\n\\nKarttunnen and Peters `Conventional Implicature', in: Syntax and Semantics 11. Presupposition, 1979.\\n\\nMercer, Robert Ernest, A Default Logic Approach to the Derivation of Natural Language Presuppositions,Technical Report 87-35, Department of Computer Science, University of British Columbia, Vancouver, B.C.,Canada.\\n\\nMercer, Robert, `Towards a Common Logical Semantics for Presuppositions and Entailment', Journal of Semantics, Volume 9, Number 3, 1992, pp 223-250.\\n\\nVan der Sandt,  Rob A., `Presupposition Projection as Anaphora Resolution', Journal of Semantics, 9, 1992,  pp333-377. Helm, London, 1988.\\n\\nFootnotes\\n\\nPresented in: Computational Logic for Natural Language Processing, (A Joint COMPULOG/ELSNET/EAGLES Workshop), April 3-5, 1995, Edinburgh. The most important consequence is that attempts to model presupposition as an entailment lead to  characterizations where all presuppositions are tautologies in the classical sense, which is an undesirable result. This is based on the argument that if\\n\\nand\\n\\nthen it must be the case that\\n\\n. Because presuppositions are observed to be informative in their actual use by language speakers, this way of modelling them is not useful. For\\n\\nand\\n\\n, the negated and the unnegated version have the same presupppositions; for\", metadata={'chunk': 7.0, 'id': '0b02ec33c7e042c191c880b148dc717b', 'page': 'None', 'source': '9505014.xml'}),\n",
       "  Document(page_content='CENTRE FOR HUMANITARIAN DATA\\n\\n3\\n\\nCommon sources of observational rainfall data\\n\\nAmong the many sources of data available, we introduce here two common sources of observational rainfall data, both of which combine station and satellite data: CHIRPS and ARC2. CHIRPS refers to the Climate Hazards Group InfraRed Precipitation with Station data and is produced by scientists from the US Geological Survey and the Climate Hazards Center at the University of Santa Barbara. ARC2 refers to Africa Rainfall Climatology Version 2 and it is produced by The National Oceanic and Atmospheric Administration’s Climate Prediction Center for the Famine Early Warning System. You can access the data directly from these providers, or use the tabular CHIRPS datasets that provides pre-computed rainfall metrics at admin2 and is available on HDX.1\\n\\nCOMPARISON OF CHIRPS AND ARC2 OBSERVATIONAL RAINFALL DATA\\n\\nSource\\n\\nCHIRPS\\n\\nARC2\\n\\nFormat\\n\\nRaster\\n\\nRaster\\n\\nGlobal (quasi2)\\n\\nGeographical coverage\\n\\nAfrica\\n\\nSpatial granularity (also referred to as spatial resolution)\\n\\n0.05 degree (5.5 km at the equator)\\n\\n0.1 degree (11 km at the equator)\\n\\nDaily rainfall3\\n\\nTemporal granularity (aso referred to as temporal resolution)\\n\\nDaily rainfall\\n\\nHistorical coverage\\n\\n1981 - today\\n\\n1983 - today\\n\\nPublication\\n\\nEvery month, around the third week of the following month\\n\\nEvery day, with a 2-day lag\\n\\nNear real-time monitoring in Africa\\n\\nMost common uses\\n\\nMonthly, seasonal, or yearly rainfall monitoring\\n\\nYear-to-year comparisons in Africa\\n\\nIncluded in other tools including those used for drought monitoring and FEWS NET assessments\\n\\nTrend analysis across years\\n\\nQuestions to answer with observational rainfall data\\n\\nObservational rainfall data can be used to answer a number of questions and inform decision making in humanitarian operations. Examples include:\\n\\nHow much rain fell in the past x days/weeks/months? Observational rainfall datasets\\n\\nprovide data on the total amount of rainfall for an area over a discrete period of time, which can be aggregated and used to calculate rainfall over different time intervals.\\n\\n1 https://data.humdata.org/organization/wfp?q=chirps\\n\\n2 The dataset spans the latitude range 50°S-50°N, and all longitudes.\\n\\n3 CHIRPS produces a preliminary version of their estimates with a latency of two days. The final version is published in the third week of the following month.\\n\\nCENTRE FOR HUMANITARIAN DATA\\n\\n4\\n\\nWas the rainfall last month above or below normal? And by how much? Observational rainfall data goes back decades and can therefore be used to determine whether rainfall for a month or a season is above, at or below the historical average.\\n\\nWere there more rainy days this month than last month? Observational rainfall data is', metadata={'chunk': 2.0, 'id': '0d270570426f41ac974763cbffa68aeb', 'page': 'None', 'source': 'guidance_observationalrainfalldata.pdf'}),\n",
       "  Document(page_content='2 CENTRE FOR HUMANITARIAN DATAAbout this series: The climate crisis is intensifying humanitarian emergencies around the world and \\nhumanitarians  are increasingly  having to incorporate  climate data and forecasts into their analysis  \\nand planning.  This guidance  series has been developed to help humanitarians  to access,  analyze and \\ninterpret  common  types of climate and weather data, and to provide a common language for working  \\nwith meteorological  and hydrological services.\\n• Observational rainfall data such as CHIRPS or ARC2 captures how much rain has fallen over a \\ndefined period of time.\\n• The rainfall is measured at weather stations or estimated through satellite or radar imagery .\\n• The data can be presented as the total amount of rainfall observed over the period of time, \\nor as below, at or above normal conditions . \\n• Datasets that combine station data and satellite or radar imagery are the recommended \\nsource of data for humanitarian purposes .\\n• Observational rainfall data can be analyzed to answer a range of questions, such as:\\n• What areas are currently affected by drought, and how severely?\\n• What was the duration of the longest dry spell during the past rainy season?\\n• How many days of heavy rainfall were there in the week leading up to the floods?\\n• Which area received the most rain last month?\\n• How often does an area experience dry spells?\\n• How does this year’s rainfall compare to previous years?Key takeaways\\nWhat is observational rainfall data?\\nObservational rainfall data captures how much rain fell over a defined period of time, \\nranging from an hour to a day. This data can then be used to calculate the total rainfall for \\ndifferent time periods, such as 5 days ( pentad ), 10 days ( dekad ), a week, a month or a season. \\nObservational rainfall datasets can go back decades and have broad geographic coverage, \\nenabling historical trend analysis and comparisons.\\nObservational rainfall data is produced by measuring  the amount of rainfall at precise \\nlocations, which are called measuring stations or gauges (e.g., the stars in Figure 1 below). \\nStation data is typically obtained from national or regional meteorological services and should \\nonly be used in accordance with their guidance. Some of the advantages of station data are \\nthat it is accurate at the specific locations, it is collected frequently and it has been collected \\nover the long-term, allowing for trend analysis. On the other hand, station data is only \\navailable for specific locations and is subject to bias due to wind, evaporation, and changes in \\nmeasurement devices. Contact the local or regional meteorological services to learn whether \\nstation data is available, where the stations are located, how often the data is updated, and \\nwhether historical records are available.', metadata={'chunk': 0.0, 'id': 'fceb578bcc1c48beaefd16aa5869898b', 'page': '1', 'source': 'guidance_observationalrainfalldata.pdf'})],\n",
       " 'human_input': 'How can i predict rainfall?',\n",
       " 'chat_history': \"Human: What did the president say about Justice Breyer\\nAI:  I'm sorry, I don't have any information about what the president said about Justice Breyer. However, I can tell you that observational rainfall data can be used to answer questions such as how much rain fell in the past x days/weeks/months, what areas are currently affected by drought, and how many days of heavy rainfall were there in the week leading up to the floods.\\nHuman: What did the president say about Justice Breyer\\nAI:  I'm sorry, I don't have any information about what the president said about Justice Breyer.\\nHuman: How to predict rainfall?\\nAI:  Predictions of rainfall cannot be made using observational rainfall data alone. Observational rainfall data is referred to as observational because it describes what happened in the past. It does not tell you anything about future rainfall. To make predictions about future rainfall, additional data and models are needed.\\nHuman: How can i predict rainfall?\\nAI:  Predictions of rainfall cannot be made using observational rainfall data alone. To make predictions about future rainfall, additional data and models are needed. This includes data from weather stations, satellite imagery, radar, and other sources. Additionally, models such as numerical weather prediction models and climate models are used to make predictions about future rainfall.\",\n",
       " 'output_text': ' Predictions of rainfall cannot be made using observational rainfall data alone. To make predictions about future rainfall, additional data and models are needed. This includes data from weather stations, satellite imagery, radar, and other sources. Additionally, models such as numerical weather prediction models and climate models are used to make predictions about future rainfall.'}"
      ]
     },
     "execution_count": 22,
     "metadata": {},
     "output_type": "execute_result"
    }
   ],
   "source": [
    "query\n",
    "chain({\"input_documents\": docs, \"human_input\": query}, return_only_outputs=False)"
   ]
  },
  {
   "cell_type": "code",
   "execution_count": null,
   "metadata": {},
   "outputs": [],
   "source": [
    "from langchain.document_loaders import DirectoryLoader"
   ]
  },
  {
   "cell_type": "code",
   "execution_count": null,
   "metadata": {},
   "outputs": [],
   "source": [
    "loader = DirectoryLoader(path = \".\",glob=\"**/*.xml\")"
   ]
  },
  {
   "cell_type": "code",
   "execution_count": null,
   "metadata": {},
   "outputs": [
    {
     "data": {
      "text/plain": [
       "'**/*.xml'"
      ]
     },
     "execution_count": 22,
     "metadata": {},
     "output_type": "execute_result"
    }
   ],
   "source": [
    "loader.glob"
   ]
  },
  {
   "cell_type": "code",
   "execution_count": null,
   "metadata": {},
   "outputs": [],
   "source": [
    "docs = loader.load()"
   ]
  },
  {
   "cell_type": "code",
   "execution_count": null,
   "metadata": {},
   "outputs": [
    {
     "data": {
      "text/plain": [
       "[Document(page_content=\"An Empirically Motivated Reinterpretation of Dependency Grammar\\n\\nDependency grammar is usually interpreted as equivalent to a strict form of X-bar theory that forbids the stacking of nodes of the same bar level (e.g.,\\n\\nimmediately dominating\\n\\nwith the same head). But adequate accounts of one-anaphora and of the semantics of multiple modifiers require such stacking and accordingly argue against dependency grammar. Dependency grammar can be salvaged by reinterpreting its claims about phrase structure, so that modifiers map onto binary-branching X-bar trees rather than ``flat'' ones.\\n\\nIntroduction\\n\\nArguments for stacked X\\n\\n\\n\\nbar structures (such as\\n\\nimmediately\\n\\ndominating\\n\\nwith the same head) are arguments against dependency grammar as normally understood. This paper reviews the dependency grammar formalism, presents evidence that stacked\\n\\nstructures are required, and then proposes a reinterpretation of dependency grammar to make it compatible with the evidence.\\n\\nDependency grammar\\n\\nThe formalism\\n\\nThe fundamental relation in DG is between head and dependent. One word (usually the main verb) is the head of the whole sentence; every other word depends on some head, and may itself be the head of any number of dependents. The rules of grammar then specify what heads can take what dependents (for example, adjectives depend on nouns, not on verbs). Practical DGs distinguish various types of dependents (complement, adjunct, determiner, etc. ), but the details are not important for my argument.\\n\\nFigure 1 shows, in the usual notation, a dependency analysis of The old dog chased the cat into the garden. Here chased is the head of the sentence; dog and cat depend on chased; the and old depend on dog; and so on.\\n\\nConstituency in DG\\n\\nDependency grammar still recognizes constituents, but they are a defined rather than a basic concept. The usual definition is that a constituent consists of any word plus all its dependents, their dependents, and so on recursively. (Tesnire calls such a constituent a  NUD.) Thus the constituents in Figure 1 are (in addition to the individual words):\\n\\nare ruled out. Figure 2 shows Figure 1 recast into X-bar theory according to this interpretation.\\n\\nDifficulty 1: The proform one\\n\\n,\\n\\nand that\\n\\n's form stacked structures (Figure 3). Dependency grammar can do no such thing, because in dependency grammar as normally understood, all the modifiers hang from the same\\n\\nnode (Figure 4).\\n\\nFurther, the stacked\\n\\nanalysis predicts a structural ambiguity if there are modifiers on both sides of the head noun -- and the behavior of one shows that this ambiguity is real. Each\\n\\nin either tree in Figure 5 can be the antecedent of one: the long-haired student from Cambridge and a short-haired one from Oxford the long-haired student from Cambridge and a short-haired one the long-haired student from Cambridge and one from Oxford this long-haired student from Cambridge and the other one Again dependency grammar is left high and dry -- DG formalism can recognize neither the stacking nor the ambiguity, because all the modifiers have the same head.\\n\\nDifficulty 2: Semantics of multiple modifiers\\n\\nanalysis. But this grouping cannot be expressed by dependency grammar, because as far as DG is concerned, typical and French are dependents of house, and there is no intermediate syntactic structure.\\n\\n[[ knocked twice ] intentionally ] (acted on one intention, to knock twice) [[ knocked intentionally ] twice ] (had the intention two times) These argue strongly for stacking of\\n\\n's, or at least for something comparable on the semantic level.\\n\\nNote by the way that if there are modifiers on both sides of the verb, an ambiguity arises just as it did with nouns: intentionally knocked twice is ambiguous between [[ intentionally knocked ] twice ] and[ intentionally [ knocked twice ]].\\n\\nCrucially, these phenomena entail that if one adopts a non-stacked syntax such as that mandated by the standard interpretation of DG, then the semantic component of the grammar must know not only the grammatical relations recognized by the syntax, but also the comparative proximity of the various modifiers to the head.\\n\\nReinterpreting dependency grammar\\n\\nDependency grammar can be salvaged from this mess by reinterpreting its claims about phrase structure. Recall that in a dependency grammar, constituency is a defined concept. The solution is therefore to change the definition. Specifically, instead of being considered equivalent to flat X-bar trees, dependency structures can be mapped onto X-bar trees that introduce stacking in a principled way.\\n\\nHere is a sketch of such a reinterpretation, consistent with current X-bar theory. Given a head (X) and its dependents, attach the dependents to the head by forming stacked\\n\\nnodes as follows: 1. Attach subcategorized complements first, all under the same\\n\\nnode. If there are none, create the\\n\\nnode anyway. 2. Then attach modifiers, one at a time, by working outward from the one nearest the head noun, and adding a stacked\\n\\nnode for each.\\n\\n3.\\n\\nFinally, create an\\n\\nnode at the top of the stack, and attach the specifier (determiner), if any. Thus the dependency structure\\n\\nmaps, under the new interpretation, to the stacked structure:\\n\\nNote that if there are modifiers both before and after the head, the resulting X-bar tree is not unique -- and this non-uniqueness is desirable, because the resulting alternatives, such as =7.5in [[ long-haired student ] from Cambridge ]:[ long-haired [ student from Cambridge ]] [[ intentionally knocked ] twice ]:[ intentionally [ knocked twice ]]are exactly the ones required by the evidence.\\n\\nConclusion\\n\\nThe alert reader may wonder, at this point, whether dependency grammar has been salvaged or rather refuted, because under the new interpretation, DG is a notational variant of current X-bar theory. To this I have several replies: 1. It should not be surprising when separate theories of the same phenomena develop convergently. 2. DG always  WAS a notational variant of X-bar theory; I have merely brought its implicit X-bar theory up to date. 3. DG still imposes stricter requirements than transformational grammar, because in DG, violations of X-bar theory are flatly impossible, not just undesirable. In any case, the dependency perspective on sentence structure has proved its worth not only in syntactic theorizing, but also in language teaching, parsing, and other practical applications. Indeed, dependency concepts, such as government and c-command, are becoming increasingly prominent in transformational grammar. Dependency grammar can complement other approaches to syntax in much the same way that relational grammar, fifteen years ago, provided an organizing perspective on what had previously been a heterogeneous set of syntactic transformations.\\n\\nReferences\\n\\n, Avery, III (1983) A note on the constituent structure of modifiers. Linguistic Inquiry 14:695-697. Covington, Michael A. (1990) Parsing discontinuous constituents in dependency grammar. Computational Linguistics 16:234-236. Dahl, sten (1980) Some arguments for higher nodes in syntax: a reply to Hudson's `Constituency and dependency.' Linguistics 18:485-488. Hudson, Richard (1980a) Constituency and dependency. Linguistics 18:179-198. Hudson, Richard (1980b) A second attack on constituency: a reply to Dahl. Linguistics 18:489-504. Hudson, Richard (1990) English word grammar. Oxford: Basil Blackwell. Mel'cuk, Igor A. (1987) Dependency syntax: theory and practice. Albany: State University of New York Press. Radford, Andrew (1988) Transformational grammar. Cambridge: Cambridge University Press. Robinson, Jane J. (1970) Dependency structures and transformational rules. Language 46:259-285. Starosta, Stanley (1988) The case for lexicase. London: Pinter. Tesnire, Lucien (1959) lments de syntaxe structurale. Paris: Klincksieck.\\n\\nFootnotes\\n\\nBut it would be completely compatible with the formalism to postulate that the head of the sentence is a potentially empty INFL or the like. Then, in Fig. 2, the VP would be a constituent. This reinterpretation was suggested by Hudson's proposal (1980b:499-501, 1990:149-150) that the semantic effect of proximity of the head is due to a parsing effect. Since parsing is nothing if not syntactic, it seems desirable to incorporate this proposal into the syntactic theory. Actually, it is immaterial to my argument whether all the complements hang from the same node or whether they, too, are introduced by binary branching, like the adjuncts.\", metadata={'source': 'text.xml'})]"
      ]
     },
     "execution_count": 25,
     "metadata": {},
     "output_type": "execute_result"
    }
   ],
   "source": [
    "docs"
   ]
  }
 ],
 "metadata": {
  "kernelspec": {
   "display_name": "venv",
   "language": "python",
   "name": "python3"
  },
  "language_info": {
   "codemirror_mode": {
    "name": "ipython",
    "version": 3
   },
   "file_extension": ".py",
   "mimetype": "text/x-python",
   "name": "python",
   "nbconvert_exporter": "python",
   "pygments_lexer": "ipython3",
   "version": "3.10.0"
  },
  "orig_nbformat": 4
 },
 "nbformat": 4,
 "nbformat_minor": 2
}
