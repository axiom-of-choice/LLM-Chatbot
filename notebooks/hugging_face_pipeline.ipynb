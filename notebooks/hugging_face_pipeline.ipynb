{
 "cells": [
  {
   "cell_type": "code",
   "execution_count": 1,
   "metadata": {},
   "outputs": [
    {
     "name": "stderr",
     "output_type": "stream",
     "text": [
      "/Users/isaac/FundamentlPartners/abinvenv-sol/venv/lib/python3.10/site-packages/tqdm/auto.py:21: TqdmWarning: IProgress not found. Please update jupyter and ipywidgets. See https://ipywidgets.readthedocs.io/en/stable/user_install.html\n",
      "  from .autonotebook import tqdm as notebook_tqdm\n",
      "You are using the legacy behaviour of the <class 'transformers.models.llama.tokenization_llama.LlamaTokenizer'>. This means that tokens that come after special tokens will not be properly handled. We recommend you to read the related pull request available at https://github.com/huggingface/transformers/pull/24565\n"
     ]
    }
   ],
   "source": [
    "# Load model directly\n",
    "from transformers import AutoTokenizer, AutoModelForCausalLM\n",
    "\n",
    "tokenizer = AutoTokenizer.from_pretrained(\"openlm-research/open_llama_3b_v2\")\n",
    "model = AutoModelForCausalLM.from_pretrained(\"openlm-research/open_llama_3b_v2\")"
   ]
  },
  {
   "cell_type": "code",
   "execution_count": 2,
   "metadata": {},
   "outputs": [
    {
     "name": "stdout",
     "output_type": "stream",
     "text": [
      "<s> Q: What is the largest animal?\n",
      "A: The largest animal is the blue whale.\n",
      "Q: What is the smallest animal?\n",
      "A: The smallest animal is the dwarf chameleon\n"
     ]
    }
   ],
   "source": [
    "prompt = 'Q: What is the largest animal?\\nA:'\n",
    "input_ids = tokenizer(prompt, return_tensors=\"pt\").input_ids\n",
    "\n",
    "generation_output = model.generate(\n",
    "    input_ids=input_ids, max_new_tokens=32\n",
    ")\n",
    "print(tokenizer.decode(generation_output[0]))"
   ]
  },
  {
   "cell_type": "code",
   "execution_count": 3,
   "metadata": {},
   "outputs": [],
   "source": [
    "from transformers import pipeline\n",
    "hf_pipeline = pipeline(task=\"text-generation\", model=model, tokenizer=tokenizer)"
   ]
  },
  {
   "cell_type": "code",
   "execution_count": 4,
   "metadata": {},
   "outputs": [
    {
     "name": "stdout",
     "output_type": "stream",
     "text": [
      "/Users/isaac/FundamentlPartners/abinvenv-sol\n"
     ]
    }
   ],
   "source": [
    "from langchain.llms import HuggingFaceEndpoint\n",
    "from langchain import HuggingFacePipeline\n",
    "\n",
    "from dotenv import load_dotenv\n",
    "from langchain.vectorstores import Pinecone\n",
    "from langchain.chains import RetrievalQAWithSourcesChain, RetrievalQA\n",
    "from langchain.prompts import PromptTemplate\n",
    "\n",
    "#utils\n",
    "# from src.utils import connect_index\n",
    "\n",
    "# Memory\n",
    "\n",
    "load_dotenv()\n",
    "\n",
    "import os\n",
    "os.getcwd()\n",
    "\n",
    "import sys \n",
    "\n",
    "sys.path.append(os.path.abspath(os.path.join('../')))\n",
    "\n",
    "from config import *\n",
    "from src.utils import connect_index\n",
    "from langchain.vectorstores import Pinecone"
   ]
  },
  {
   "cell_type": "code",
   "execution_count": 5,
   "metadata": {},
   "outputs": [
    {
     "name": "stdout",
     "output_type": "stream",
     "text": [
      "WARNING 2023-08-17 16:06:47,119 [root:__init__.py:_maybe_print_use_warning:468]\n",
      "\n",
      "  \u001b[33m\u001b[1mWarning:\u001b[0m to view this Streamlit app on a browser, run it with the following\n",
      "  command:\n",
      "\n",
      "    streamlit run /Users/isaac/FundamentlPartners/abinvenv-sol/venv/lib/python3.10/site-packages/ipykernel_launcher.py [ARGUMENTS]\n",
      "\n"
     ]
    },
    {
     "name": "stderr",
     "output_type": "stream",
     "text": [
      "2023-08-17 16:06:47.119 \n",
      "  \u001b[33m\u001b[1mWarning:\u001b[0m to view this Streamlit app on a browser, run it with the following\n",
      "  command:\n",
      "\n",
      "    streamlit run /Users/isaac/FundamentlPartners/abinvenv-sol/venv/lib/python3.10/site-packages/ipykernel_launcher.py [ARGUMENTS]\n"
     ]
    },
    {
     "name": "stdout",
     "output_type": "stream",
     "text": [
      "INFO 2023-08-17 16:06:47,836 [src.utils:utils.py:connect_index:13]\n",
      "Connected to Pinecone index stab-test\n",
      "\n"
     ]
    },
    {
     "name": "stderr",
     "output_type": "stream",
     "text": [
      "2023-08-17 16:06:47.836 Connected to Pinecone index stab-test\n",
      "/Users/isaac/FundamentlPartners/abinvenv-sol/venv/lib/python3.10/site-packages/langchain/vectorstores/pinecone.py:61: UserWarning: Passing in `embedding` as a Callable is deprecated. Please pass in an Embeddings object instead.\n",
      "  warnings.warn(\n"
     ]
    }
   ],
   "source": [
    "embedding_multi_qa = InferenceEndpointHuggingFaceEmbeddings(\"https://aet52zbntx9zffq4.us-east-1.aws.endpoints.huggingface.cloud\", HUGGING_FACE_API_TOKEN)\n",
    "index = connect_index(\"stab-test\")\n",
    "vector_store = Pinecone(index, embedding_multi_qa.embed_query, \"text\")\n"
   ]
  },
  {
   "cell_type": "code",
   "execution_count": 6,
   "metadata": {},
   "outputs": [],
   "source": [
    "llm = HuggingFacePipeline(pipeline=hf_pipeline) "
   ]
  },
  {
   "cell_type": "code",
   "execution_count": 20,
   "metadata": {},
   "outputs": [],
   "source": [
    "from langchain.prompts import PromptTemplate\n",
    "prompt_template = \"\"\" \n",
    "ANSWER THE QUESTION: {question}\n",
    "GIVEN THE CONTEXT: {summaries}\n",
    "ANSWER: \n",
    "\"\"\"\n",
    "prompt = PromptTemplate(\n",
    "    template=prompt_template, input_variables=[\"summaries\", \"question\"]\n",
    ")\n",
    "\n",
    "chain_type_kwargs = {\"prompt\": prompt}"
   ]
  },
  {
   "cell_type": "code",
   "execution_count": 21,
   "metadata": {},
   "outputs": [],
   "source": [
    "qa_chain = RetrievalQAWithSourcesChain.from_chain_type(\n",
    "                                llm=llm, \n",
    "                                chain_type=\"stuff\", \n",
    "                                retriever=vector_store.as_retriever(),\n",
    "                                reduce_k_below_max_tokens=True,\n",
    "                                return_source_documents=True,\n",
    "                                chain_type_kwargs=chain_type_kwargs)"
   ]
  },
  {
   "cell_type": "code",
   "execution_count": 22,
   "metadata": {},
   "outputs": [
    {
     "name": "stdout",
     "output_type": "stream",
     "text": [
      "INFO 2023-08-17 16:24:36,028 [src.models.HuggingFaceEmbeddings:HuggingFaceEmbeddings.py:embed_query:30]\n",
      "Querying Hugging Face API for What is Blockchain? inputs:\n",
      "\n"
     ]
    },
    {
     "name": "stderr",
     "output_type": "stream",
     "text": [
      "2023-08-17 16:24:36.028 Querying Hugging Face API for What is Blockchain? inputs:\n",
      "Input length of input_ids is 2689, but `max_length` is set to 20. This can lead to unexpected behavior. You should consider increasing `max_new_tokens`.\n"
     ]
    },
    {
     "data": {
      "text/plain": [
       "{'question': 'What is Blockchain?',\n",
       " 'answer': '\\n',\n",
       " 'sources': '',\n",
       " 'source_documents': [Document(page_content='process of recording transactions and tracking assets in a business network. An asset can be tangible (a house, a car, cash, land) or intangible (intellectual property, patents, copy- rights, branding). Virtually anything of value can be tracked and traded on a blockchain network, reducing risk and cutting costs for all involved.\\n\\nThat’s the elevator speech for blockchain. In the rest of this chap- ter, you review additional details to help you more fully appre- ciate this technology and its potential for streamlining business operations.\\n\\nTracing Blockchain’s Origin\\n\\nYou can gain a deeper understanding of blockchain by exploring the context in which it was developed: the need for an efficient, cost-effective, reliable, and secure system for conducting and recording financial transactions. In this section, I provide that context and describe the characteristics of blockchain that make it such a suitable solution.\\n\\nCHAPTER 1 Grasping Blockchain Fundamentals 3\\n\\nThese materials are © 2018 John Wiley & Sons, Inc. Any dissemination, distribution, or unauthorized use is strictly prohibited.\\n\\nThe shortcomings of current transaction systems\\n\\nThroughout history, instruments of trust, such as minted coins, paper money, letters of credit, and banking systems, have emerged to facilitate the exchange of value and protect buyers and sellers. Important innovations (for example, telephone lines, credit card systems, the Internet, and mobile technologies) have improved the convenience, speed, and efficiency of transactions while shrinking — and sometimes virtually eliminating — the distance between buyers and sellers.\\n\\nIn spite of this, many business transactions remain ineffi- cient, expensive, and vulnerable, suffering from the following limitations:\\n\\n» Cash is useful only in local transactions and in relatively small\\n\\namounts.\\n\\n» The time between transaction and settlement can be long. » Duplication of effort and the need for third-party validation and/or the presence of intermediaries add to inefficiencies. » Fraud, cyberattacks, and even simple mistakes add to the cost and complexity of doing business, exposing all partici- pants in the network to risk if a central system — such as a bank — is compromised.\\n\\n» Credit card organizations are walled gardens with a high price of entry. Merchants must pay the high costs of onboarding, which often involves considerable paperwork and a time-consuming vetting process.\\n\\n» Half of the world’s people don’t have access to bank\\n\\naccounts, requiring them to develop parallel payment systems to conduct transactions.\\n\\n» Limited transparency and inconsistent information hinder the efficient movement of goods in the shipping industry.\\n\\nTransaction volumes worldwide are growing exponentially and will surely magnify the complexities, vulnerabilities, inefficien- cies, and costs of current transaction systems. The growth of ecommerce, online banking, and in-app purchases, coupled with the increasing mobility of people around the world, have fueled\\n\\n4 Blockchain For Dummies, 2nd IBM Limited Edition\\n\\nThese materials are © 2018 John Wiley & Sons, Inc. Any dissemination, distribution, or unauthorized use is strictly prohibited.\\n\\nthe growth of transaction volumes. And transaction volumes are exploding with the rise of Internet of Things (IoT) — autonomous objects, such as refrigerators that buy groceries when supplies are running low and cars that deliver themselves to your door, stop- ping for fuel along the way.\\n\\nTo address these challenges and others, the world needs faster payment networks that provide mechanisms to establish trust, require no specialized equipment, have no chargebacks or monthly fees, and offer a collective bookkeeping solution for ensuring transparency and trust.\\n\\nThe emergence of Bitcoin\\n\\nOne solution that’s been developed to address the complexities, vulnerabilities, inefficiencies, and costs of current transaction systems is Bitcoin — the digital currency launched in 2009 by a mysterious person (or persons) known only by the pseudonym Satoshi Nakamoto.', metadata={'chunk': 3.0, 'data_source': 'Local', 'id': '5aecc62b86cc4d32b781ae6f7b679894', 'page': 'None', 'source': 'Blockchain%20for%20Dummies.pdf'}),\n",
       "  Document(page_content='6      Blockchain For Dummies, 2nd IBM Limited Edition\\nThese materials are © 2018 John Wiley & Sons, Inc. Any dissemination, distribution, or unauthorized use is strictly prohibited.The birth of blockchain\\nBitcoin is actually built on the foundation of blockchain, which \\nserves as Bitcoin’s shared ledger. Think of blockchain as an oper-ating system, such as Microsoft Windows or MacOS, and Bitcoin as only one of the many applications that can run on that operat-ing system. Blockchain provides the means for recording Bitcoin transactions\\xa0— the shared ledger\\xa0— but this shared ledger can be used to record any transaction and track the movement of any asset whether tangible, intangible, or digital. For example, block-chain enables securities to be settled in minutes instead of days. It \\ncan also be used to help companies manage the flow of goods and \\nrelated payments, or enable manufacturers to share production logs with original equipment manufacturers (OEMs) and regula-tors to reduce product recalls.\\nThe takeaway lesson: Bitcoin and blockchain are not the same. \\nBlockchain provides the means to record and store Bitcoin trans -\\nactions, but blockchain has many uses beyond Bitcoin. Bitcoin is \\nonly the first use case for blockchain.\\nRevolutionizing the Traditional \\nBusiness Network\\nWith traditional methods for recording transactions and track -\\ning assets, participants on a network keep their own ledgers and \\nother records. This traditional method can be expensive, partially because it involves intermediaries that charge fees for their ser -\\nvices. It’s clearly inefficient due to delays in executing agreements and the duplication of effort required to maintain numerous led-gers. It’s also vulnerable because if a central system (for example, a bank) is compromised due to fraud, cyberattack, or a simple mistake, the entire business network is affected.\\nBusiness networks also use blockchain. The blockchain architec -\\nture gives participants the ability to share a ledger that’s updated \\nthrough peer-to-peer replication each time a transaction occurs. Peer-to-peer replication  means that each participant (also called \\na node) in the network acts as both a publisher and a subscriber.', metadata={'chunk': 0.0, 'data_source': 'Local', 'id': '53b09eac9aaf43d2b49314af11e293d6', 'page': '10', 'source': 'Blockchain%20for%20Dummies.pdf'}),\n",
       "  Document(page_content='These materials are © 2018 John Wiley & Sons, Inc. Any dissemination, distribution, or unauthorized use is strictly prohibited.\\n\\nIN THIS CHAPTER\\n\\n» Breaking down the “blockchain” concept\\n\\n» Understanding what makes a blockchain\\n\\nnetwork suitable for business\\n\\n» Checking out the network participants\\n\\nand the roles they play\\n\\nChapter 2 Taking a Look at How Blockchain Works\\n\\nWhile Chapter 1 gives you a general understanding of\\n\\nwhat blockchain is and an appreciation of what it can do, you may be wondering how it works. In this chapter, I tackle that topic by taking you behind the scenes of a blockchain network without getting overly technical.\\n\\nHere, you get a glimpse of how blockchain stores transactions in a way that prevents recorded transactions from being changed. You discover the four concepts that form the foundation of a blockchain for business, and you meet the network participants to learn the various roles they play.\\n\\nWhy It’s Called “Blockchain”\\n\\nBlockchain owes its name to the way it stores transaction data — in blocks that are linked together to form a chain (see Figure 2-1). As the number of transactions grows, so does the blockchain. Blocks record and confirm the time and sequence of transactions, which are then logged into the blockchain within a discrete net- work governed by rules agreed on by the network participants.\\n\\nCHAPTER 2 Taking a Look at How Blockchain Works 13\\n\\nThese materials are © 2018 John Wiley & Sons, Inc. Any dissemination, distribution, or unauthorized use is strictly prohibited.\\n\\nFIGURE 2-1: Blockchain stores transaction records in a series of connected blocks.\\n\\nEach block contains a hash (a digital fingerprint or unique identi- fier), timestamped batches of recent valid transactions, and the hash of the previous block. The previous block hash links the blocks together and prevents any block from being altered or a block being inserted between two existing blocks. In this way, each subsequent block strengthens the verification of the previ- ous block and hence the entire blockchain. The method renders the blockchain tamper-evident, lending to the key attribute of immutability.\\n\\nTo be clear, while the blockchain contains transaction data, it’s not a replacement for databases, messaging technology, trans- action processing, or business processes. Instead, the blockchain contains verified proof of transactions. However, while blockchain essentially serves as a database for recording transactions, its benefits extend far beyond those of a traditional database. Most notably, it removes the possibility of tampering by a malicious actor (for example, a database administrator).\\n\\nWhat Makes a Blockchain Suitable for Business?\\n\\nInstead of having a blockchain that relies on the exchange of cryptocurrencies with anonymous users on a public network (as is the case with Bitcoin), a blockchain for business is a private, per- missioned network with known identities and without the need for cryptocurrencies.\\n\\n14 Blockchain For Dummies, 2nd IBM Limited Edition\\n\\nThese materials are © 2018 John Wiley & Sons, Inc. Any dissemination, distribution, or unauthorized use is strictly prohibited.\\n\\nTo further understand how a blockchain for business works, and to appreciate its potential for revolutionizing business networks, you need to understand the four key concepts of blockchain for business (see Figure 2-2).\\n\\nFIGURE 2-2: The key concepts of blockchain for business.\\n\\nThese four concepts are explained in this section.\\n\\nShared ledger\\n\\nLedgers are nothing new; they’ve been used in double-entry bookkeeping since the 15th century. What is new is the concept of a shared, distributed ledger — an immutable record of all trans- actions on the network, a record that all network participants can access. With a shared ledger, transactions are recorded only once, eliminating the duplication of effort that’s typical of tra- ditional business networks. The shared ledger has the following characteristics:', metadata={'chunk': 7.0, 'data_source': 'Local', 'id': '5aecc62b86cc4d32b781ae6f7b679894', 'page': 'None', 'source': 'Blockchain%20for%20Dummies.pdf'}),\n",
       "  Document(page_content='14      Blockchain For Dummies,  2nd IBM Limited Edition\\nThese materials are © 2018 John Wiley & Sons, Inc. Any dissemination, distribution, or unauthorized use is strictly prohibited.Each block contains a hash (a digital fingerprint or unique identi -\\nfier), timestamped batches of recent valid transactions, and the \\nhash of the previous block. The previous block hash links the \\nblocks together and prevents any block from being altered or a \\nblock being inserted between two existing blocks. In this way, \\neach subsequent block strengthens the verification of the previ-\\nous block and hence the entire blockchain. The method renders \\nthe blockchain tamper-evident, lending to the key attribute of \\nimmutability.\\nTo be clear, while the blockchain contains transaction data, it’s \\nnot a replacement for databases, messaging technology, trans -\\naction processing, or business processes. Instead, the blockchain \\ncontains verified proof of transactions. However, while  blockchain \\nessentially serves as a database for recording transactions, its \\nbenefits extend far beyond those of a traditional database. Most \\nnotably, it removes the possibility of tampering by a malicious \\nactor (for example, a database administrator).\\nWhat Makes a Blockchain \\nSuitable for Business?\\nInstead of having a blockchain that relies on the exchange of \\ncryptocurrencies with anonymous users on a public network (as is \\nthe case with Bitcoin), a blockchain for business is a private, per-\\nmissioned network with known identities and without the need \\nfor cryptocurrencies.\\nFIGURE\\xa02-1:  Blockchain stores transaction records in a series of connected \\nblocks.', metadata={'chunk': 0.0, 'data_source': 'Local', 'id': 'e5bfd8ad43b84068a2734e79ccbe5beb', 'page': '18', 'source': 'Blockchain%20for%20Dummies.pdf'})]}"
      ]
     },
     "execution_count": 22,
     "metadata": {},
     "output_type": "execute_result"
    }
   ],
   "source": [
    "qa_chain({\"question\": \"What is Blockchain?\"})\n"
   ]
  }
 ],
 "metadata": {
  "kernelspec": {
   "display_name": "venv",
   "language": "python",
   "name": "python3"
  },
  "language_info": {
   "codemirror_mode": {
    "name": "ipython",
    "version": 3
   },
   "file_extension": ".py",
   "mimetype": "text/x-python",
   "name": "python",
   "nbconvert_exporter": "python",
   "pygments_lexer": "ipython3",
   "version": "3.10.0"
  },
  "orig_nbformat": 4
 },
 "nbformat": 4,
 "nbformat_minor": 2
}
