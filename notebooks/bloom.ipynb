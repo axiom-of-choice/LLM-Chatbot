{
 "cells": [
  {
   "cell_type": "code",
   "execution_count": 2,
   "metadata": {},
   "outputs": [
    {
     "name": "stderr",
     "output_type": "stream",
     "text": [
      "/Users/isaac/FundamentlPartners/abinvenv-sol/venv/lib/python3.10/site-packages/tqdm/auto.py:21: TqdmWarning: IProgress not found. Please update jupyter and ipywidgets. See https://ipywidgets.readthedocs.io/en/stable/user_install.html\n",
      "  from .autonotebook import tqdm as notebook_tqdm\n"
     ]
    }
   ],
   "source": [
    "from transformers import BloomTokenizerFast, BloomForQuestionAnswering, BloomForCausalLM, TrainingArguments, Trainer\n",
    "import os\n",
    "from dotenv import load_dotenv\n",
    "from langchain.embeddings import HuggingFaceEmbeddings\n",
    "import pinecone\n",
    "from langchain.vectorstores import Pinecone\n",
    "from langchain.chains import RetrievalQA\n",
    "from langchain import HuggingFaceHub\n",
    "from langchain.prompts import PromptTemplate\n"
   ]
  },
  {
   "cell_type": "code",
   "execution_count": 13,
   "metadata": {},
   "outputs": [],
   "source": [
    "## LOCAL\n",
    "from transformers import BloomTokenizerFast, BloomForCausalLM,TrainingArguments, Trainer"
   ]
  },
  {
   "cell_type": "code",
   "execution_count": 14,
   "metadata": {},
   "outputs": [
    {
     "data": {
      "text/plain": [
       "True"
      ]
     },
     "execution_count": 14,
     "metadata": {},
     "output_type": "execute_result"
    }
   ],
   "source": [
    "load_dotenv()"
   ]
  },
  {
   "cell_type": "code",
   "execution_count": 12,
   "metadata": {},
   "outputs": [],
   "source": [
    "\n",
    "# Save it into pinecone\n",
    "API_KEY = os.environ.get(\"PINECONE_API_KEY\")\n",
    "YOUR_ENV = os.environ.get(\"PINECONE_ENVIRONMENT\", \"us-west4-gcp-free\")\n",
    "index_name = \"test-langchain\"\n"
   ]
  },
  {
   "cell_type": "code",
   "execution_count": 15,
   "metadata": {},
   "outputs": [
    {
     "data": {
      "text/plain": [
       "IndexDescription(name='test-langchain', metric='cosine', replicas=1, dimension=384.0, shards=1, pods=1, pod_type='p1', status={'ready': True, 'state': 'Ready'}, metadata_config=None, source_collection='')"
      ]
     },
     "execution_count": 15,
     "metadata": {},
     "output_type": "execute_result"
    }
   ],
   "source": [
    "pinecone.init(\n",
    "    api_key=API_KEY,\n",
    "    environment=YOUR_ENV\n",
    ")\n",
    "\n",
    "if len(pinecone.list_indexes()) == 0:\n",
    "    pinecone.create_index(name=index_name, metric=\"cosine\", shards=1, dimension=len(res[0]))\n",
    "\n",
    "pinecone.describe_index(pinecone.list_indexes()[0])"
   ]
  },
  {
   "cell_type": "code",
   "execution_count": 20,
   "metadata": {},
   "outputs": [],
   "source": [
    "embeddings = HuggingFaceEmbeddings(model_name = \"sentence-transformers/all-MiniLM-L6-v2\")"
   ]
  },
  {
   "cell_type": "code",
   "execution_count": 26,
   "metadata": {},
   "outputs": [],
   "source": [
    "\n",
    "# Save it into pinecone\n",
    "API_KEY = os.environ.get(\"PINECONE_API_KEY\")\n",
    "YOUR_ENV = os.environ.get(\"PINECONE_ENVIRONMENT\", \"us-west4-gcp-free\")\n",
    "index_name = \"test-langchain\""
   ]
  },
  {
   "cell_type": "code",
   "execution_count": 27,
   "metadata": {},
   "outputs": [
    {
     "data": {
      "text/plain": [
       "<pinecone.index.Index at 0x2b27ed690>"
      ]
     },
     "execution_count": 27,
     "metadata": {},
     "output_type": "execute_result"
    }
   ],
   "source": [
    "index = pinecone.Index(index_name)\n",
    "index"
   ]
  },
  {
   "cell_type": "code",
   "execution_count": 18,
   "metadata": {},
   "outputs": [],
   "source": [
    "text_field = \"text\"\n",
    "\n",
    "index = pinecone.Index(index_name)"
   ]
  },
  {
   "cell_type": "code",
   "execution_count": 21,
   "metadata": {},
   "outputs": [],
   "source": [
    "vectorstore = Pinecone(index, embeddings.embed_query, text_field)"
   ]
  },
  {
   "cell_type": "code",
   "execution_count": 30,
   "metadata": {},
   "outputs": [],
   "source": [
    "\n",
    "LLM = HuggingFaceHub(repo_id='bigscience/bloomz-560m')"
   ]
  },
  {
   "cell_type": "code",
   "execution_count": 31,
   "metadata": {},
   "outputs": [],
   "source": [
    "# prompt_template = \"\"\"\n",
    "# Using the following pieces of context answer the question \n",
    "# {context}\n",
    "# \n",
    "# Question: {question}\n",
    "# \"\"\"\n",
    "# \n",
    "# PROMPT = PromptTemplate(template=prompt_template, input_variables=[\"context\", \"question\"])"
   ]
  },
  {
   "cell_type": "code",
   "execution_count": 32,
   "metadata": {},
   "outputs": [],
   "source": [
    "# chain_type_kwargs = {\"prompt\": PROMPT}"
   ]
  },
  {
   "cell_type": "code",
   "execution_count": 42,
   "metadata": {},
   "outputs": [],
   "source": [
    "\n",
    "qa = RetrievalQA.from_chain_type(llm=LLM, chain_type=\"refine\", \n",
    "                                 retriever=vectorstore.as_retriever(), \n",
    "                                 return_source_documents=True,\n",
    "                                 #chain_type_kwargs=chain_type_kwargs\n",
    "                                 )"
   ]
  },
  {
   "cell_type": "code",
   "execution_count": 43,
   "metadata": {},
   "outputs": [
    {
     "name": "stderr",
     "output_type": "stream",
     "text": [
      "/Users/isaac/FundamentlPartners/abinvenv-sol/venv/lib/python3.10/site-packages/transformers/generation/utils.py:1353: UserWarning: Using `max_length`'s default (20) to control the generation length. This behaviour is deprecated and will be removed from the config in v5 of Transformers -- we recommend using `max_new_tokens` to control the maximum length of the generation.\n",
      "  warnings.warn(\n",
      "Input length of input_ids is 353, but `max_length` is set to 20. This can lead to unexpected behavior. You should consider increasing `max_new_tokens`.\n",
      "Input length of input_ids is 451, but `max_length` is set to 20. This can lead to unexpected behavior. You should consider increasing `max_new_tokens`.\n",
      "Input length of input_ids is 457, but `max_length` is set to 20. This can lead to unexpected behavior. You should consider increasing `max_new_tokens`.\n",
      "Input length of input_ids is 331, but `max_length` is set to 20. This can lead to unexpected behavior. You should consider increasing `max_new_tokens`.\n"
     ]
    }
   ],
   "source": [
    "query = \"who was Benito Mussolini?\"\n",
    "result = qa({\"query\": query})"
   ]
  },
  {
   "cell_type": "code",
   "execution_count": 44,
   "metadata": {},
   "outputs": [
    {
     "data": {
      "text/plain": [
       "{'query': 'who was Benito Mussolini?',\n",
       " 'result': ' Mussolini',\n",
       " 'source_documents': [Document(page_content='Benito Amilcare Andrea Mussolini KSMOM GCTE (29 July 1883 – 28 April 1945) was an Italian politician and journalist. He was also the Prime Minister of Italy from 1922 until 1943. He was the leader of the National Fascist Party.\\n\\nBiography\\n\\nEarly life\\nBenito Mussolini was named after Benito Juarez, a Mexican opponent of the political power of the Roman Catholic Church, by his anticlerical (a person who opposes the political interference of the Roman Catholic Church in secular affairs) father. Mussolini\\'s father was a blacksmith. Before being involved in politics, Mussolini was a newspaper editor (where he learned all his propaganda skills) and elementary school teacher.\\n\\nAt first, Mussolini was a socialist, but when he wanted Italy to join the First World War, he was thrown out of the socialist party. He \\'invented\\' a new ideology, Fascism, much out of Nationalist\\xa0and Conservative views.\\n\\nRise to power and becoming dictator\\nIn 1922, he took power by having a large group of men, \"Black Shirts,\" march on Rome and threaten to take over the government. King Vittorio Emanuele III gave in, allowed him to form a government, and made him prime minister. In the following five years, he gained power, and in 1927 created the OVRA, his personal secret police force. Using the agency to arrest, scare, or murder people against his regime, Mussolini was dictator\\xa0of Italy by the end of 1927. Only the King and his own Fascist party could challenge his power.', metadata={'chunk': 0.0, 'source': 'https://simple.wikipedia.org/wiki/Benito%20Mussolini', 'title': 'Benito Mussolini', 'wiki-id': '6754'}),\n",
       "  Document(page_content='Fascism as practiced by Mussolini\\nMussolini\\'s form of Fascism, \"Italian Fascism\"- unlike Nazism, the racist ideology that Adolf Hitler followed- was different and less destructive than Hitler\\'s. Although a believer in the superiority of the Italian nation and national unity, Mussolini, unlike Hitler, is quoted \"Race? It is a feeling, not a reality. Nothing will ever make me believe that biologically pure races can be shown to exist today\".\\n\\nMussolini wanted Italy to become a new Roman Empire. In 1923, he attacked the island of Corfu, and in 1924, he occupied the city state of Fiume. In 1935, he attacked the African country Abyssinia (now called Ethiopia). His forces occupied it in 1936. Italy was thrown out of the League of Nations because of this aggression. In 1939, he occupied the country Albania. In 1936, Mussolini signed an alliance with Adolf Hitler, the dictator of Germany.\\n\\nFall from power and death\\nIn 1940, he sent Italy into the Second World War on the side of the Axis countries. Mussolini attacked Greece, but he failed to conquer it. In 1943, the Allies landed in Southern Italy. The Fascist party and King Vittorio Emanuel III deposed Mussolini and put him in jail, but he was set free by the Germans, who made him ruler of the Italian Social Republic puppet state which was in a small part of Central Italy. When the war was almost over, Mussolini tried to escape to Switzerland with his mistress, Clara Petacci, but they were both captured and shot by partisans. Mussolini\\'s dead body was hanged upside-down, together with his mistress and some of Mussolini\\'s helpers, on a pole at a gas station in the village of Millan, which is near the border  between Italy and Switzerland.', metadata={'chunk': 1.0, 'source': 'https://simple.wikipedia.org/wiki/Benito%20Mussolini', 'title': 'Benito Mussolini', 'wiki-id': '6754'}),\n",
       "  Document(page_content='Fascism is a far-right form of government in which most of the country\\'s power is held by one ruler. Fascist governments are usually totalitarian and authoritarian one-party states. Under fascism, the economy and other parts of society are heavily and closely controlled by the government, usually by using a form of authoritarian corporatism. The government uses violence to arrest, kill or otherwise stop anyone it does not like.\\n\\nThree large fascist countries were Italy under Benito Mussolini, Nazi Germany under Adolf Hitler, and Spain under Francisco Franco.\\n\\nMussolini invented fascism in Italy in the late 1910s and developed it fully in the 1930s. When Hitler came to power in Germany in the 1930s, he copied Mussolini. Mussolini wrote a political paper, which is called The Doctrine of Fascism in English. He started writing it in 1927, but it was only published in 1932. Most of it was probably written by Giovanni Gentile, an Italian philosopher.\\n\\nMain ideas\\nNot all scholars agree on what fascism is. Philosopher Jason Stanley of Yale University says it is \"a cult of the leader who promises national restoration in the face of humiliation brought on by supposed communists, Marxists and minorities and immigrants who are supposedly posing a threat to the character and the history of a nation.\" That is, fascism focuses on one person as leader, fascism says communism is bad, and fascism says that at least one group of people is bad and has caused the nation\\'s problems. This group could be people from other countries or groups of people within the country. Under Hitler\\'s fascist Germany, the government blamed Jews, communists, homosexuals, the disabled, Roma and other people for Germany\\'s problems, arrested those people, and took them to camps to be killed.\\n\\nIn 2003, Laurence W. Britt wrote \"14 Defining Characteristics of Fascism\":', metadata={'chunk': 0.0, 'source': 'https://simple.wikipedia.org/wiki/Fascism', 'title': 'Fascism', 'wiki-id': '15210'}),\n",
       "  Document(page_content='Veneto was made part of Italy in 1866 after a war with Austria. Italian soldiers won Latium in 1870. That was when they took away the Pope\\'s power. The Pope, who was angry, said that he was a prisoner to keep Catholic people from being active in politics. That was the year of Italian unification.\\n\\nItaly participated in World War I. It was an ally of Great Britain, France, and Russia against the Central Powers. Almost all of Italy\\'s fighting was on the Eastern border, near Austria. After the \"Caporetto defeat\", Italy thought they would lose the war. But, in 1918, the Central Powers surrendered. Italy gained the Trentino-South Tyrol, which once was owned by Austria.\\n\\nFascist Italy \\nIn 1922, a new Italian government started. It was ruled by Benito Mussolini, the leader of Fascism in Italy. He became head of government and dictator, calling himself \"Il Duce\" (which means \"leader\" in Italian). He became friends with German dictator Adolf Hitler. Germany, Japan, and Italy became the Axis Powers. In 1940, they entered World War II together against France, Great Britain, and later the Soviet Union. During the war, Italy controlled most of the Mediterranean Sea.', metadata={'chunk': 5.0, 'source': 'https://simple.wikipedia.org/wiki/Italy', 'title': 'Italy', 'wiki-id': '363'})]}"
      ]
     },
     "execution_count": 44,
     "metadata": {},
     "output_type": "execute_result"
    }
   ],
   "source": [
    "result"
   ]
  },
  {
   "attachments": {},
   "cell_type": "markdown",
   "metadata": {},
   "source": [
    "## LOCAL"
   ]
  },
  {
   "cell_type": "code",
   "execution_count": 4,
   "metadata": {},
   "outputs": [],
   "source": [
    "from transformers import AutoTokenizer, AutoModelForCausalLM"
   ]
  },
  {
   "cell_type": "code",
   "execution_count": 46,
   "metadata": {},
   "outputs": [
    {
     "name": "stderr",
     "output_type": "stream",
     "text": [
      "Downloading (…)okenizer_config.json: 100%|██████████| 222/222 [00:00<00:00, 1.35MB/s]\n",
      "Downloading tokenizer.json: 100%|██████████| 14.5M/14.5M [00:00<00:00, 18.1MB/s]\n",
      "Downloading (…)cial_tokens_map.json: 100%|██████████| 85.0/85.0 [00:00<00:00, 348kB/s]\n",
      "Downloading (…)lve/main/config.json: 100%|██████████| 715/715 [00:00<00:00, 6.94MB/s]\n",
      "Downloading model.safetensors: 100%|██████████| 2.13G/2.13G [01:33<00:00, 22.8MB/s]\n"
     ]
    }
   ],
   "source": [
    "checkpoint = \"bigscience/bloomz-1b1\"\n",
    "okenizer = AutoTokenizer.from_pretrained(checkpoint)\n",
    "model = AutoModelForCausalLM.from_pretrained(checkpoint).to(\"mps\")"
   ]
  },
  {
   "cell_type": "code",
   "execution_count": 7,
   "metadata": {},
   "outputs": [],
   "source": [
    "from langchain import HuggingFacePipeline, LLMChain\n",
    "from transformers import pipeline"
   ]
  },
  {
   "cell_type": "code",
   "execution_count": 5,
   "metadata": {},
   "outputs": [],
   "source": [
    "training_args = TrainingArguments(output_dir=\"test_trainer\", use_mps_device=True)"
   ]
  },
  {
   "cell_type": "code",
   "execution_count": 25,
   "metadata": {},
   "outputs": [
    {
     "data": {
      "text/plain": [
       "[Document(page_content='Adolf Hitler (20 April 1889 – 30 April 1945) was an Austrian-born German politician and the leader of Nazi Germany. He became Chancellor of Germany in 1933, after a democratic election in 1932. He became Führer (leader) of Nazi Germany in 1934.\\n\\nHitler led the NSDAP, or the Nazi Party from 1921. When in power, the Nazis created a dictatorship called the Third Reich. In 1933, they blocked out all other political parties. This gave Hitler absolute power.\\n\\nHitler ordered the invasion of Poland in 1939, and this started World War II. Because of Hitler, at least 50 million people died. During World War II, Hitler was the Commander-in-Chief of the German Armed Forces and made all the important decisions. This was part of the so-called Führerprinzip. He shot himself on 30 April 1945, as the Soviet Army got to Berlin, because he did not want to be captured alive by the Soviet Union.\\n\\nHitler and the Nazi regime were responsible for the killing of an estimated 19.3 million civilians and prisoners of war. In addition, 28.7 million soldiers and people died as a result of military action in Europe.\\n\\nNazi forces committed many war crimes during the war. They were doing what Hitler told them to do. They killed their enemies or put them in concentration camps and death camps. Hitler and his men persecuted and killed Jews and other ethnic, religious, and political minorities. In what is called the Holocaust, the Nazis killed six million Jews, Roma people, homosexuals, Slavs, and many other groups of people.', metadata={'chunk': 0.0, 'source': 'https://simple.wikipedia.org/wiki/Adolf%20Hitler', 'title': 'Adolf Hitler', 'wiki-id': '4457'}),\n",
       " Document(page_content='Hitler in history\\nIan Kershaw, a historian who wrote a biography (life story) of Hitler, describes him as a modern symbol of evil. \"Never in history has such [ruin] ... been associated with the name of one man.\" However, Kershaw and some other historians believe that it is more important to look at the wider problems in Germany at the time, rather than at Hitler himself, when they explain why the war and the Holocaust happened.\\n\\nRelated pages \\n Nazism\\n Nationalsozialistische Deutsche Arbeiterpartei\\n Fascism\\n Racism\\n World War II\\n Mein Kampf\\n\\nReferences\\n\\nMore reading\\n\\nOther websites \\n Mondo Politico Library\\'s presentation of Adolf Hitler\\'s book, Mein Kampf (full text, formatted for easy on-screen reading)\\n\\n1889 births\\n1945 deaths\\nAnti-Communists\\nAustrian painters\\nAustrian politicians\\nChancellors of Nazi Germany\\nFormer dictators\\nFormer Roman Catholics\\nGerman military personnel of World War I\\nGerman military personnel of World War II\\nGerman painters\\nHitler family\\nHolocaust perpetrators\\nMembers of the Reichstag (Nazi Germany)\\nMembers of the Reichstag (Weimar Republic)\\nMinisters-President of Prussia\\nMurderers\\n\\nNazis who committed suicide\\nPeople from Upper Austria\\nPeople with borderline personality disorder\\nPoliticians of the Nazi Party\\nPoliticians who committed suicide\\nPresidents of Nazi Germany\\nSuicides by firearm in Germany\\nTime People of the Year', metadata={'chunk': 6.0, 'source': 'https://simple.wikipedia.org/wiki/Adolf%20Hitler', 'title': 'Adolf Hitler', 'wiki-id': '4457'}),\n",
       " Document(page_content='9 November 1923 - 16 Nazis and 4 Bavarian State Police officers were killed in a gunfight between the Nazis and the police in Residenzstraße. Hitler was arrested two days later.\\n\\nResults \\nHitler and several of his friends were taken to court for treason, because they took up arms against the government. In the end, Hitler was sent to prison for about eight months, and the Nazi Party broke up (however, it would later get back together).\\n\\nMore people learned about Hitler. Before this happened, he was unknown. But after this, he was a hero to many. Many Germans at that time wanted a strong leadership after the governments of the Weimar Republic.\\n\\nHitler also took the time he had to spend in prison to write a book, called Mein Kampf or \"My Struggle\". It sold millions and told people about his ideas. Mein Kampf also made Hitler popular. (Hitler did not actually write the words down himself. Instead, he told another Nazi, Rudolf Hess, what to write down, and Hess wrote the words down.)\\n\\nHitler also had to re-think his strategy. He realised he could not take power the same way that Mussolini had done. Instead, he had to get power through being elected.\\n\\nCausalities \\nThe people who died during the Putsch are seen as the first to die for the Nazi Party and are mentioned in Mein Kampf as Martyrs.\\n Felix Alfarth\\n Andreas Bauriedl\\n Theodor Casella\\n William Ehrlich\\n Martin Faust\\n Anton Hechenberger\\n Oskar Körner\\n Karl Kuhn\\n Karl Laforce\\n Kurt Neubauer\\n Klaus von Pape\\n Theodor von der Pfordten\\n Johann Rickmers\\n Max Erwin von Scheubner-Richter\\n Lorenz Ritter von Stransky\\n Wilhelm Wolf', metadata={'chunk': 1.0, 'source': 'https://simple.wikipedia.org/wiki/Beer%20Hall%20Putsch', 'title': 'Beer Hall Putsch', 'wiki-id': '19949'})]"
      ]
     },
     "execution_count": 25,
     "metadata": {},
     "output_type": "execute_result"
    }
   ],
   "source": [
    "query = \"Who was Adolf hitler?\"\n",
    "\n",
    "vectorstore.similarity_search(query, k=3)"
   ]
  },
  {
   "cell_type": "code",
   "execution_count": 26,
   "metadata": {},
   "outputs": [],
   "source": [
    "docs = vectorstore.similarity_search(query, k=3)[0]\n",
    "body = docs.page_content\n",
    "source = docs.metadata['source']"
   ]
  },
  {
   "cell_type": "code",
   "execution_count": 8,
   "metadata": {},
   "outputs": [
    {
     "name": "stderr",
     "output_type": "stream",
     "text": [
      "Xformers is not installed correctly. If you want to use memory_efficient_attention to accelerate training use the following command to install Xformers\n",
      "pip install xformers.\n"
     ]
    }
   ],
   "source": [
    "LLM  = HuggingFacePipeline.from_model_id(\"bigscience/bloomz-560m\", task=\"text-generation\")"
   ]
  },
  {
   "cell_type": "code",
   "execution_count": 47,
   "metadata": {},
   "outputs": [
    {
     "ename": "NameError",
     "evalue": "name 'body' is not defined",
     "output_type": "error",
     "traceback": [
      "\u001b[0;31m---------------------------------------------------------------------------\u001b[0m",
      "\u001b[0;31mNameError\u001b[0m                                 Traceback (most recent call last)",
      "Cell \u001b[0;32mIn[47], line 1\u001b[0m\n\u001b[0;32m----> 1\u001b[0m prompt \u001b[39m=\u001b[39m \u001b[39mf\u001b[39m\u001b[39m\"\"\"\u001b[39m\u001b[39mUsing only the following context: \u001b[39m\u001b[39m{\u001b[39;00mbody\u001b[39m}\u001b[39;00m\u001b[39m answer the following \u001b[39m\n\u001b[1;32m      2\u001b[0m \u001b[39mQuestion: \u001b[39m\u001b[39m{\u001b[39;00mquery\u001b[39m}\u001b[39;00m\n\u001b[1;32m      3\u001b[0m \n\u001b[1;32m      4\u001b[0m \u001b[39mAnswer:\u001b[39m\n\u001b[1;32m      5\u001b[0m \u001b[39m\"\"\"\u001b[39m\n\u001b[1;32m      6\u001b[0m prompt\n",
      "\u001b[0;31mNameError\u001b[0m: name 'body' is not defined"
     ]
    }
   ],
   "source": [
    "prompt = f\"\"\"Using only the following context: {body} answer the following \n",
    "Question: {query}\n",
    "\n",
    "Answer:\n",
    "\"\"\"\n",
    "prompt"
   ]
  },
  {
   "cell_type": "code",
   "execution_count": 48,
   "metadata": {},
   "outputs": [],
   "source": [
    "generator = pipeline(\"text-generation\", model=model, tokenizer=tokenizer, device=\"mps\", do_sample=False)\n"
   ]
  },
  {
   "cell_type": "code",
   "execution_count": 49,
   "metadata": {},
   "outputs": [
    {
     "data": {
      "text/plain": [
       "BloomForCausalLM(\n",
       "  (transformer): BloomModel(\n",
       "    (word_embeddings): Embedding(250880, 1536)\n",
       "    (word_embeddings_layernorm): LayerNorm((1536,), eps=1e-05, elementwise_affine=True)\n",
       "    (h): ModuleList(\n",
       "      (0-23): 24 x BloomBlock(\n",
       "        (input_layernorm): LayerNorm((1536,), eps=1e-05, elementwise_affine=True)\n",
       "        (self_attention): BloomAttention(\n",
       "          (query_key_value): Linear(in_features=1536, out_features=4608, bias=True)\n",
       "          (dense): Linear(in_features=1536, out_features=1536, bias=True)\n",
       "          (attention_dropout): Dropout(p=0.0, inplace=False)\n",
       "        )\n",
       "        (post_attention_layernorm): LayerNorm((1536,), eps=1e-05, elementwise_affine=True)\n",
       "        (mlp): BloomMLP(\n",
       "          (dense_h_to_4h): Linear(in_features=1536, out_features=6144, bias=True)\n",
       "          (gelu_impl): BloomGelu()\n",
       "          (dense_4h_to_h): Linear(in_features=6144, out_features=1536, bias=True)\n",
       "        )\n",
       "      )\n",
       "    )\n",
       "    (ln_f): LayerNorm((1536,), eps=1e-05, elementwise_affine=True)\n",
       "  )\n",
       "  (lm_head): Linear(in_features=1536, out_features=250880, bias=False)\n",
       ")"
      ]
     },
     "execution_count": 49,
     "metadata": {},
     "output_type": "execute_result"
    }
   ],
   "source": [
    "generator.model"
   ]
  },
  {
   "cell_type": "code",
   "execution_count": 50,
   "metadata": {},
   "outputs": [],
   "source": [
    "prompt = \"\"\"\n",
    "Generate a complicted sentence using the following context:\n",
    "'Using only the following context: Adolf Hitler (20 April 1889 – 30 April 1945) was an Austrian-born German politician and the leader of Nazi Germany. He became Chancellor of Germany in 1933, after a democratic election in 1932. He became Führer (leader) of Nazi Germany in 1934.\\n\\nHitler led the NSDAP, or the Nazi Party from 1921. When in power, the Nazis created a dictatorship called the Third Reich. In 1933, they blocked out all other political parties. This gave Hitler absolute power.\\n\\nHitler ordered the invasion of Poland in 1939, and this started World War II. Because of Hitler, at least 50 million people died. During World War II, Hitler was the Commander-in-Chief of the German Armed Forces and made all the important decisions. This was part of the so-called Führerprinzip. He shot himself on 30 April 1945, as the Soviet Army got to Berlin, because he did not want to be captured alive by the Soviet Union.\\n\\nHitler and the Nazi regime were responsible for the killing of an estimated 19.3 million civilians and prisoners of war. In addition, 28.7 million soldiers and people died as a result of military action in Europe.\\n\\nNazi forces committed many war crimes during the war. They were doing what Hitler told them to do. They killed their enemies or put them in concentration camps and death camps. Hitler and his men persecuted and killed Jews and other ethnic, religious, and political minorities. In what is called the Holocaust, the Nazis killed six million Jews, Roma people, homosexuals, Slavs, and many other groups of people.\n",
    "Answer the following question:\n",
    "What did Adolf Hitler?\n",
    "\n",
    "\"\"\""
   ]
  },
  {
   "cell_type": "code",
   "execution_count": 57,
   "metadata": {},
   "outputs": [],
   "source": [
    "prompt = \"\"\"\n",
    "\n",
    "Based on the context: 'John is 4 times as old as Bob. Bob is 3 years younger than Mike. Mike is 10 years old.'\n",
    "\n",
    "Answer:\n",
    "\n",
    "'What is John's age?'\n",
    "\n",
    "Explain the solution to the following problem step by step.\n",
    "\n",
    "\n",
    "\"\"\""
   ]
  },
  {
   "cell_type": "code",
   "execution_count": 58,
   "metadata": {},
   "outputs": [],
   "source": [
    "result = generator(prompt, max_new_tokens = 100000)"
   ]
  },
  {
   "cell_type": "code",
   "execution_count": 59,
   "metadata": {},
   "outputs": [
    {
     "data": {
      "text/plain": [
       "[{'generated_text': \"\\n\\nBased on the context: 'John is 4 times as old as Bob. Bob is 3 years younger than Mike. Mike is 10 years old.'\\n\\nAnswer:\\n\\n'What is John's age?'\\n\\nExplain the solution to the following problem step by step.\\n\\n\\n4\"}]"
      ]
     },
     "execution_count": 59,
     "metadata": {},
     "output_type": "execute_result"
    }
   ],
   "source": [
    "result"
   ]
  }
 ],
 "metadata": {
  "kernelspec": {
   "display_name": "venv",
   "language": "python",
   "name": "python3"
  },
  "language_info": {
   "codemirror_mode": {
    "name": "ipython",
    "version": 3
   },
   "file_extension": ".py",
   "mimetype": "text/x-python",
   "name": "python",
   "nbconvert_exporter": "python",
   "pygments_lexer": "ipython3",
   "version": "3.10.0"
  },
  "orig_nbformat": 4
 },
 "nbformat": 4,
 "nbformat_minor": 2
}
